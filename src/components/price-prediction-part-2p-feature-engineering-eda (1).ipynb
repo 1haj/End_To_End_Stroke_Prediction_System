{
 "cells": [
  {
   "cell_type": "markdown",
   "id": "a4a51d82",
   "metadata": {
    "papermill": {
     "duration": 0.027211,
     "end_time": "2022-06-22T12:34:53.801221",
     "exception": false,
     "start_time": "2022-06-22T12:34:53.774010",
     "status": "completed"
    },
    "tags": []
   },
   "source": [
    "<h1><center>Edinburgh Airbnb Price Prediction - Part 1: Feature Engineering and EDA</center></h1>"
   ]
  },
  {
   "cell_type": "markdown",
   "id": "d73038ae",
   "metadata": {
    "papermill": {
     "duration": 0.021338,
     "end_time": "2022-06-22T12:34:53.844571",
     "exception": false,
     "start_time": "2022-06-22T12:34:53.823233",
     "status": "completed"
    },
    "tags": []
   },
   "source": [
    "## Introduction\n",
    "\n",
    "The goal of this case study is to develop a robust machine learning model that can accurately predict the average nightly price of Airbnb listings in the beautiful and historic city of Edinburgh, Scotland. This insight can help prospective Airbnb hosts set competitive and fair prices, while also giving guests a realistic idea of what to expect in different areas of the city before booking. In addition, this analysis may serve as a valuable reference for local councils to help balance the short-term rental market with long-term housing needs in the private rented sector.\n",
    "\n",
    "Part 1 of this study focuses on feature engineering. Relevant features are carefully cleaned and transformed to ensure they are ready for training effective machine learning models. Although exploratory data analysis (EDA) and visualization are applied, they are not the main focus here; instead, EDA is used primarily to understand data distributions, detect outliers, and support the imputation of missing values.\n",
    "\n",
    "Part 2 shifts to building the predictive models (see Part 2). Two algorithms—Deep Learning Neural Networks and XGBoost—are implemented and compared to achieve the most accurate predictions, measured by the lowest root mean squared error (RMSE)."
   ]
  },
  {
   "cell_type": "markdown",
   "id": "c691ed0e",
   "metadata": {
    "papermill": {
     "duration": 0.021184,
     "end_time": "2022-06-22T12:34:53.932026",
     "exception": false,
     "start_time": "2022-06-22T12:34:53.910842",
     "status": "completed"
    },
    "tags": []
   },
   "source": [
    "### Import libaries"
   ]
  },
  {
   "cell_type": "code",
   "execution_count": 1,
   "id": "99414dc5-7c84-460b-afdf-30d08c65fbfd",
   "metadata": {},
   "outputs": [
    {
     "data": {
      "text/plain": [
       "'d:\\\\Edinburgh_Price_lists\\\\edin_env\\\\python.exe'"
      ]
     },
     "execution_count": 1,
     "metadata": {},
     "output_type": "execute_result"
    }
   ],
   "source": [
    "import sys\n",
    "sys.executable\n"
   ]
  },
  {
   "cell_type": "code",
   "execution_count": 48,
   "id": "a99e58bd",
   "metadata": {
    "papermill": {
     "duration": 1.390799,
     "end_time": "2022-06-22T12:34:55.346807",
     "exception": false,
     "start_time": "2022-06-22T12:34:53.956008",
     "status": "completed"
    },
    "tags": []
   },
   "outputs": [],
   "source": [
    "import numpy as np\n",
    "import pandas as pd\n",
    "import matplotlib.pyplot as plt\n",
    "import seaborn as sns\n",
    "\n",
    "from sklearn.impute import KNNImputer\n",
    "from sklearn.model_selection import train_test_split\n",
    "\n",
    "from sklearn.preprocessing import StandardScaler\n",
    "from sklearn.neighbors import KNeighborsRegressor\n",
    "from sklearn.tree import DecisionTreeRegressor\n",
    "from sklearn.linear_model import LinearRegression\n",
    "from sklearn.metrics import make_scorer, mean_squared_error\n",
    "from sklearn.model_selection import cross_val_score, KFold,cross_validate\n",
    "from sklearn.ensemble import RandomForestRegressor\n",
    "from xgboost import XGBRegressor\n",
    "import xgboost as xgb\n",
    "from sklearn.model_selection import GridSearchCV\n",
    "from sklearn.preprocessing import StandardScaler\n",
    "from sklearn import metrics\n",
    "from sklearn.pipeline import Pipeline\n",
    "from sklearn.preprocessing import PolynomialFeatures\n",
    "\n",
    "import joblib\n",
    "import warnings\n",
    "\n",
    "warnings.filterwarnings(\"ignore\")\n"
   ]
  },
  {
   "cell_type": "markdown",
   "id": "ae6c94e7",
   "metadata": {
    "papermill": {
     "duration": 0.028059,
     "end_time": "2022-06-22T12:34:55.404587",
     "exception": false,
     "start_time": "2022-06-22T12:34:55.376528",
     "status": "completed"
    },
    "tags": []
   },
   "source": [
    "### Load the data"
   ]
  },
  {
   "cell_type": "code",
   "execution_count": 4,
   "id": "54d7acf4",
   "metadata": {},
   "outputs": [
    {
     "data": {
      "text/plain": [
       "'d:\\\\Edinburgh_Airbnb_Price_Prediction'"
      ]
     },
     "execution_count": 4,
     "metadata": {},
     "output_type": "execute_result"
    }
   ],
   "source": [
    "import os\n",
    "os.chdir(\"..\")\n",
    "os.getcwd()"
   ]
  },
  {
   "cell_type": "code",
   "execution_count": 49,
   "id": "646e3f02",
   "metadata": {
    "papermill": {
     "duration": 6.900714,
     "end_time": "2022-06-22T12:35:02.339440",
     "exception": false,
     "start_time": "2022-06-22T12:34:55.438726",
     "status": "completed"
    },
    "tags": []
   },
   "outputs": [],
   "source": [
    "\n",
    "# Load property data\n",
    "properties_df = pd.read_csv('notebook/data/origianl_data_listings.csv', low_memory=False)\n",
    "\n",
    "# Load availability data\n",
    "availability_df = pd.read_csv('notebook/data/original_data_calendar.csv')"
   ]
  },
  {
   "cell_type": "markdown",
   "id": "0133c01f",
   "metadata": {},
   "source": [
    "<a id=\"setup\"></a>\n",
    "# <p style=\"background-color: #1900ffff; font-family:calibri; color:white; font-size:80%; font-family:Verdana; text-align:center; border-radius:10px 30px;\">Creat the target variable `price`</p>\n",
    "⬆️ [Tabel of Contents](#contents_tabel)"
   ]
  },
  {
   "cell_type": "code",
   "execution_count": 50,
   "id": "beb7b878-c5c0-4999-84a5-a1ad701339b3",
   "metadata": {},
   "outputs": [
    {
     "data": {
      "text/plain": [
       "Index(['id', 'price_target'], dtype='object')"
      ]
     },
     "execution_count": 50,
     "metadata": {},
     "output_type": "execute_result"
    }
   ],
   "source": [
    "availability_df.rename(columns={'listing_id':'id','price':'price_target'},inplace=True)\n",
    "availability_df=availability_df[['id','price_target']]\n",
    "availability_df.columns"
   ]
  },
  {
   "cell_type": "code",
   "execution_count": 51,
   "id": "55a5c65d",
   "metadata": {},
   "outputs": [],
   "source": [
    "properties_df.set_index('id',inplace=True)\n",
    "availability_df.set_index('id',inplace=True)\n"
   ]
  },
  {
   "cell_type": "code",
   "execution_count": 52,
   "id": "abe66e3b",
   "metadata": {},
   "outputs": [],
   "source": [
    "availability_df.price_target=availability_df.price_target.apply(lambda x:float(str(x).replace(\"$\",'').replace(',','')))\n",
    "availability_df=availability_df.groupby('id').aggregate({'price_target':'mean'})"
   ]
  },
  {
   "cell_type": "code",
   "execution_count": null,
   "id": "5d0d2c55",
   "metadata": {},
   "outputs": [],
   "source": [
    "numeric_cols = ['bathrooms', 'bedrooms', 'beds', 'accommodates', 'guests_included','host_response_rate',\n",
    "                'minimum_nights_avg_ntm', 'maximum_nights_avg_ntm', 'security_deposit','review_scores_rating','number_of_reviews',\n",
    "                'cleaning_fee', 'extra_people','reviews_per_month','price_target']\n",
    "categorical_columns = [\n",
    "    'room_type', 'property_type', 'neighbourhood_cleansed', 'host_response_time',\n",
    "    'host_is_superhost', 'bed_type', 'instant_bookable', 'cancellation_policy'\n",
    "]"
   ]
  },
  {
   "cell_type": "code",
   "execution_count": 93,
   "id": "865a8323",
   "metadata": {},
   "outputs": [
    {
     "data": {
      "text/plain": [
       "array(['Old Town, Princes Street and Leith Street',\n",
       "       'Meadows and Southside', 'Joppa', 'South Leith',\n",
       "       'Canongate, Southside and Dumbiedykes', 'New Town West',\n",
       "       'Tollcross', 'Hillside and Calton Hill', 'Deans Village',\n",
       "       'New Town East and Gayfield', 'North Leith and Newhaven',\n",
       "       'Leith (Albert Street)', \"Siverknowes and Davidson's Mains\",\n",
       "       'Dalry and Fountainbridge', 'Merchiston and Greenhill',\n",
       "       'Meadowbank and Abbeyhill North',\n",
       "       'Leith (Hermitage and Prospect Bank)',\n",
       "       'Jewel, Brunstane and Newcraighall',\n",
       "       'The Shore and Constitution Street',\n",
       "       'Easter Road and Hawkhill Avenue', 'Murrayfield and Ravelston',\n",
       "       'Marchmont East and Sciennes', 'Drylaw', 'Broughton South',\n",
       "       'Trinity East and The Dudleys', 'Newington and Dalkeith Road',\n",
       "       'Marchmont West', 'Broughton North and Powderhall', 'Oxgangs',\n",
       "       'Portobello', 'Bonnington', 'Bruntsfield', 'Pilrig',\n",
       "       'Comiston and Swanston', 'Willowbrae and Duddingston Village',\n",
       "       'Shandon', 'Corstorphine', 'Abbeyhill', 'Prestonfield',\n",
       "       'Barnton, Cammo and Cramond South', 'Stockbridge',\n",
       "       'Boswall and Pilton', 'Gorgie East',\n",
       "       'Western Harbour and Leith Docks', 'Granton West and Salvesen',\n",
       "       'Baberton and Juniper Green', 'Polwarth', 'Great Junction Street',\n",
       "       'Morningside', 'Blackford, West Mains and Mayfield Road',\n",
       "       'Ratho, Ingliston and Gogar', 'Northfield and Piershill',\n",
       "       'The Inch', 'Balgreen and Roseburn',\n",
       "       'Canonmills and New Town North',\n",
       "       'Craigleith, Orchard Brae and Crewe Toll',\n",
       "       'Inverleith, Goldenacre and Warriston',\n",
       "       'Liberton West and Braid Hills', 'Trinity',\n",
       "       'Morningside and Craighouse', 'Granton and Royston Mains',\n",
       "       'Comely Bank', 'Craigmillar', 'Carrick Knowe', 'Queensferry East',\n",
       "       'Craigentinny', 'Dalmeny, Kirkliston and Newbridge', 'West Pilton',\n",
       "       'The Grange', 'Muirhouse', 'Colinton and Kingsknowe', 'Blackhall',\n",
       "       'Gracemount, Southhouse and Burdiehouse',\n",
       "       'Duddingston and Portobello South', 'Craiglockhart',\n",
       "       'Moredun and Craigour', 'Clermiston and Drumbrae',\n",
       "       'Bonaly and The Pentlands', 'Liberton East',\n",
       "       'Restalrig and Lochend', 'Gilmerton South and the Murrays',\n",
       "       'Slateford and Chesser', 'East Craigs South',\n",
       "       'Greenbank and The Braids', 'Gorgie West', 'Mountcastle',\n",
       "       'Restalrig (Loganlea) and Craigentinny West',\n",
       "       'Fernieside and Moredun South', 'Cramond',\n",
       "       'Colinton Mains and Firrhill', 'Currie West', 'East Craigs North',\n",
       "       'Niddrie', 'Mortonhall and Anwickhill', 'Longstone and Saughton',\n",
       "       'Currie East', 'The Calders', 'South Gyle', 'Queensferry West',\n",
       "       'Parkhead and Sighthill', 'Granton South and Wardieburn',\n",
       "       'Stenhouse and Saughton Mains',\n",
       "       'Bingham, Magdalene and The Christians', 'Hyvots and Gilmerton',\n",
       "       'Corstorphine South', 'Balerno and Bonnington Village',\n",
       "       'Fairmilehead', 'Murrayburn and Wester Hailes North',\n",
       "       'Corstorphine North', 'Broomhouse and Bankhead',\n",
       "       'Clovenstone and Wester Hailes'], dtype=object)"
      ]
     },
     "execution_count": 93,
     "metadata": {},
     "output_type": "execute_result"
    }
   ],
   "source": [
    "my_data.neighbourhood_cleansed.unique()"
   ]
  },
  {
   "cell_type": "code",
   "execution_count": 53,
   "id": "8147ecaa",
   "metadata": {},
   "outputs": [],
   "source": [
    "my_data=properties_df.join(availability_df,on='id',how='inner')"
   ]
  },
  {
   "cell_type": "code",
   "execution_count": 39,
   "id": "7e2b3d5b",
   "metadata": {},
   "outputs": [],
   "source": [
    "my_data[numeric_cols+categorical_columns].to_csv('notebook/data/data_main.csv')"
   ]
  },
  {
   "cell_type": "code",
   "execution_count": 40,
   "id": "051b87f9",
   "metadata": {},
   "outputs": [
    {
     "data": {
      "text/plain": [
       "0         101.054795\n",
       "1         111.816438\n",
       "2          49.983562\n",
       "3          33.827397\n",
       "4          80.241096\n",
       "            ...     \n",
       "13240      98.183562\n",
       "13241    1000.000000\n",
       "13242    1000.000000\n",
       "13243      47.000000\n",
       "13244      36.076712\n",
       "Name: price_target, Length: 13245, dtype: float64"
      ]
     },
     "execution_count": 40,
     "metadata": {},
     "output_type": "execute_result"
    }
   ],
   "source": [
    "pd.read_csv('notebook/data/data_main.csv').price_target"
   ]
  },
  {
   "cell_type": "code",
   "execution_count": 44,
   "id": "9153b071",
   "metadata": {},
   "outputs": [],
   "source": [
    "columns_dollar=['security_deposit', 'cleaning_fee', 'extra_people']\n",
    "columns_percent=['host_response_rate']"
   ]
  },
  {
   "cell_type": "code",
   "execution_count": 47,
   "id": "a8c42dd3",
   "metadata": {},
   "outputs": [
    {
     "ename": "NameError",
     "evalue": "name 'my_data' is not defined",
     "output_type": "error",
     "traceback": [
      "\u001b[1;31m---------------------------------------------------------------------------\u001b[0m",
      "\u001b[1;31mNameError\u001b[0m                                 Traceback (most recent call last)",
      "Cell \u001b[1;32mIn[47], line 1\u001b[0m\n\u001b[1;32m----> 1\u001b[0m \u001b[43mmy_data\u001b[49m\n",
      "\u001b[1;31mNameError\u001b[0m: name 'my_data' is not defined"
     ]
    }
   ],
   "source": [
    "my_data"
   ]
  },
  {
   "cell_type": "code",
   "execution_count": 18,
   "id": "807e7b49",
   "metadata": {},
   "outputs": [],
   "source": [
    "from src.exception import CustomException\n",
    "from src.logger import logging\n",
    "import os\n",
    "    \n",
    "import pandas as pd\n",
    "from sklearn.base import BaseEstimator, TransformerMixin"
   ]
  },
  {
   "cell_type": "code",
   "execution_count": 15,
   "id": "9534c540",
   "metadata": {},
   "outputs": [
    {
     "data": {
      "text/html": [
       "<div>\n",
       "<style scoped>\n",
       "    .dataframe tbody tr th:only-of-type {\n",
       "        vertical-align: middle;\n",
       "    }\n",
       "\n",
       "    .dataframe tbody tr th {\n",
       "        vertical-align: top;\n",
       "    }\n",
       "\n",
       "    .dataframe thead th {\n",
       "        text-align: right;\n",
       "    }\n",
       "</style>\n",
       "<table border=\"1\" class=\"dataframe\">\n",
       "  <thead>\n",
       "    <tr style=\"text-align: right;\">\n",
       "      <th></th>\n",
       "      <th>price_target</th>\n",
       "    </tr>\n",
       "    <tr>\n",
       "      <th>id</th>\n",
       "      <th></th>\n",
       "    </tr>\n",
       "  </thead>\n",
       "  <tbody>\n",
       "    <tr>\n",
       "      <th>15420</th>\n",
       "      <td>101.054795</td>\n",
       "    </tr>\n",
       "    <tr>\n",
       "      <th>24288</th>\n",
       "      <td>111.816438</td>\n",
       "    </tr>\n",
       "    <tr>\n",
       "      <th>38628</th>\n",
       "      <td>49.983562</td>\n",
       "    </tr>\n",
       "    <tr>\n",
       "      <th>44552</th>\n",
       "      <td>33.827397</td>\n",
       "    </tr>\n",
       "    <tr>\n",
       "      <th>47616</th>\n",
       "      <td>80.241096</td>\n",
       "    </tr>\n",
       "    <tr>\n",
       "      <th>...</th>\n",
       "      <td>...</td>\n",
       "    </tr>\n",
       "    <tr>\n",
       "      <th>36061175</th>\n",
       "      <td>98.183562</td>\n",
       "    </tr>\n",
       "    <tr>\n",
       "      <th>36061191</th>\n",
       "      <td>1000.000000</td>\n",
       "    </tr>\n",
       "    <tr>\n",
       "      <th>36061722</th>\n",
       "      <td>1000.000000</td>\n",
       "    </tr>\n",
       "    <tr>\n",
       "      <th>36061940</th>\n",
       "      <td>47.000000</td>\n",
       "    </tr>\n",
       "    <tr>\n",
       "      <th>36066014</th>\n",
       "      <td>36.076712</td>\n",
       "    </tr>\n",
       "  </tbody>\n",
       "</table>\n",
       "<p>13245 rows × 1 columns</p>\n",
       "</div>"
      ],
      "text/plain": [
       "          price_target\n",
       "id                    \n",
       "15420       101.054795\n",
       "24288       111.816438\n",
       "38628        49.983562\n",
       "44552        33.827397\n",
       "47616        80.241096\n",
       "...                ...\n",
       "36061175     98.183562\n",
       "36061191   1000.000000\n",
       "36061722   1000.000000\n",
       "36061940     47.000000\n",
       "36066014     36.076712\n",
       "\n",
       "[13245 rows x 1 columns]"
      ]
     },
     "execution_count": 15,
     "metadata": {},
     "output_type": "execute_result"
    }
   ],
   "source": [
    "availability_df"
   ]
  },
  {
   "cell_type": "code",
   "execution_count": 45,
   "id": "1fb408e1-2622-488b-b102-6668dabe6f80",
   "metadata": {},
   "outputs": [
    {
     "data": {
      "text/html": [
       "<div>\n",
       "<style scoped>\n",
       "    .dataframe tbody tr th:only-of-type {\n",
       "        vertical-align: middle;\n",
       "    }\n",
       "\n",
       "    .dataframe tbody tr th {\n",
       "        vertical-align: top;\n",
       "    }\n",
       "\n",
       "    .dataframe thead th {\n",
       "        text-align: right;\n",
       "    }\n",
       "</style>\n",
       "<table border=\"1\" class=\"dataframe\">\n",
       "  <thead>\n",
       "    <tr style=\"text-align: right;\">\n",
       "      <th></th>\n",
       "      <th>price_target</th>\n",
       "    </tr>\n",
       "    <tr>\n",
       "      <th>id</th>\n",
       "      <th></th>\n",
       "    </tr>\n",
       "  </thead>\n",
       "  <tbody>\n",
       "    <tr>\n",
       "      <th>15420</th>\n",
       "      <td>101.054795</td>\n",
       "    </tr>\n",
       "    <tr>\n",
       "      <th>24288</th>\n",
       "      <td>111.816438</td>\n",
       "    </tr>\n",
       "    <tr>\n",
       "      <th>38628</th>\n",
       "      <td>49.983562</td>\n",
       "    </tr>\n",
       "    <tr>\n",
       "      <th>44552</th>\n",
       "      <td>33.827397</td>\n",
       "    </tr>\n",
       "    <tr>\n",
       "      <th>47616</th>\n",
       "      <td>80.241096</td>\n",
       "    </tr>\n",
       "    <tr>\n",
       "      <th>...</th>\n",
       "      <td>...</td>\n",
       "    </tr>\n",
       "    <tr>\n",
       "      <th>36061175</th>\n",
       "      <td>98.183562</td>\n",
       "    </tr>\n",
       "    <tr>\n",
       "      <th>36061191</th>\n",
       "      <td>1000.000000</td>\n",
       "    </tr>\n",
       "    <tr>\n",
       "      <th>36061722</th>\n",
       "      <td>1000.000000</td>\n",
       "    </tr>\n",
       "    <tr>\n",
       "      <th>36061940</th>\n",
       "      <td>47.000000</td>\n",
       "    </tr>\n",
       "    <tr>\n",
       "      <th>36066014</th>\n",
       "      <td>36.076712</td>\n",
       "    </tr>\n",
       "  </tbody>\n",
       "</table>\n",
       "<p>13245 rows × 1 columns</p>\n",
       "</div>"
      ],
      "text/plain": [
       "          price_target\n",
       "id                    \n",
       "15420       101.054795\n",
       "24288       111.816438\n",
       "38628        49.983562\n",
       "44552        33.827397\n",
       "47616        80.241096\n",
       "...                ...\n",
       "36061175     98.183562\n",
       "36061191   1000.000000\n",
       "36061722   1000.000000\n",
       "36061940     47.000000\n",
       "36066014     36.076712\n",
       "\n",
       "[13245 rows x 1 columns]"
      ]
     },
     "execution_count": 45,
     "metadata": {},
     "output_type": "execute_result"
    }
   ],
   "source": [
    "# Convert `price` to numeric\n",
    "availability_df.price_target=availability_df.price_target.apply(lambda x:float(str(x).replace(\"$\",'').replace(',','')))\n",
    "# Calculate the average price of each properties\n",
    "# availability_df=availability_df.rename(columns = {'listing_id': 'id'})\n",
    "mean_price = availability_df.groupby('id').agg({'price_target': 'mean'})\n",
    "# Set as targets\n",
    "targets = mean_price\n",
    "targets"
   ]
  },
  {
   "cell_type": "code",
   "execution_count": 46,
   "id": "806984ef",
   "metadata": {},
   "outputs": [
    {
     "ename": "NameError",
     "evalue": "name 'my_data' is not defined",
     "output_type": "error",
     "traceback": [
      "\u001b[1;31m---------------------------------------------------------------------------\u001b[0m",
      "\u001b[1;31mNameError\u001b[0m                                 Traceback (most recent call last)",
      "Cell \u001b[1;32mIn[46], line 1\u001b[0m\n\u001b[1;32m----> 1\u001b[0m \u001b[43mmy_data\u001b[49m\n",
      "\u001b[1;31mNameError\u001b[0m: name 'my_data' is not defined"
     ]
    }
   ],
   "source": [
    "my_data="
   ]
  },
  {
   "cell_type": "code",
   "execution_count": 23,
   "id": "17c8ca2c",
   "metadata": {
    "papermill": {
     "duration": 0.562521,
     "end_time": "2022-06-22T12:35:24.376851",
     "exception": false,
     "start_time": "2022-06-22T12:35:23.814330",
     "status": "completed"
    },
    "scrolled": true,
    "tags": []
   },
   "outputs": [
    {
     "data": {
      "image/png": "[encoded data removed]",
      "text/plain": [
       "<Figure size 1500x400 with 1 Axes>"
      ]
     },
     "metadata": {},
     "output_type": "display_data"
    }
   ],
   "source": [
    "# Visualized the target\n",
    "import matplotlib.pyplot as plt\n",
    "import seaborn as sns\n",
    "\n",
    "# Create the figure and axes\n",
    "fig, ax = plt.subplots(figsize=(15, 4))\n",
    "\n",
    "# Plot boxplot\n",
    "sns.boxplot(data=targets, x='price', ax=ax)\n",
    "\n",
    "# Add titles\n",
    "ax.set_title('Boxplot', fontsize=16)\n",
    "# axes[1].set_title('Boxplot', fontsize=16)\n",
    "\n",
    "# Add a main title\n",
    "fig.suptitle('Price Distribution', fontsize=18, fontweight='bold')\n",
    "\n",
    "# Adjust spacing and show\n",
    "plt.tight_layout()\n",
    "plt.show()\n"
   ]
  },
  {
   "cell_type": "markdown",
   "id": "1794b952",
   "metadata": {
    "papermill": {
     "duration": 0.021972,
     "end_time": "2022-06-22T12:35:24.421290",
     "exception": false,
     "start_time": "2022-06-22T12:35:24.399318",
     "status": "completed"
    },
    "tags": []
   },
   "source": [
    "<a id=\"setup\"></a>\n",
    "# <p style=\"background-color: #1900ffff; font-family:calibri; color:white; font-size:80%; font-family:Verdana; text-align:center; border-radius:10px 30px;\">Remove top 5% in 'price'</p>\n",
    "⬆️ [Tabel of Contents](#contents_tabel)"
   ]
  },
  {
   "cell_type": "code",
   "execution_count": 22,
   "id": "f7785a3e",
   "metadata": {
    "papermill": {
     "duration": 0.035979,
     "end_time": "2022-06-22T12:35:24.479610",
     "exception": false,
     "start_time": "2022-06-22T12:35:24.443631",
     "status": "completed"
    },
    "tags": []
   },
   "outputs": [
    {
     "name": "stdout",
     "output_type": "stream",
     "text": [
      "112625\n",
      "properties priced above £261.6 per night have been removed from the dataset.\n",
      "663 listings were excluded.\n"
     ]
    }
   ],
   "source": [
    "# Define the cut-off for the top 5% of prices\n",
    "upper_limit = targets['price_target'].quantile(0.95)\n",
    "\n",
    "# Identify rows with outlier prices\n",
    "outlier_rows = targets.query('price_target >= @upper_limit').index\n",
    "print(outlier_rows[0])\n",
    "# Filter out listings above the cut-off\n",
    "filtered_targets = targets.query('price_target < @upper_limit')\n",
    "\n",
    "# Show results\n",
    "print(f'properties priced above £{upper_limit:.1f} per night have been removed from the dataset.')\n",
    "print(f'{targets.shape[0] - filtered_targets.shape[0]} listings were excluded.')\n"
   ]
  },
  {
   "cell_type": "code",
   "execution_count": 36,
   "id": "870d78c1",
   "metadata": {},
   "outputs": [
    {
     "data": {
      "text/plain": [
       "12582"
      ]
     },
     "execution_count": 36,
     "metadata": {},
     "output_type": "execute_result"
    }
   ],
   "source": [
    "targets.shape[0]-663 "
   ]
  },
  {
   "cell_type": "code",
   "execution_count": 35,
   "id": "89d7a6f0",
   "metadata": {},
   "outputs": [
    {
     "data": {
      "text/plain": [
       "(12582, 1)"
      ]
     },
     "execution_count": 35,
     "metadata": {},
     "output_type": "execute_result"
    }
   ],
   "source": [
    "targets[targets.price_target<upper_limit].shape"
   ]
  },
  {
   "cell_type": "markdown",
   "id": "3a796c57",
   "metadata": {},
   "source": [
    "<a id=\"setup\"></a>\n",
    "# <p style=\"background-color: #1900ffff; font-family:calibri; color:white; font-size:80%; font-family:Verdana; text-align:center; border-radius:10px 30px;\">Feature Selection from the original dataset</p>\n",
    "⬆️ [Tabel of Contents](#contents_tabel)"
   ]
  },
  {
   "cell_type": "code",
   "execution_count": 25,
   "id": "3e28fe96",
   "metadata": {
    "papermill": {
     "duration": 0.049665,
     "end_time": "2022-06-22T12:35:25.084456",
     "exception": false,
     "start_time": "2022-06-22T12:35:25.034791",
     "status": "completed"
    },
    "tags": []
   },
   "outputs": [
    {
     "name": "stdout",
     "output_type": "stream",
     "text": [
      "Total columns: 106\n",
      "Numeric columns: 45\n",
      "Categorical columns: 61\n",
      "Datetime columns: 0\n"
     ]
    }
   ],
   "source": [
    "# Get column counts in a different way\n",
    "total_cols = len(properties_df.columns)\n",
    "numeric_cols = properties_df.select_dtypes(include='number').columns.size\n",
    "categorical_cols = properties_df.select_dtypes(include='object').columns.size\n",
    "datetime_cols = properties_df.select_dtypes(include='datetime64').columns.size\n",
    "\n",
    "# Display results\n",
    "print(f'Total columns: {total_cols}')\n",
    "print(f'Numeric columns: {numeric_cols}')\n",
    "print(f'Categorical columns: {categorical_cols}')\n",
    "print(f'Datetime columns: {datetime_cols}')\n"
   ]
  },
  {
   "cell_type": "markdown",
   "id": "f77656b6",
   "metadata": {},
   "source": [
    "<a id=\"setup\"></a>\n",
    "# <p style=\"background-color: #1900ffff; font-family:calibri; color:white; font-size:80%; font-family:Verdana; text-align:center; border-radius:10px 30px;\">Step 1 | Numerical Features</p>\n",
    "⬆️ [Tabel of Contents](#contents_tabel)"
   ]
  },
  {
   "cell_type": "code",
   "execution_count": 27,
   "id": "a1acff53-929c-42ab-835a-457b7cb08185",
   "metadata": {},
   "outputs": [],
   "source": [
    "# Use 'id' column as the DataFrame index\n",
    "properties_df.set_index('id', inplace=True)"
   ]
  },
  {
   "cell_type": "code",
   "execution_count": 28,
   "id": "3e3242d7-054c-4859-82da-baf914e632f6",
   "metadata": {},
   "outputs": [
    {
     "name": "stdout",
     "output_type": "stream",
     "text": [
      "<class 'pandas.core.frame.DataFrame'>\n",
      "Index: 13245 entries, 15420 to 36066014\n",
      "Columns: 105 entries, listing_url to reviews_per_month\n",
      "dtypes: float64(24), int64(20), object(61)\n",
      "memory usage: 10.7+ MB\n"
     ]
    }
   ],
   "source": [
    "properties_df.info()"
   ]
  },
  {
   "cell_type": "code",
   "execution_count": 59,
   "id": "af3d4ae6",
   "metadata": {},
   "outputs": [
    {
     "data": {
      "text/plain": [
       "id\n",
       "15420       100%\n",
       "24288       100%\n",
       "38628       100%\n",
       "44552       100%\n",
       "47616       100%\n",
       "            ... \n",
       "36061175     NaN\n",
       "36061191    100%\n",
       "36061722    100%\n",
       "36061940     81%\n",
       "36066014    100%\n",
       "Name: host_response_rate, Length: 13245, dtype: object"
      ]
     },
     "execution_count": 59,
     "metadata": {},
     "output_type": "execute_result"
    }
   ],
   "source": [
    "my_data.host_response_rate"
   ]
  },
  {
   "cell_type": "code",
   "execution_count": 60,
   "id": "92a30d8e",
   "metadata": {
    "papermill": {
     "duration": 0.073382,
     "end_time": "2022-06-22T12:35:25.269955",
     "exception": false,
     "start_time": "2022-06-22T12:35:25.196573",
     "status": "completed"
    },
    "scrolled": true,
    "tags": []
   },
   "outputs": [
    {
     "data": {
      "text/html": [
       "<div>\n",
       "<style scoped>\n",
       "    .dataframe tbody tr th:only-of-type {\n",
       "        vertical-align: middle;\n",
       "    }\n",
       "\n",
       "    .dataframe tbody tr th {\n",
       "        vertical-align: top;\n",
       "    }\n",
       "\n",
       "    .dataframe thead th {\n",
       "        text-align: right;\n",
       "    }\n",
       "</style>\n",
       "<table border=\"1\" class=\"dataframe\">\n",
       "  <thead>\n",
       "    <tr style=\"text-align: right;\">\n",
       "      <th></th>\n",
       "      <th>bathrooms</th>\n",
       "      <th>bedrooms</th>\n",
       "      <th>beds</th>\n",
       "      <th>accommodates</th>\n",
       "      <th>guests_included</th>\n",
       "      <th>host_response_rate</th>\n",
       "      <th>minimum_nights_avg_ntm</th>\n",
       "      <th>maximum_nights_avg_ntm</th>\n",
       "      <th>security_deposit</th>\n",
       "      <th>review_scores_rating</th>\n",
       "      <th>number_of_reviews</th>\n",
       "      <th>cleaning_fee</th>\n",
       "      <th>extra_people</th>\n",
       "      <th>reviews_per_month</th>\n",
       "    </tr>\n",
       "    <tr>\n",
       "      <th>id</th>\n",
       "      <th></th>\n",
       "      <th></th>\n",
       "      <th></th>\n",
       "      <th></th>\n",
       "      <th></th>\n",
       "      <th></th>\n",
       "      <th></th>\n",
       "      <th></th>\n",
       "      <th></th>\n",
       "      <th></th>\n",
       "      <th></th>\n",
       "      <th></th>\n",
       "      <th></th>\n",
       "      <th></th>\n",
       "    </tr>\n",
       "  </thead>\n",
       "  <tbody>\n",
       "    <tr>\n",
       "      <th>15420</th>\n",
       "      <td>1.0</td>\n",
       "      <td>1.0</td>\n",
       "      <td>1.0</td>\n",
       "      <td>2</td>\n",
       "      <td>1</td>\n",
       "      <td>100%</td>\n",
       "      <td>2.9</td>\n",
       "      <td>30.0</td>\n",
       "      <td>$200.00</td>\n",
       "      <td>99.0</td>\n",
       "      <td>283</td>\n",
       "      <td>$40.00</td>\n",
       "      <td>$0.00</td>\n",
       "      <td>2.76</td>\n",
       "    </tr>\n",
       "    <tr>\n",
       "      <th>24288</th>\n",
       "      <td>1.5</td>\n",
       "      <td>2.0</td>\n",
       "      <td>2.0</td>\n",
       "      <td>4</td>\n",
       "      <td>4</td>\n",
       "      <td>100%</td>\n",
       "      <td>2.0</td>\n",
       "      <td>365.0</td>\n",
       "      <td>$250.00</td>\n",
       "      <td>92.0</td>\n",
       "      <td>199</td>\n",
       "      <td>$30.00</td>\n",
       "      <td>$25.00</td>\n",
       "      <td>1.86</td>\n",
       "    </tr>\n",
       "    <tr>\n",
       "      <th>38628</th>\n",
       "      <td>1.0</td>\n",
       "      <td>0.0</td>\n",
       "      <td>2.0</td>\n",
       "      <td>2</td>\n",
       "      <td>2</td>\n",
       "      <td>100%</td>\n",
       "      <td>4.2</td>\n",
       "      <td>60.0</td>\n",
       "      <td>$100.00</td>\n",
       "      <td>94.0</td>\n",
       "      <td>52</td>\n",
       "      <td>NaN</td>\n",
       "      <td>$10.00</td>\n",
       "      <td>0.85</td>\n",
       "    </tr>\n",
       "    <tr>\n",
       "      <th>44552</th>\n",
       "      <td>1.0</td>\n",
       "      <td>1.0</td>\n",
       "      <td>1.0</td>\n",
       "      <td>2</td>\n",
       "      <td>2</td>\n",
       "      <td>100%</td>\n",
       "      <td>2.0</td>\n",
       "      <td>21.0</td>\n",
       "      <td>$0.00</td>\n",
       "      <td>93.0</td>\n",
       "      <td>184</td>\n",
       "      <td>$10.00</td>\n",
       "      <td>$0.00</td>\n",
       "      <td>1.71</td>\n",
       "    </tr>\n",
       "    <tr>\n",
       "      <th>47616</th>\n",
       "      <td>1.0</td>\n",
       "      <td>1.0</td>\n",
       "      <td>1.0</td>\n",
       "      <td>2</td>\n",
       "      <td>2</td>\n",
       "      <td>100%</td>\n",
       "      <td>1.0</td>\n",
       "      <td>31.0</td>\n",
       "      <td>$75.00</td>\n",
       "      <td>98.0</td>\n",
       "      <td>32</td>\n",
       "      <td>$10.00</td>\n",
       "      <td>$0.00</td>\n",
       "      <td>0.84</td>\n",
       "    </tr>\n",
       "  </tbody>\n",
       "</table>\n",
       "</div>"
      ],
      "text/plain": [
       "       bathrooms  bedrooms  beds  accommodates  guests_included  \\\n",
       "id                                                                \n",
       "15420        1.0       1.0   1.0             2                1   \n",
       "24288        1.5       2.0   2.0             4                4   \n",
       "38628        1.0       0.0   2.0             2                2   \n",
       "44552        1.0       1.0   1.0             2                2   \n",
       "47616        1.0       1.0   1.0             2                2   \n",
       "\n",
       "      host_response_rate  minimum_nights_avg_ntm  maximum_nights_avg_ntm  \\\n",
       "id                                                                         \n",
       "15420               100%                     2.9                    30.0   \n",
       "24288               100%                     2.0                   365.0   \n",
       "38628               100%                     4.2                    60.0   \n",
       "44552               100%                     2.0                    21.0   \n",
       "47616               100%                     1.0                    31.0   \n",
       "\n",
       "      security_deposit  review_scores_rating  number_of_reviews cleaning_fee  \\\n",
       "id                                                                             \n",
       "15420          $200.00                  99.0                283       $40.00   \n",
       "24288          $250.00                  92.0                199       $30.00   \n",
       "38628          $100.00                  94.0                 52          NaN   \n",
       "44552            $0.00                  93.0                184       $10.00   \n",
       "47616           $75.00                  98.0                 32       $10.00   \n",
       "\n",
       "      extra_people  reviews_per_month  \n",
       "id                                     \n",
       "15420        $0.00               2.76  \n",
       "24288       $25.00               1.86  \n",
       "38628       $10.00               0.85  \n",
       "44552        $0.00               1.71  \n",
       "47616        $0.00               0.84  "
      ]
     },
     "execution_count": 60,
     "metadata": {},
     "output_type": "execute_result"
    }
   ],
   "source": [
    "# Select numerical feature columns for analysis\n",
    "numeric_cols = ['bathrooms', 'bedrooms', 'beds', 'accommodates', 'guests_included','host_response_rate',\n",
    "                'minimum_nights_avg_ntm', 'maximum_nights_avg_ntm', 'security_deposit','review_scores_rating','number_of_reviews',\n",
    "                'cleaning_fee', 'extra_people','reviews_per_month']\n",
    "\n",
    "# Extract the numeric data subset\n",
    "numeric_data = my_data.loc[:, numeric_cols]\n",
    "\n",
    "# Sort the data by the index (property id)\n",
    "numeric_data_sorted = numeric_data.sort_index()\n",
    "\n",
    "# Display the first few rows\n",
    "numeric_data_sorted.head()"
   ]
  },
  {
   "cell_type": "markdown",
   "id": "3766a6a2",
   "metadata": {
    "papermill": {
     "duration": 0.022882,
     "end_time": "2022-06-22T12:35:25.372659",
     "exception": false,
     "start_time": "2022-06-22T12:35:25.349777",
     "status": "completed"
    },
    "tags": []
   },
   "source": [
    "<a id=\"setup\"></a>\n",
    "# <p style=\"background-color: #1900ffff; font-family:calibri; color:white; font-size:80%; font-family:Verdana; text-align:center; border-radius:10px 30px;\">Selecting Categorical Features</p>\n",
    "⬆️ [Tabel of Contents](#contents_tabel)"
   ]
  },
  {
   "cell_type": "code",
   "execution_count": 110,
   "id": "af11bc4e",
   "metadata": {},
   "outputs": [
    {
     "data": {
      "text/html": [
       "<div>\n",
       "<style scoped>\n",
       "    .dataframe tbody tr th:only-of-type {\n",
       "        vertical-align: middle;\n",
       "    }\n",
       "\n",
       "    .dataframe tbody tr th {\n",
       "        vertical-align: top;\n",
       "    }\n",
       "\n",
       "    .dataframe thead th {\n",
       "        text-align: right;\n",
       "    }\n",
       "</style>\n",
       "<table border=\"1\" class=\"dataframe\">\n",
       "  <thead>\n",
       "    <tr style=\"text-align: right;\">\n",
       "      <th></th>\n",
       "      <th>room_type</th>\n",
       "      <th>property_type</th>\n",
       "      <th>neighbourhood_cleansed</th>\n",
       "      <th>host_response_time</th>\n",
       "      <th>host_is_superhost</th>\n",
       "      <th>bed_type</th>\n",
       "      <th>instant_bookable</th>\n",
       "      <th>cancellation_policy</th>\n",
       "    </tr>\n",
       "    <tr>\n",
       "      <th>id</th>\n",
       "      <th></th>\n",
       "      <th></th>\n",
       "      <th></th>\n",
       "      <th></th>\n",
       "      <th></th>\n",
       "      <th></th>\n",
       "      <th></th>\n",
       "      <th></th>\n",
       "    </tr>\n",
       "  </thead>\n",
       "  <tbody>\n",
       "    <tr>\n",
       "      <th>15420</th>\n",
       "      <td>Entire home/apt</td>\n",
       "      <td>Apartment</td>\n",
       "      <td>Old Town, Princes Street and Leith Street</td>\n",
       "      <td>within a few hours</td>\n",
       "      <td>t</td>\n",
       "      <td>Real Bed</td>\n",
       "      <td>f</td>\n",
       "      <td>strict_14_with_grace_period</td>\n",
       "    </tr>\n",
       "  </tbody>\n",
       "</table>\n",
       "</div>"
      ],
      "text/plain": [
       "             room_type property_type  \\\n",
       "id                                     \n",
       "15420  Entire home/apt     Apartment   \n",
       "\n",
       "                          neighbourhood_cleansed  host_response_time  \\\n",
       "id                                                                     \n",
       "15420  Old Town, Princes Street and Leith Street  within a few hours   \n",
       "\n",
       "      host_is_superhost  bed_type instant_bookable  \\\n",
       "id                                                   \n",
       "15420                 t  Real Bed                f   \n",
       "\n",
       "               cancellation_policy  \n",
       "id                                  \n",
       "15420  strict_14_with_grace_period  "
      ]
     },
     "execution_count": 110,
     "metadata": {},
     "output_type": "execute_result"
    }
   ],
   "source": [
    "data_num.select_dtypes('object').head(1)"
   ]
  },
  {
   "cell_type": "code",
   "execution_count": 61,
   "id": "793c142c",
   "metadata": {},
   "outputs": [],
   "source": [
    "onhot=['room_type','host_response_time','bed_type','instant_bookable','cancellation_policy']\n",
    "target_encod_columns=['property_type','neighbourhood_cleansed']"
   ]
  },
  {
   "cell_type": "code",
   "execution_count": 67,
   "id": "c9fa9578",
   "metadata": {},
   "outputs": [
    {
     "data": {
      "text/plain": [
       "id\n",
       "15420        $0.00\n",
       "24288       $25.00\n",
       "38628       $10.00\n",
       "44552        $0.00\n",
       "47616        $0.00\n",
       "             ...  \n",
       "36061175    $20.00\n",
       "36061191     $0.00\n",
       "36061722     $0.00\n",
       "36061940     $0.00\n",
       "36066014    $15.00\n",
       "Name: extra_people, Length: 13245, dtype: object"
      ]
     },
     "execution_count": 67,
     "metadata": {},
     "output_type": "execute_result"
    }
   ],
   "source": [
    "my_data.extra_people"
   ]
  },
  {
   "cell_type": "code",
   "execution_count": 119,
   "id": "ee03dd0c",
   "metadata": {},
   "outputs": [],
   "source": [
    "class TargetGuidedEncoder(BaseEstimator, TransformerMixin):\n",
    "    def __init__(self, columns=None):\n",
    "        self.columns = columns\n",
    "        self.encoding_dict = {}\n",
    "        \n",
    "    def fit(self, X, y):\n",
    "        X = X.copy()\n",
    "        y = pd.Series(y)\n",
    "        for col in self.columns:\n",
    "            # Calculate the mean target value for each category\n",
    "            self.encoding_dict[col] = X.groupby(col)[y.name].mean().to_dict()\n",
    "        return self\n",
    "\n",
    "    def transform(self, X):\n",
    "        X = X.copy()\n",
    "        for col in self.columns:\n",
    "            if col in X.columns:\n",
    "                X[col] = X[col].map(self.encoding_dict[col])\n",
    "        return X"
   ]
  },
  {
   "cell_type": "code",
   "execution_count": 121,
   "id": "56cfeee3",
   "metadata": {},
   "outputs": [],
   "source": [
    "a=TargetGuidedEncoder()"
   ]
  },
  {
   "cell_type": "code",
   "execution_count": 137,
   "id": "b00f2554",
   "metadata": {},
   "outputs": [
    {
     "ename": "TypeError",
     "evalue": "'NoneType' object is not iterable",
     "output_type": "error",
     "traceback": [
      "\u001b[1;31m---------------------------------------------------------------------------\u001b[0m",
      "\u001b[1;31mTypeError\u001b[0m                                 Traceback (most recent call last)",
      "Cell \u001b[1;32mIn[137], line 1\u001b[0m\n\u001b[1;32m----> 1\u001b[0m \u001b[43ma\u001b[49m\u001b[38;5;241;43m.\u001b[39;49m\u001b[43mfit\u001b[49m\u001b[43m(\u001b[49m\u001b[43mmy_data\u001b[49m\u001b[43m,\u001b[49m\u001b[43mmy_data\u001b[49m\u001b[38;5;241;43m.\u001b[39;49m\u001b[43mprice_target\u001b[49m\u001b[43m)\u001b[49m\n",
      "Cell \u001b[1;32mIn[119], line 9\u001b[0m, in \u001b[0;36mTargetGuidedEncoder.fit\u001b[1;34m(self, X, y)\u001b[0m\n\u001b[0;32m      7\u001b[0m X \u001b[38;5;241m=\u001b[39m X\u001b[38;5;241m.\u001b[39mcopy()\n\u001b[0;32m      8\u001b[0m y \u001b[38;5;241m=\u001b[39m pd\u001b[38;5;241m.\u001b[39mSeries(y)\n\u001b[1;32m----> 9\u001b[0m \u001b[38;5;28;01mfor\u001b[39;00m col \u001b[38;5;129;01min\u001b[39;00m \u001b[38;5;28mself\u001b[39m\u001b[38;5;241m.\u001b[39mcolumns:\n\u001b[0;32m     10\u001b[0m     \u001b[38;5;66;03m# Calculate the mean target value for each category\u001b[39;00m\n\u001b[0;32m     11\u001b[0m     \u001b[38;5;28mself\u001b[39m\u001b[38;5;241m.\u001b[39mencoding_dict[col] \u001b[38;5;241m=\u001b[39m X\u001b[38;5;241m.\u001b[39mgroupby(col)[y\u001b[38;5;241m.\u001b[39mname]\u001b[38;5;241m.\u001b[39mmean()\u001b[38;5;241m.\u001b[39mto_dict()\n\u001b[0;32m     12\u001b[0m \u001b[38;5;28;01mreturn\u001b[39;00m \u001b[38;5;28mself\u001b[39m\n",
      "\u001b[1;31mTypeError\u001b[0m: 'NoneType' object is not iterable"
     ]
    }
   ],
   "source": [
    "a.fit(my_data,my_data.price_target)"
   ]
  },
  {
   "cell_type": "code",
   "execution_count": 1,
   "id": "958b76c0",
   "metadata": {},
   "outputs": [
    {
     "ename": "NameError",
     "evalue": "name 'my_data' is not defined",
     "output_type": "error",
     "traceback": [
      "\u001b[1;31m---------------------------------------------------------------------------\u001b[0m",
      "\u001b[1;31mNameError\u001b[0m                                 Traceback (most recent call last)",
      "Cell \u001b[1;32mIn[1], line 1\u001b[0m\n\u001b[1;32m----> 1\u001b[0m \u001b[43mmy_data\u001b[49m\n",
      "\u001b[1;31mNameError\u001b[0m: name 'my_data' is not defined"
     ]
    }
   ],
   "source": [
    "my_data"
   ]
  },
  {
   "cell_type": "code",
   "execution_count": 30,
   "id": "0a1e7e2e-cb26-4046-b957-82f9330fb596",
   "metadata": {},
   "outputs": [
    {
     "data": {
      "text/plain": [
       "Index(['listing_url', 'last_scraped', 'name', 'summary', 'space',\n",
       "       'description', 'experiences_offered', 'neighborhood_overview', 'notes',\n",
       "       'transit', 'access', 'interaction', 'house_rules', 'picture_url',\n",
       "       'host_url', 'host_name', 'host_since', 'host_location', 'host_about',\n",
       "       'host_response_time', 'host_response_rate', 'host_is_superhost',\n",
       "       'host_thumbnail_url', 'host_picture_url', 'host_neighbourhood',\n",
       "       'host_verifications', 'host_has_profile_pic', 'host_identity_verified',\n",
       "       'street', 'neighbourhood', 'neighbourhood_cleansed', 'city', 'state',\n",
       "       'zipcode', 'market', 'smart_location', 'country_code', 'country',\n",
       "       'is_location_exact', 'property_type', 'room_type', 'bed_type',\n",
       "       'amenities', 'price', 'weekly_price', 'monthly_price',\n",
       "       'security_deposit', 'cleaning_fee', 'extra_people', 'calendar_updated',\n",
       "       'has_availability', 'calendar_last_scraped', 'first_review',\n",
       "       'last_review', 'requires_license', 'license', 'instant_bookable',\n",
       "       'is_business_travel_ready', 'cancellation_policy',\n",
       "       'require_guest_profile_picture', 'require_guest_phone_verification'],\n",
       "      dtype='object')"
      ]
     },
     "execution_count": 30,
     "metadata": {},
     "output_type": "execute_result"
    }
   ],
   "source": [
    "properties_df.select_dtypes(include='object').columns"
   ]
  },
  {
   "cell_type": "code",
   "execution_count": 31,
   "id": "f68fe166",
   "metadata": {
    "papermill": {
     "duration": 0.045401,
     "end_time": "2022-06-22T12:35:25.440105",
     "exception": false,
     "start_time": "2022-06-22T12:35:25.394704",
     "status": "completed"
    },
    "tags": []
   },
   "outputs": [
    {
     "data": {
      "text/html": [
       "<div>\n",
       "<style scoped>\n",
       "    .dataframe tbody tr th:only-of-type {\n",
       "        vertical-align: middle;\n",
       "    }\n",
       "\n",
       "    .dataframe tbody tr th {\n",
       "        vertical-align: top;\n",
       "    }\n",
       "\n",
       "    .dataframe thead th {\n",
       "        text-align: right;\n",
       "    }\n",
       "</style>\n",
       "<table border=\"1\" class=\"dataframe\">\n",
       "  <thead>\n",
       "    <tr style=\"text-align: right;\">\n",
       "      <th></th>\n",
       "      <th>room_type</th>\n",
       "      <th>property_type</th>\n",
       "      <th>neighbourhood_cleansed</th>\n",
       "      <th>host_response_time</th>\n",
       "      <th>host_is_superhost</th>\n",
       "      <th>bed_type</th>\n",
       "      <th>instant_bookable</th>\n",
       "      <th>cancellation_policy</th>\n",
       "    </tr>\n",
       "    <tr>\n",
       "      <th>id</th>\n",
       "      <th></th>\n",
       "      <th></th>\n",
       "      <th></th>\n",
       "      <th></th>\n",
       "      <th></th>\n",
       "      <th></th>\n",
       "      <th></th>\n",
       "      <th></th>\n",
       "    </tr>\n",
       "  </thead>\n",
       "  <tbody>\n",
       "    <tr>\n",
       "      <th>15420</th>\n",
       "      <td>Entire home/apt</td>\n",
       "      <td>Apartment</td>\n",
       "      <td>Old Town, Princes Street and Leith Street</td>\n",
       "      <td>within a few hours</td>\n",
       "      <td>t</td>\n",
       "      <td>Real Bed</td>\n",
       "      <td>f</td>\n",
       "      <td>strict_14_with_grace_period</td>\n",
       "    </tr>\n",
       "    <tr>\n",
       "      <th>24288</th>\n",
       "      <td>Entire home/apt</td>\n",
       "      <td>Loft</td>\n",
       "      <td>Meadows and Southside</td>\n",
       "      <td>within an hour</td>\n",
       "      <td>t</td>\n",
       "      <td>Real Bed</td>\n",
       "      <td>t</td>\n",
       "      <td>flexible</td>\n",
       "    </tr>\n",
       "    <tr>\n",
       "      <th>38628</th>\n",
       "      <td>Entire home/apt</td>\n",
       "      <td>Apartment</td>\n",
       "      <td>Joppa</td>\n",
       "      <td>within an hour</td>\n",
       "      <td>f</td>\n",
       "      <td>Real Bed</td>\n",
       "      <td>t</td>\n",
       "      <td>strict_14_with_grace_period</td>\n",
       "    </tr>\n",
       "    <tr>\n",
       "      <th>44552</th>\n",
       "      <td>Private room</td>\n",
       "      <td>Condominium</td>\n",
       "      <td>South Leith</td>\n",
       "      <td>within a few hours</td>\n",
       "      <td>t</td>\n",
       "      <td>Real Bed</td>\n",
       "      <td>f</td>\n",
       "      <td>strict_14_with_grace_period</td>\n",
       "    </tr>\n",
       "    <tr>\n",
       "      <th>47616</th>\n",
       "      <td>Private room</td>\n",
       "      <td>Condominium</td>\n",
       "      <td>Canongate, Southside and Dumbiedykes</td>\n",
       "      <td>within an hour</td>\n",
       "      <td>f</td>\n",
       "      <td>Real Bed</td>\n",
       "      <td>f</td>\n",
       "      <td>moderate</td>\n",
       "    </tr>\n",
       "  </tbody>\n",
       "</table>\n",
       "</div>"
      ],
      "text/plain": [
       "             room_type property_type  \\\n",
       "id                                     \n",
       "15420  Entire home/apt     Apartment   \n",
       "24288  Entire home/apt          Loft   \n",
       "38628  Entire home/apt     Apartment   \n",
       "44552     Private room   Condominium   \n",
       "47616     Private room   Condominium   \n",
       "\n",
       "                          neighbourhood_cleansed  host_response_time  \\\n",
       "id                                                                     \n",
       "15420  Old Town, Princes Street and Leith Street  within a few hours   \n",
       "24288                      Meadows and Southside      within an hour   \n",
       "38628                                      Joppa      within an hour   \n",
       "44552                                South Leith  within a few hours   \n",
       "47616       Canongate, Southside and Dumbiedykes      within an hour   \n",
       "\n",
       "      host_is_superhost  bed_type instant_bookable  \\\n",
       "id                                                   \n",
       "15420                 t  Real Bed                f   \n",
       "24288                 t  Real Bed                t   \n",
       "38628                 f  Real Bed                t   \n",
       "44552                 t  Real Bed                f   \n",
       "47616                 f  Real Bed                f   \n",
       "\n",
       "               cancellation_policy  \n",
       "id                                  \n",
       "15420  strict_14_with_grace_period  \n",
       "24288                     flexible  \n",
       "38628  strict_14_with_grace_period  \n",
       "44552  strict_14_with_grace_period  \n",
       "47616                     moderate  "
      ]
     },
     "execution_count": 31,
     "metadata": {},
     "output_type": "execute_result"
    }
   ],
   "source": [
    "# Define the list of categorical feature columns to extract\n",
    "categorical_columns = [\n",
    "    'room_type', 'property_type', 'neighbourhood_cleansed', 'host_response_time',\n",
    "    'host_is_superhost', 'bed_type', 'instant_bookable', 'cancellation_policy'\n",
    "]\n",
    "\n",
    "# Extract categorical columns from the dataset\n",
    "categorical_data = properties_df[categorical_columns]\n",
    "\n",
    "# Ensure the data is sorted by the DataFrame's index for consistency\n",
    "categorical_data_sorted = categorical_data.sort_index()\n",
    "\n",
    "# Optionally, merge the target variable 'price' for quick reference\n",
    "# categorical_data_sorted = categorical_data_sorted.join(targets, how='inner')\n",
    "\n",
    "# Display the first few records of the prepared categorical data\n",
    "categorical_data_sorted.head()\n"
   ]
  },
  {
   "cell_type": "code",
   "execution_count": 32,
   "id": "a60286f0-e80a-4217-8307-0f7e488a3624",
   "metadata": {},
   "outputs": [
    {
     "data": {
      "text/plain": [
       "(12582, 14)"
      ]
     },
     "execution_count": 32,
     "metadata": {},
     "output_type": "execute_result"
    }
   ],
   "source": [
    "# Drop rows removed in targets\n",
    "numeric_data_sorted = numeric_data_sorted.drop(outlier_rows, axis = 0)\n",
    "numeric_data_sorted.shape"
   ]
  },
  {
   "cell_type": "code",
   "execution_count": 33,
   "id": "2636aa1c",
   "metadata": {
    "papermill": {
     "duration": 0.036556,
     "end_time": "2022-06-22T12:35:25.499726",
     "exception": false,
     "start_time": "2022-06-22T12:35:25.463170",
     "status": "completed"
    },
    "tags": []
   },
   "outputs": [
    {
     "data": {
      "text/plain": [
       "(12582, 8)"
      ]
     },
     "execution_count": 33,
     "metadata": {},
     "output_type": "execute_result"
    }
   ],
   "source": [
    "# Drop rows removed in targets\n",
    "categorical_data_sorted = categorical_data_sorted.drop(outlier_rows, axis = 0)\n",
    "categorical_data_sorted.shape"
   ]
  },
  {
   "cell_type": "code",
   "execution_count": 35,
   "id": "a786a86d-d497-466d-bbd3-7e20da75d864",
   "metadata": {},
   "outputs": [],
   "source": [
    "filtered_targets[\"price_cat\"] = pd.cut(filtered_targets[\"price\"],\n",
    "                               bins=[0., 50, 100, 150, 200., np.inf],\n",
    "                               labels=[1, 2, 3, 4, 5])"
   ]
  },
  {
   "cell_type": "code",
   "execution_count": 36,
   "id": "45092dee-6b4d-44f2-b57a-5e7bf165fae1",
   "metadata": {},
   "outputs": [],
   "source": [
    "numeric_data_sorted[\"price_cat\"] = pd.cut(filtered_targets[\"price\"],\n",
    "                               bins=[0., 50, 100, 150, 200., np.inf],\n",
    "                               labels=[1, 2, 3, 4, 5])\n",
    "\n",
    "categorical_data_sorted[\"price_cat\"] = pd.cut(filtered_targets[\"price\"],\n",
    "                               bins=[0., 50, 100, 150, 200., np.inf],\n",
    "                               labels=[1, 2, 3, 4, 5])"
   ]
  },
  {
   "cell_type": "code",
   "execution_count": 37,
   "id": "379efbae-01c1-4750-982d-acbdfaa3010e",
   "metadata": {},
   "outputs": [
    {
     "data": {
      "text/plain": [
       "<Axes: >"
      ]
     },
     "execution_count": 37,
     "metadata": {},
     "output_type": "execute_result"
    },
    {
     "data": {
      "image/png": "[encoded data removed]",
      "text/plain": [
       "<Figure size 1000x500 with 1 Axes>"
      ]
     },
     "metadata": {},
     "output_type": "display_data"
    }
   ],
   "source": [
    "categorical_data_sorted.price_cat.hist(bins=50, figsize=(10,5))"
   ]
  },
  {
   "cell_type": "markdown",
   "id": "2c445353",
   "metadata": {
    "papermill": {
     "duration": 0.023034,
     "end_time": "2022-06-22T12:35:25.547391",
     "exception": false,
     "start_time": "2022-06-22T12:35:25.524357",
     "status": "completed"
    },
    "tags": []
   },
   "source": [
    "<a id=\"setup\"></a>\n",
    "# <p style=\"background-color: #1900ffff; font-family:calibri; color:white; font-size:80%; font-family:Verdana; text-align:center; border-radius:10px 30px;\">Train and test split</p>"
   ]
  },
  {
   "cell_type": "markdown",
   "id": "ac9cf189-8c8c-4c00-ab3f-f5b9b273dc73",
   "metadata": {},
   "source": [
    "<a id=\"setup\"></a>\n",
    "<p style=\"background-color: #5900ffff; font-family:calibri; color:white; font-size:80%; font-family:Verdana; text-align:center; border-radius:15px 37px;  padding:20px\"> As you can see, the train and test set generated using stratified sampling has\n",
    "price category proportions almost identical to those in the full dataset</p>"
   ]
  },
  {
   "cell_type": "code",
   "execution_count": 38,
   "id": "4cbcfc76-6379-4622-bccc-f628a6cc53b5",
   "metadata": {},
   "outputs": [
    {
     "name": "stdout",
     "output_type": "stream",
     "text": [
      "Total columns: 106\n",
      "price category proportions for num_train set:price_cat\n",
      "2    0.414009\n",
      "1    0.245107\n",
      "3    0.215698\n",
      "4    0.084153\n",
      "5    0.041033\n",
      "Name: count, dtype: float64\n",
      "price category proportions for num_test set:price_cat\n",
      "2    0.431069\n",
      "1    0.242749\n",
      "3    0.207390\n",
      "4    0.086214\n",
      "5    0.032578\n",
      "Name: count, dtype: float64\n",
      "price category proportions for cat_train set:price_cat\n",
      "2    0.414009\n",
      "1    0.245107\n",
      "3    0.215698\n",
      "4    0.084153\n",
      "5    0.041033\n",
      "Name: count, dtype: float64\n",
      "price category proportions for cat_test set:price_cat\n",
      "2    0.431069\n",
      "1    0.242749\n",
      "3    0.207390\n",
      "4    0.086214\n",
      "5    0.032578\n",
      "Name: count, dtype: float64\n",
      "price category proportions for full dataset:price_cat\n",
      "2    0.417422\n",
      "1    0.244635\n",
      "3    0.214036\n",
      "4    0.084565\n",
      "5    0.039342\n",
      "Name: count, dtype: float64\n"
     ]
    }
   ],
   "source": [
    "num_train, num_test, cat_train, cat_test, y_train, y_test=train_test_split(numeric_data_sorted,categorical_data_sorted,\\\n",
    "                        filtered_targets,test_size = 0.20, shuffle = True, random_state = 42)#,stratify=numeric_data_sorted['price_cat']\n",
    "print(f'Total columns: {total_cols}')\n",
    "print(f'price category proportions for num_train set:{num_train[\"price_cat\"].value_counts() / len(num_train)}')\n",
    "print(f'price category proportions for num_test set:{num_test[\"price_cat\"].value_counts() / len(num_test)}')\n",
    "print(f'price category proportions for cat_train set:{cat_train[\"price_cat\"].value_counts() / len(cat_train)}')\n",
    "print(f'price category proportions for cat_test set:{cat_test[\"price_cat\"].value_counts() / len(cat_test)}')\n",
    "print(f'price category proportions for full dataset:{numeric_data_sorted[\"price_cat\"].value_counts() / len(numeric_data_sorted)}')"
   ]
  },
  {
   "cell_type": "code",
   "execution_count": 39,
   "id": "45559844-59a6-40a1-af37-3c2ce42b3560",
   "metadata": {},
   "outputs": [],
   "source": [
    "num_train.drop('price_cat',axis=1,inplace=True)"
   ]
  },
  {
   "cell_type": "code",
   "execution_count": 40,
   "id": "a57464e3-f243-44e8-9d15-c45b39f63f0d",
   "metadata": {},
   "outputs": [],
   "source": [
    "num_test.drop('price_cat',axis=1,inplace=True)"
   ]
  },
  {
   "cell_type": "code",
   "execution_count": 41,
   "id": "321493de-aec9-4d4c-b873-b0f02f6d4782",
   "metadata": {},
   "outputs": [],
   "source": [
    "cat_train.drop('price_cat',axis=1,inplace=True)"
   ]
  },
  {
   "cell_type": "code",
   "execution_count": 42,
   "id": "6786cfcf-65d2-4085-9937-d13e146fc957",
   "metadata": {},
   "outputs": [],
   "source": [
    "cat_test.drop('price_cat',axis=1,inplace=True)"
   ]
  },
  {
   "cell_type": "code",
   "execution_count": 43,
   "id": "f9bd1a54-c32c-450a-a0c1-0330b201264b",
   "metadata": {},
   "outputs": [],
   "source": [
    "y_train.drop('price_cat',axis=1,inplace=True)"
   ]
  },
  {
   "cell_type": "code",
   "execution_count": 44,
   "id": "41f64881-1396-48b8-88c3-328670a73595",
   "metadata": {},
   "outputs": [],
   "source": [
    "y_test.drop('price_cat',axis=1,inplace=True)"
   ]
  },
  {
   "cell_type": "code",
   "execution_count": 45,
   "id": "8741d99e-1b82-4357-9464-abbd6fc11226",
   "metadata": {},
   "outputs": [
    {
     "name": "stdout",
     "output_type": "stream",
     "text": [
      "(10065, 14) (10065, 8) (10065, 1)\n"
     ]
    }
   ],
   "source": [
    "print(num_train.shape,cat_train.shape,y_train.shape)"
   ]
  },
  {
   "cell_type": "code",
   "execution_count": 46,
   "id": "65fe0b5c-c2af-423d-ae04-012de65360a2",
   "metadata": {},
   "outputs": [
    {
     "name": "stdout",
     "output_type": "stream",
     "text": [
      "(2517, 14) (2517, 8) (2517, 1)\n"
     ]
    }
   ],
   "source": [
    "print(num_test.shape,cat_test.shape,y_test.shape)"
   ]
  },
  {
   "cell_type": "markdown",
   "id": "1ce431ed",
   "metadata": {
    "papermill": {
     "duration": 0.023745,
     "end_time": "2022-06-22T12:35:25.658659",
     "exception": false,
     "start_time": "2022-06-22T12:35:25.634914",
     "status": "completed"
    },
    "tags": []
   },
   "source": [
    "<a id=\"setup\"></a>\n",
    "# <p style=\"background-color: #1900ffff; font-family:calibri; color:white; font-size:80%; font-family:Verdana; text-align:center; border-radius:10px 30px;\">Proprocessing - Numerical Features</p>"
   ]
  },
  {
   "cell_type": "code",
   "execution_count": 47,
   "id": "4554280c",
   "metadata": {
    "papermill": {
     "duration": 0.047841,
     "end_time": "2022-06-22T12:35:25.776518",
     "exception": false,
     "start_time": "2022-06-22T12:35:25.728677",
     "status": "completed"
    },
    "scrolled": true,
    "tags": []
   },
   "outputs": [
    {
     "name": "stdout",
     "output_type": "stream",
     "text": [
      "<class 'pandas.core.frame.DataFrame'>\n",
      "Index: 10065 entries, 33077765 to 22670370\n",
      "Data columns (total 14 columns):\n",
      " #   Column                  Non-Null Count  Dtype  \n",
      "---  ------                  --------------  -----  \n",
      " 0   bathrooms               10057 non-null  float64\n",
      " 1   bedrooms                10062 non-null  float64\n",
      " 2   beds                    10054 non-null  float64\n",
      " 3   accommodates            10065 non-null  int64  \n",
      " 4   guests_included         10065 non-null  int64  \n",
      " 5   host_response_rate      7446 non-null   object \n",
      " 6   minimum_nights_avg_ntm  10065 non-null  float64\n",
      " 7   maximum_nights_avg_ntm  10065 non-null  float64\n",
      " 8   security_deposit        6467 non-null   object \n",
      " 9   review_scores_rating    8468 non-null   float64\n",
      " 10  number_of_reviews       10065 non-null  int64  \n",
      " 11  cleaning_fee            7248 non-null   object \n",
      " 12  extra_people            10065 non-null  object \n",
      " 13  reviews_per_month       8574 non-null   float64\n",
      "dtypes: float64(7), int64(3), object(4)\n",
      "memory usage: 1.2+ MB\n"
     ]
    }
   ],
   "source": [
    "# Check data types of the selected columns\n",
    "num_train.info()"
   ]
  },
  {
   "cell_type": "markdown",
   "id": "c04f613f",
   "metadata": {
    "papermill": {
     "duration": 0.024237,
     "end_time": "2022-06-22T12:35:26.029868",
     "exception": false,
     "start_time": "2022-06-22T12:35:26.005631",
     "status": "completed"
    },
    "tags": []
   },
   "source": [
    "<a id=\"setup\"></a>\n",
    "<p style=\"background-color: #5900ffff; font-family:calibri; color:white; font-size:80%; font-family:Verdana; text-align; border-radius:30px 35px;  padding:20px\">Covert `security_deposit`, `cleaning_fee` and `extra_people` to numeric</p>"
   ]
  },
  {
   "cell_type": "code",
   "execution_count": 48,
   "id": "8de025b8",
   "metadata": {
    "papermill": {
     "duration": 0.039042,
     "end_time": "2022-06-22T12:35:26.092535",
     "exception": false,
     "start_time": "2022-06-22T12:35:26.053493",
     "status": "completed"
    },
    "scrolled": true,
    "tags": []
   },
   "outputs": [
    {
     "data": {
      "text/html": [
       "<div>\n",
       "<style scoped>\n",
       "    .dataframe tbody tr th:only-of-type {\n",
       "        vertical-align: middle;\n",
       "    }\n",
       "\n",
       "    .dataframe tbody tr th {\n",
       "        vertical-align: top;\n",
       "    }\n",
       "\n",
       "    .dataframe thead th {\n",
       "        text-align: right;\n",
       "    }\n",
       "</style>\n",
       "<table border=\"1\" class=\"dataframe\">\n",
       "  <thead>\n",
       "    <tr style=\"text-align: right;\">\n",
       "      <th></th>\n",
       "      <th>security_deposit</th>\n",
       "      <th>cleaning_fee</th>\n",
       "      <th>extra_people</th>\n",
       "      <th>host_response_rate</th>\n",
       "    </tr>\n",
       "    <tr>\n",
       "      <th>id</th>\n",
       "      <th></th>\n",
       "      <th></th>\n",
       "      <th></th>\n",
       "      <th></th>\n",
       "    </tr>\n",
       "  </thead>\n",
       "  <tbody>\n",
       "    <tr>\n",
       "      <th>33077765</th>\n",
       "      <td>NaN</td>\n",
       "      <td>NaN</td>\n",
       "      <td>$0.00</td>\n",
       "      <td>67%</td>\n",
       "    </tr>\n",
       "    <tr>\n",
       "      <th>21042261</th>\n",
       "      <td>NaN</td>\n",
       "      <td>NaN</td>\n",
       "      <td>$0.00</td>\n",
       "      <td>NaN</td>\n",
       "    </tr>\n",
       "    <tr>\n",
       "      <th>32182453</th>\n",
       "      <td>NaN</td>\n",
       "      <td>$74.00</td>\n",
       "      <td>$0.00</td>\n",
       "      <td>93%</td>\n",
       "    </tr>\n",
       "  </tbody>\n",
       "</table>\n",
       "</div>"
      ],
      "text/plain": [
       "         security_deposit cleaning_fee extra_people host_response_rate\n",
       "id                                                                    \n",
       "33077765              NaN          NaN        $0.00                67%\n",
       "21042261              NaN          NaN        $0.00                NaN\n",
       "32182453              NaN       $74.00        $0.00                93%"
      ]
     },
     "execution_count": 48,
     "metadata": {},
     "output_type": "execute_result"
    }
   ],
   "source": [
    "num_train[['security_deposit', 'cleaning_fee', 'extra_people','host_response_rate']].head(3)"
   ]
  },
  {
   "cell_type": "code",
   "execution_count": 71,
   "id": "5e22dfbc",
   "metadata": {},
   "outputs": [],
   "source": [
    "from src.exception import CustomException\n",
    "from src.logger import logging\n",
    "import sys"
   ]
  },
  {
   "cell_type": "code",
   "execution_count": 49,
   "id": "99a42fcd-e008-469f-b8f2-a27c7d9f3ca1",
   "metadata": {},
   "outputs": [],
   "source": [
    "num_train['security_deposit']=num_train['security_deposit'].\\\n",
    "apply(lambda x:float(str(x).replace('$','').replace(',','')))/100\n",
    "num_test['security_deposit']=num_test['security_deposit'].\\\n",
    "apply(lambda x:float(str(x).replace('$','').replace(',','')))/100"
   ]
  },
  {
   "cell_type": "code",
   "execution_count": 50,
   "id": "49719f90-1321-4acc-9e8e-8839b1f3d55f",
   "metadata": {},
   "outputs": [],
   "source": [
    "num_train['cleaning_fee']=num_train['cleaning_fee'].\\\n",
    "apply(lambda x:float(str(x).replace('$','').replace(',','')))/100\n",
    "num_test['cleaning_fee']=num_test['cleaning_fee'].\\\n",
    "apply(lambda x:float(str(x).replace('$','').replace(',','')))/100"
   ]
  },
  {
   "cell_type": "code",
   "execution_count": 51,
   "id": "87c2f81c-e140-42d1-abfd-ac806848e2e0",
   "metadata": {},
   "outputs": [],
   "source": [
    "num_train['extra_people']=num_train['extra_people'].\\\n",
    "apply(lambda x:float(str(x).replace('$','').replace(',','')))\n",
    "num_test['extra_people']=num_test['extra_people'].\\\n",
    "apply(lambda x:float(str(x).replace('$','').replace(',','')))"
   ]
  },
  {
   "cell_type": "code",
   "execution_count": 52,
   "id": "73afe0c5-b049-4935-984e-2fb99742633a",
   "metadata": {},
   "outputs": [],
   "source": [
    "num_train['host_response_rate']=num_train['host_response_rate'].\\\n",
    "apply(lambda x:float(str(x).replace('%','').replace(',','')))/100\n",
    "num_test['host_response_rate']=num_test['host_response_rate'].\\\n",
    "apply(lambda x:float(str(x).replace('%','').replace(',','')))/100"
   ]
  },
  {
   "cell_type": "code",
   "execution_count": 53,
   "id": "58bb37ce-bc1f-4a32-931f-3b23c8fc3384",
   "metadata": {},
   "outputs": [],
   "source": [
    "num_train['maximum_nights_avg_ntm']=num_train['maximum_nights_avg_ntm']/100\n",
    "num_test['maximum_nights_avg_ntm']=num_test['maximum_nights_avg_ntm']/100"
   ]
  },
  {
   "cell_type": "code",
   "execution_count": 54,
   "id": "78781c33-584d-42ff-ac56-130dc67ea48e",
   "metadata": {},
   "outputs": [],
   "source": [
    "num_train['minimum_nights_avg_ntm']=num_train['minimum_nights_avg_ntm']/100\n",
    "num_test['minimum_nights_avg_ntm']=num_test['minimum_nights_avg_ntm']/100"
   ]
  },
  {
   "cell_type": "code",
   "execution_count": 55,
   "id": "f2a25e8b-761a-4994-b197-282954339889",
   "metadata": {},
   "outputs": [],
   "source": [
    "num_train['review_scores_rating']=num_train['review_scores_rating']/100\n",
    "num_test['review_scores_rating']=num_test['review_scores_rating']/100"
   ]
  },
  {
   "cell_type": "code",
   "execution_count": 56,
   "id": "04768c2e-926b-4bf1-9ecb-0d81420effbd",
   "metadata": {},
   "outputs": [],
   "source": [
    "num_train['number_of_reviews']=num_train['number_of_reviews']/100\n",
    "num_test['number_of_reviews']=num_test['number_of_reviews']/100"
   ]
  },
  {
   "cell_type": "code",
   "execution_count": 57,
   "id": "fca25147-c0d8-43c0-bda4-730e97d9fffe",
   "metadata": {},
   "outputs": [
    {
     "data": {
      "text/html": [
       "<div>\n",
       "<style scoped>\n",
       "    .dataframe tbody tr th:only-of-type {\n",
       "        vertical-align: middle;\n",
       "    }\n",
       "\n",
       "    .dataframe tbody tr th {\n",
       "        vertical-align: top;\n",
       "    }\n",
       "\n",
       "    .dataframe thead th {\n",
       "        text-align: right;\n",
       "    }\n",
       "</style>\n",
       "<table border=\"1\" class=\"dataframe\">\n",
       "  <thead>\n",
       "    <tr style=\"text-align: right;\">\n",
       "      <th></th>\n",
       "      <th>bathrooms</th>\n",
       "      <th>bedrooms</th>\n",
       "      <th>beds</th>\n",
       "      <th>accommodates</th>\n",
       "      <th>guests_included</th>\n",
       "      <th>host_response_rate</th>\n",
       "      <th>minimum_nights_avg_ntm</th>\n",
       "      <th>maximum_nights_avg_ntm</th>\n",
       "      <th>security_deposit</th>\n",
       "      <th>review_scores_rating</th>\n",
       "      <th>number_of_reviews</th>\n",
       "      <th>cleaning_fee</th>\n",
       "      <th>extra_people</th>\n",
       "      <th>reviews_per_month</th>\n",
       "    </tr>\n",
       "    <tr>\n",
       "      <th>id</th>\n",
       "      <th></th>\n",
       "      <th></th>\n",
       "      <th></th>\n",
       "      <th></th>\n",
       "      <th></th>\n",
       "      <th></th>\n",
       "      <th></th>\n",
       "      <th></th>\n",
       "      <th></th>\n",
       "      <th></th>\n",
       "      <th></th>\n",
       "      <th></th>\n",
       "      <th></th>\n",
       "      <th></th>\n",
       "    </tr>\n",
       "  </thead>\n",
       "  <tbody>\n",
       "    <tr>\n",
       "      <th>15227684</th>\n",
       "      <td>1.0</td>\n",
       "      <td>2.0</td>\n",
       "      <td>3.0</td>\n",
       "      <td>6</td>\n",
       "      <td>1</td>\n",
       "      <td>NaN</td>\n",
       "      <td>0.03</td>\n",
       "      <td>0.28</td>\n",
       "      <td>NaN</td>\n",
       "      <td>0.88</td>\n",
       "      <td>0.18</td>\n",
       "      <td>0.5</td>\n",
       "      <td>0.0</td>\n",
       "      <td>0.56</td>\n",
       "    </tr>\n",
       "    <tr>\n",
       "      <th>21600908</th>\n",
       "      <td>1.0</td>\n",
       "      <td>2.0</td>\n",
       "      <td>3.0</td>\n",
       "      <td>5</td>\n",
       "      <td>1</td>\n",
       "      <td>1.0</td>\n",
       "      <td>0.02</td>\n",
       "      <td>0.05</td>\n",
       "      <td>1.0</td>\n",
       "      <td>1.00</td>\n",
       "      <td>0.02</td>\n",
       "      <td>0.2</td>\n",
       "      <td>0.0</td>\n",
       "      <td>0.11</td>\n",
       "    </tr>\n",
       "    <tr>\n",
       "      <th>20222564</th>\n",
       "      <td>1.0</td>\n",
       "      <td>2.0</td>\n",
       "      <td>3.0</td>\n",
       "      <td>5</td>\n",
       "      <td>1</td>\n",
       "      <td>1.0</td>\n",
       "      <td>0.03</td>\n",
       "      <td>11.25</td>\n",
       "      <td>0.0</td>\n",
       "      <td>0.91</td>\n",
       "      <td>0.28</td>\n",
       "      <td>0.4</td>\n",
       "      <td>0.0</td>\n",
       "      <td>1.23</td>\n",
       "    </tr>\n",
       "  </tbody>\n",
       "</table>\n",
       "</div>"
      ],
      "text/plain": [
       "          bathrooms  bedrooms  beds  accommodates  guests_included  \\\n",
       "id                                                                   \n",
       "15227684        1.0       2.0   3.0             6                1   \n",
       "21600908        1.0       2.0   3.0             5                1   \n",
       "20222564        1.0       2.0   3.0             5                1   \n",
       "\n",
       "          host_response_rate  minimum_nights_avg_ntm  maximum_nights_avg_ntm  \\\n",
       "id                                                                             \n",
       "15227684                 NaN                    0.03                    0.28   \n",
       "21600908                 1.0                    0.02                    0.05   \n",
       "20222564                 1.0                    0.03                   11.25   \n",
       "\n",
       "          security_deposit  review_scores_rating  number_of_reviews  \\\n",
       "id                                                                    \n",
       "15227684               NaN                  0.88               0.18   \n",
       "21600908               1.0                  1.00               0.02   \n",
       "20222564               0.0                  0.91               0.28   \n",
       "\n",
       "          cleaning_fee  extra_people  reviews_per_month  \n",
       "id                                                       \n",
       "15227684           0.5           0.0               0.56  \n",
       "21600908           0.2           0.0               0.11  \n",
       "20222564           0.4           0.0               1.23  "
      ]
     },
     "execution_count": 57,
     "metadata": {},
     "output_type": "execute_result"
    }
   ],
   "source": [
    "num_test.head(3)"
   ]
  },
  {
   "cell_type": "markdown",
   "id": "b11ae5a7",
   "metadata": {
    "papermill": {
     "duration": 0.024159,
     "end_time": "2022-06-22T12:35:26.512046",
     "exception": false,
     "start_time": "2022-06-22T12:35:26.487887",
     "status": "completed"
    },
    "tags": []
   },
   "source": [
    "<a id=\"setup\"></a>\n",
    "<p style=\"background-color: #5900ffff; font-family:calibri; color:white; font-size:80%; font-family:Verdana; text-align; border-radius:30px 35px;  padding:20px\">Handling Missing Data</p>"
   ]
  },
  {
   "cell_type": "code",
   "execution_count": 58,
   "id": "5569edff",
   "metadata": {
    "papermill": {
     "duration": 0.046357,
     "end_time": "2022-06-22T12:35:26.585717",
     "exception": false,
     "start_time": "2022-06-22T12:35:26.539360",
     "status": "completed"
    },
    "tags": []
   },
   "outputs": [
    {
     "data": {
      "text/plain": [
       "bathrooms                  0.079483\n",
       "bedrooms                   0.029806\n",
       "beds                       0.109290\n",
       "accommodates               0.000000\n",
       "guests_included            0.000000\n",
       "host_response_rate        26.020864\n",
       "minimum_nights_avg_ntm     0.000000\n",
       "maximum_nights_avg_ntm     0.000000\n",
       "security_deposit          35.747640\n",
       "review_scores_rating      15.866865\n",
       "number_of_reviews          0.000000\n",
       "cleaning_fee              27.988077\n",
       "extra_people               0.000000\n",
       "reviews_per_month         14.813711\n",
       "dtype: float64"
      ]
     },
     "execution_count": 58,
     "metadata": {},
     "output_type": "execute_result"
    }
   ],
   "source": [
    "# Check for missing data\n",
    "nan_count=num_train.isna().sum()*100/num_train.shape[0]\n",
    "nan_count"
   ]
  },
  {
   "cell_type": "markdown",
   "id": "aff1567b",
   "metadata": {
    "papermill": {
     "duration": 0.025577,
     "end_time": "2022-06-22T12:35:26.637239",
     "exception": false,
     "start_time": "2022-06-22T12:35:26.611662",
     "status": "completed"
    },
    "tags": []
   },
   "source": [
    "<a id=\"setup\"></a>\n",
    "\n",
    "<div style=\"background-color:#5900ff; font-family:Verdana; color:white; \n",
    "            border-radius:30px 35px; padding:20px; width:80%; margin:auto;\">\n",
    "\n",
    "  <!-- First line: centered and bigger -->\n",
    "  <p style=\"font-size:120%; text-align:center; margin:5px 0;\">\n",
    "    Missing Values in Bathrooms, Bedrooms, Beds and reviews_per_month\n",
    "  </p>\n",
    "\n",
    "  <!-- Second line: left aligned and smaller -->\n",
    "  <p style=\"font-size:90%; text-align:left; margin:5px 0;\">\n",
    "    Only a small number of records have missing values in these fields, \n",
    "    so we will simply exclude those rows from the dataset.\n",
    "  </p>\n",
    "\n",
    "</div>\n"
   ]
  },
  {
   "cell_type": "code",
   "execution_count": 60,
   "id": "fe44a84c-8fbe-471f-ac3f-0103c6b0de90",
   "metadata": {},
   "outputs": [],
   "source": [
    "low_missing_columns=nan_count[(nan_count.values<1)&(nan_count.values>.0001)]"
   ]
  },
  {
   "cell_type": "code",
   "execution_count": 61,
   "id": "df185755-ec37-441c-94d8-c3727c20f389",
   "metadata": {},
   "outputs": [
    {
     "data": {
      "text/plain": [
       "20"
      ]
     },
     "execution_count": 61,
     "metadata": {},
     "output_type": "execute_result"
    }
   ],
   "source": [
    "num_train1=num_train.dropna(subset=low_missing_columns.index)\n",
    "num_train.shape[0]-num_train1.shape[0]"
   ]
  },
  {
   "cell_type": "code",
   "execution_count": 62,
   "id": "b069924e-3cb5-4c94-815a-340ab916ff50",
   "metadata": {},
   "outputs": [
    {
     "data": {
      "text/plain": [
       "6"
      ]
     },
     "execution_count": 62,
     "metadata": {},
     "output_type": "execute_result"
    }
   ],
   "source": [
    "num_test1=num_test.dropna(subset=low_missing_columns.index)\n",
    "num_test.shape[0]-num_test1.shape[0]"
   ]
  },
  {
   "cell_type": "markdown",
   "id": "64c4c2a7-0480-4952-8e3c-8863d1477860",
   "metadata": {},
   "source": [
    "For host_response_rate: remove rows with missing 'host_is_superhost',\n",
    "then fill missing 'host_response_rate' values with the mean response rate within each 'host_is_superhost' group. For this we need to join numeric and categorical data on 'id'\n"
   ]
  },
  {
   "cell_type": "code",
   "execution_count": 63,
   "id": "6e3ac8ad-fa9f-4877-814c-af3f45d5cf2b",
   "metadata": {},
   "outputs": [],
   "source": [
    "tot=num_train1.join(cat_train,on='id',how='inner')\n",
    "tot=tot.dropna(subset='host_is_superhost')\n",
    "num_train1['host_response_rate'] = tot.groupby('host_is_superhost')['host_response_rate'].transform(\n",
    "    lambda x: x.fillna(x.mean())\n",
    ")"
   ]
  },
  {
   "cell_type": "code",
   "execution_count": 64,
   "id": "0d0e9183-5416-48c1-b50a-fafeb1edfd2b",
   "metadata": {},
   "outputs": [],
   "source": [
    "tot_test=num_test1.join(cat_test,on='id',how='inner')\n",
    "tot_test=tot_test.dropna(subset='host_is_superhost')\n",
    "num_test1['host_response_rate'] = tot_test.groupby('host_is_superhost')['host_response_rate'].transform(\n",
    "    lambda x: x.fillna(x.mean())\n",
    ")"
   ]
  },
  {
   "cell_type": "code",
   "execution_count": 49,
   "id": "58ed7bea-462b-43fa-afdb-9d5201c2a799",
   "metadata": {},
   "outputs": [],
   "source": [
    " #fill the missing values in the reviews_per_month column using the mean"
   ]
  },
  {
   "cell_type": "code",
   "execution_count": 65,
   "id": "9cc782ed-7c37-48eb-bdf3-2d7afea0a263",
   "metadata": {},
   "outputs": [],
   "source": [
    "num_train1['reviews_per_month'] = num_train1['reviews_per_month'].fillna(num_train1['reviews_per_month'].mean())\n",
    "num_test1['reviews_per_month'] = num_test1['reviews_per_month'].fillna(num_test1['reviews_per_month'].mean())"
   ]
  },
  {
   "cell_type": "markdown",
   "id": "c6215da6",
   "metadata": {},
   "source": [
    "<a id=\"setup\"></a>\n",
    "\n",
    "<div style=\"background-color:#5900ff; font-family:Verdana; color:white; \n",
    "            border-radius:30px 35px; padding:20px; width:80%; margin:auto;\">\n",
    "\n",
    "  <!-- First line: centered and bigger -->\n",
    "  <p style=\"font-size:120%; text-align:center; margin:5px 0;\">\n",
    "    Missing Values in Host Response Rate, Security Deposit, and Cleaning Fee — Imputation\n",
    "  </p>\n",
    "\n",
    "  <!-- Second line: left aligned and smaller -->\n",
    "  <p style=\"font-size:90%; text-align:left; margin:5px 0;\">\n",
    " KNN imputation will used will be used to handle missing data in these columns.\n",
    "  </p>\n",
    "\n",
    "</div>\n"
   ]
  },
  {
   "cell_type": "code",
   "execution_count": null,
   "id": "a8cc7504",
   "metadata": {},
   "outputs": [],
   "source": []
  },
  {
   "cell_type": "code",
   "execution_count": null,
   "id": "efa41413",
   "metadata": {},
   "outputs": [],
   "source": []
  },
  {
   "cell_type": "code",
   "execution_count": null,
   "id": "4b1db7a6",
   "metadata": {},
   "outputs": [],
   "source": []
  },
  {
   "cell_type": "markdown",
   "id": "74bdd9fe",
   "metadata": {
    "papermill": {
     "duration": 0.024306,
     "end_time": "2022-06-22T12:35:27.081547",
     "exception": false,
     "start_time": "2022-06-22T12:35:27.057241",
     "status": "completed"
    },
    "tags": []
   },
   "source": [
    "### KNN imputation"
   ]
  },
  {
   "cell_type": "code",
   "execution_count": 66,
   "id": "5a8799a1",
   "metadata": {
    "papermill": {
     "duration": 5.354478,
     "end_time": "2022-06-22T12:35:33.627419",
     "exception": false,
     "start_time": "2022-06-22T12:35:28.272941",
     "status": "completed"
    },
    "tags": []
   },
   "outputs": [],
   "source": [
    "# KNN Imputation\n",
    "imputer = KNNImputer(n_neighbors = 5)\n",
    "num_train_imputed_KNN = imputer.fit_transform(num_train1)\n",
    "# num_features_train_imputed_KNN\n",
    "num_train_imputed = pd.DataFrame(data = num_train_imputed_KNN, columns = num_train1.columns, index = num_train1.index)"
   ]
  },
  {
   "cell_type": "code",
   "execution_count": 67,
   "id": "cffdb62d-0839-4a52-b856-d7924281127f",
   "metadata": {},
   "outputs": [],
   "source": [
    "# KNN Imputation\n",
    "imputer = KNNImputer(n_neighbors = 5)\n",
    "num_test_imputed_KNN = imputer.fit_transform(num_test1)\n",
    "# num_features_train_imputed_KNN\n",
    "num_test_imputed = pd.DataFrame(data = num_test_imputed_KNN, columns = num_test1.columns, index = num_test1.index)\n"
   ]
  },
  {
   "cell_type": "markdown",
   "id": "4b91513e",
   "metadata": {
    "papermill": {
     "duration": 0.026106,
     "end_time": "2022-06-22T12:35:35.013067",
     "exception": false,
     "start_time": "2022-06-22T12:35:34.986961",
     "status": "completed"
    },
    "tags": []
   },
   "source": [
    "<a id=\"setup\"></a>\n",
    "# <p style=\"background-color: #5900ffff; font-family:calibri; color:white; font-size:80%; font-family:Verdana; text-align;center; border-radius:30px 35px;  padding:20px\">Handling Outliers</p>\n",
    "The target variable `price` is not normaly distributed, but heavily skewed with extremely large outliers. Samples with the largest 3% in `price` will be dropped, as they may be extrmely luxuary that cannot be counted as a typical Airbnb property. \n",
    "\n",
    "I will also look into individual features and maily logic will be used to identily outliers. For instance, this case study focuses on typical Airbnb listings that are usually for short-term stays, therefore those requires individual stays to be longer than 30 nights will be removed, becuase their pricing strategy and other charges for other services (cleaning fee, security deposit, etc) mostly likely follow a different logical from the typical Airbnb listings.\n",
    "\n",
    "Inter Quantile Range (IQR) has been tried to identify outliers. However, most features of this data set are too skewed (see plots below) and a large proportion of samples would be marked as outliers by IQR. Hence, IQR is not used, as a model with toletance to data variability is desired.  \n",
    "\n"
   ]
  },
  {
   "cell_type": "code",
   "execution_count": 68,
   "id": "bbef063e",
   "metadata": {
    "papermill": {
     "duration": 1.173476,
     "end_time": "2022-06-22T12:35:36.213068",
     "exception": false,
     "start_time": "2022-06-22T12:35:35.039592",
     "status": "completed"
    },
    "tags": []
   },
   "outputs": [
    {
     "data": {
      "image/png": "[encoded data removed]",
      "text/plain": [
       "<Figure size 1600x1200 with 12 Axes>"
      ]
     },
     "metadata": {},
     "output_type": "display_data"
    }
   ],
   "source": [
    "cols = num_train_imputed.iloc[:, :-2].columns.values\n",
    "\n",
    "fig, axs = plt.subplots(4,3, figsize=(16, 12))\n",
    "axs = axs.flatten()\n",
    "# axs\n",
    "for i, k in enumerate(cols):\n",
    "    sns.boxplot(data=num_train_imputed, x=k, ax=axs[i])"
   ]
  },
  {
   "cell_type": "markdown",
   "id": "e6d374ce",
   "metadata": {
    "papermill": {
     "duration": 0.028745,
     "end_time": "2022-06-22T12:35:36.270063",
     "exception": false,
     "start_time": "2022-06-22T12:35:36.241318",
     "status": "completed"
    },
    "tags": []
   },
   "source": [
    "<a id=\"setup\"></a>\n",
    "# <p style=\"background-color: #5900ffff; font-family:calibri; color:white; font-size:80%; font-family:Verdana; text-align;center; border-radius:30px 35px;  padding:20px\">Detecting and Managing Outliers</p>\n",
    "Both the target variable (price) and several features contain extreme outliers. Outliers will be assessed for each feature individually, using typical Airbnb listings as a benchmark. This project does not aim to predict prices for properties that deviate significantly from a standard Airbnb listing.\n",
    "\n",
    "The following thresholds will be applied:\n",
    "\n",
    "beds ≤ 6\n",
    "\n",
    "minimum_nights_avg_ntm ≤ 10\n",
    "\n",
    "security_deposit ≤ 500\n",
    "\n",
    "cleaning_fee ≤ 200"
   ]
  },
  {
   "cell_type": "code",
   "execution_count": null,
   "id": "d39d25c1",
   "metadata": {
    "papermill": {
     "duration": 0.044613,
     "end_time": "2022-06-22T12:35:36.341924",
     "exception": false,
     "start_time": "2022-06-22T12:35:36.297311",
     "status": "completed"
    },
    "tags": []
   },
   "outputs": [
    {
     "name": "stdout",
     "output_type": "stream",
     "text": [
      "Rows removed: 3\n",
      "Total number of rows removed: 3, 0.0% of the total.\n"
     ]
    }
   ],
   "source": [
    "df_0 = num_train_imputed\n",
    "# Remove outliers considering `minimum_nights_avg_ntm`\n",
    "df_1 = df_0[df_0['minimum_nights_avg_ntm'] <= 3] \n",
    "print('Rows removed:', df_0.shape[0] - df_1.shape[0])\n",
    "print('Total number of rows removed: {}, {}% of the total.'.format(df_0.shape[0] - df_1.shape[0], round(100*(df_0.shape[0] - df_1.shape[0])/df_0.shape[0], 1)))\n"
   ]
  },
  {
   "cell_type": "code",
   "execution_count": 70,
   "id": "66d4574d",
   "metadata": {
    "papermill": {
     "duration": 0.039205,
     "end_time": "2022-06-22T12:35:36.407892",
     "exception": false,
     "start_time": "2022-06-22T12:35:36.368687",
     "status": "completed"
    },
    "tags": []
   },
   "outputs": [
    {
     "name": "stdout",
     "output_type": "stream",
     "text": [
      "Rows removed: 65\n"
     ]
    }
   ],
   "source": [
    "# Remove outliers considering `beds`\n",
    "df_2 = df_1[df_1['beds'] <= 6] \n",
    "print('Rows removed:', df_1.shape[0] - df_2.shape[0])\n"
   ]
  },
  {
   "cell_type": "code",
   "execution_count": 71,
   "id": "07db3be0",
   "metadata": {
    "papermill": {
     "duration": 0.038504,
     "end_time": "2022-06-22T12:35:36.473430",
     "exception": false,
     "start_time": "2022-06-22T12:35:36.434926",
     "status": "completed"
    },
    "tags": []
   },
   "outputs": [
    {
     "name": "stdout",
     "output_type": "stream",
     "text": [
      "Rows removed: 0\n"
     ]
    }
   ],
   "source": [
    "# Remove outliers considering `security_deposit`\n",
    "df_3 = df_2[df_2['security_deposit'] <= 1000]\n",
    "print('Rows removed:', df_2.shape[0] - df_3.shape[0])\n"
   ]
  },
  {
   "cell_type": "code",
   "execution_count": 72,
   "id": "7406f818",
   "metadata": {
    "papermill": {
     "duration": 0.038927,
     "end_time": "2022-06-22T12:35:36.539375",
     "exception": false,
     "start_time": "2022-06-22T12:35:36.500448",
     "status": "completed"
    },
    "tags": []
   },
   "outputs": [
    {
     "name": "stdout",
     "output_type": "stream",
     "text": [
      "Rows removed: 0\n",
      "Total number of rows removed: 68, 0.7% of the total.\n"
     ]
    }
   ],
   "source": [
    "# Remove outliers considering `cleaning_fee`\n",
    "df_4 = df_3[df_3['cleaning_fee'] <= 200] \n",
    "print('Rows removed:', df_3.shape[0] - df_4.shape[0])\n",
    "print('Total number of rows removed: {}, {}% of the total.'.format(df_0.shape[0] - df_4.shape[0], round(100*(df_0.shape[0] - df_4.shape[0])/df_0.shape[0], 1)))"
   ]
  },
  {
   "cell_type": "code",
   "execution_count": 73,
   "id": "e29d1acc-86cb-42f4-81f4-dccf44b41347",
   "metadata": {},
   "outputs": [],
   "source": [
    "q1=df_4['maximum_nights_avg_ntm'].quantile(.25)\n",
    "q3=df_4['maximum_nights_avg_ntm'].quantile(.75)\n",
    "Q=q3-q1\n",
    "outlier_index=df_4.loc[(df_4['maximum_nights_avg_ntm']<q1-.5*Q) | (df_4['maximum_nights_avg_ntm']>q3+.5*Q)].index\n",
    "df_4.drop(outlier_index,axis=0,inplace=True)"
   ]
  },
  {
   "cell_type": "code",
   "execution_count": 74,
   "id": "31d6bf45",
   "metadata": {
    "papermill": {
     "duration": 0.037049,
     "end_time": "2022-06-22T12:35:36.603819",
     "exception": false,
     "start_time": "2022-06-22T12:35:36.566770",
     "status": "completed"
    },
    "tags": []
   },
   "outputs": [
    {
     "data": {
      "text/plain": [
       "(9975, 14)"
      ]
     },
     "execution_count": 74,
     "metadata": {},
     "output_type": "execute_result"
    }
   ],
   "source": [
    "# Keep a copy of cleaned numerical features\n",
    "num_train_cleaned = df_4.copy()\n",
    "num_train_cleaned.shape"
   ]
  },
  {
   "cell_type": "code",
   "execution_count": 75,
   "id": "d5bad142-0f73-4bc1-be72-9efa2b218065",
   "metadata": {},
   "outputs": [
    {
     "data": {
      "text/plain": [
       "(2511, 14)"
      ]
     },
     "execution_count": 75,
     "metadata": {},
     "output_type": "execute_result"
    }
   ],
   "source": [
    "# Keep a copy of cleaned numerical features\n",
    "num_test_cleaned = num_test_imputed.copy()\n",
    "num_test_cleaned.shape"
   ]
  },
  {
   "cell_type": "code",
   "execution_count": 76,
   "id": "8ac33a14-c294-44f9-b9b7-ace1b95fe036",
   "metadata": {},
   "outputs": [
    {
     "data": {
      "image/png": "[encoded data removed]",
      "text/plain": [
       "<Figure size 1600x1200 with 12 Axes>"
      ]
     },
     "metadata": {},
     "output_type": "display_data"
    }
   ],
   "source": [
    "cols = num_train_cleaned.iloc[:, :-2].columns.values\n",
    "\n",
    "fig, axs = plt.subplots(4,3, figsize=(16, 12))\n",
    "axs = axs.flatten()\n",
    "# axs\n",
    "for i, k in enumerate(cols):\n",
    "    sns.boxplot(data=num_train_cleaned, x=k, ax=axs[i])"
   ]
  },
  {
   "cell_type": "code",
   "execution_count": 62,
   "id": "df751c94-533f-4639-9505-8e0a37efeb35",
   "metadata": {},
   "outputs": [
    {
     "data": {
      "image/png": "[encoded data removed]",
      "text/plain": [
       "<Figure size 2000x1500 with 16 Axes>"
      ]
     },
     "metadata": {},
     "output_type": "display_data"
    }
   ],
   "source": [
    "num_train_cleaned.hist(bins=50, figsize=(20,15))\n",
    "plt.show()\n"
   ]
  },
  {
   "cell_type": "code",
   "execution_count": 77,
   "id": "b0f726cb-b81c-4af3-a5cb-11e67057a502",
   "metadata": {},
   "outputs": [],
   "source": [
    "y_train_num=y_train.loc[num_train_cleaned.index]\n",
    "y_test_num=y_test.loc[num_test_cleaned.index]"
   ]
  },
  {
   "cell_type": "markdown",
   "id": "22a9b0ab-e677-438d-a26d-ed6a8d1a0230",
   "metadata": {},
   "source": [
    "<a id=\"setup\"></a>\n",
    "# <p style=\"background-color: #5900ffff; font-family:calibri; color:white; font-size:80%; font-family:Verdana; text-align;center; border-radius:30px 35px;  padding:20px\"> Important features </p>\n",
    "Combine training and test feature sets and targets for a unified Lasso regression analysis. Fit a Lasso model to identify important features by shrinking less relevant coefficients toward zero. Visualize the feature importance using a bar plot of Lasso coefficients."
   ]
  },
  {
   "cell_type": "code",
   "execution_count": 78,
   "id": "a4263644-c13d-4b9c-99d5-77a25870e94c",
   "metadata": {},
   "outputs": [
    {
     "data": {
      "image/png": "[encoded data removed]",
      "text/plain": [
       "<Figure size 1200x600 with 1 Axes>"
      ]
     },
     "metadata": {},
     "output_type": "display_data"
    }
   ],
   "source": [
    "import numpy as np\n",
    "import matplotlib.pyplot as plt\n",
    "from sklearn.linear_model import Lasso\n",
    "\n",
    "# Combine train and test sets\n",
    "total_x = pd.concat([num_train_cleaned, num_test_cleaned], axis=0)\n",
    "total_y = pd.concat([y_train_num, y_test_num], axis=0)\n",
    "\n",
    "# Fit Lasso model\n",
    "names = total_x.columns\n",
    "lasso = Lasso(alpha=0.1)\n",
    "lasso_co = lasso.fit(total_x, total_y).coef_\n",
    "\n",
    "# Identify the most important feature (with max absolute coefficient)\n",
    "important_idx = np.argmax(np.abs(lasso_co))\n",
    "important_feature = names[important_idx]\n",
    "\n",
    "# Plot\n",
    "plt.figure(figsize=(12, 6))\n",
    "bars = plt.bar(names, lasso_co)\n",
    "\n",
    "# Color the x-label of the most important feature in red\n",
    "colors = ['red' if name == important_feature else 'black' for name in names]\n",
    "plt.xticks(ticks=np.arange(len(names)), labels=names, rotation=90, color='black')  # default color\n",
    "for label, color in zip(plt.gca().get_xticklabels(), colors):\n",
    "    label.set_color(color)\n",
    "\n",
    "plt.title(\"Lasso Coefficients\")\n",
    "plt.tight_layout()\n",
    "plt.show()"
   ]
  },
  {
   "cell_type": "markdown",
   "id": "9a698479-b8da-488c-98d7-aa4a806dc3a5",
   "metadata": {},
   "source": [
    "Feature Insights from the Plot:\n",
    "1. accommodates (highlighted in red):\n",
    "Has the strongest positive effect on the target (likely price).\n",
    "Makes sense: more guests → higher price.\n",
    "\n",
    "2. number_of_reviews:\n",
    "Strong negative coefficient.\n",
    "Possibly high-review listings are older or in saturated markets.\n",
    "\n",
    "3. bathrooms, bedrooms, beds:\n",
    "All have positive impact — more amenities → higher price.\n",
    "\n",
    "4. review_scores_rating:\n",
    "Positively correlated with the target — better rating, higher price.\n",
    "\n",
    "5.host_response_rate, extra_people, min/max nights:\n",
    "Coefficients are close to zero — Lasso considers them not useful for prediction."
   ]
  },
  {
   "cell_type": "markdown",
   "id": "9c886c6b-9702-432c-b29e-6f9a2f816319",
   "metadata": {},
   "source": [
    "#  Feature Engineering:\n",
    "Based on the Lasso coefficient plot, the features accommodates, beds, and bedrooms showed significant positive influence on the target variable (likely price). These derived features capture interactions between them, which may carry additional predictive power beyond their individual contributions.\n",
    "guests_per_bed: Measures how many guests are accommodated per bedroom. This helps quantify the intensity of room usage, which may relate to pricing or comfort level.\n",
    "\n",
    "beds_per_bedroom: Calculates the average number of beds per bedroom, giving insight into the density or luxury of sleeping arrangements.\n",
    "\n",
    "review_score_per_review: Combines quality and quantity. Helps reduce bias from listings with very few reviews but perfect scores.\n",
    "+1 avoids division by zero."
   ]
  },
  {
   "cell_type": "code",
   "execution_count": 79,
   "id": "33458a70-b83d-4e99-8b8d-87e15288cc7d",
   "metadata": {},
   "outputs": [],
   "source": [
    "num_train_cleaned['guests_per_bed']=num_train_cleaned.accommodates/(num_train_cleaned.bedrooms+1)\n",
    "# num_train_cleaned['beds_per_bedroom']=num_train_cleaned.beds/(num_train_cleaned.bedrooms+1)\n",
    "# num_train_cleaned['beds_per_accommodates'] = num_train_cleaned.beds / (num_train_cleaned.accommodates )\n",
    "# num_train_cleaned['review_score_per_review'] = num_train_cleaned.review_scores_rating / (num_train_cleaned.number_of_reviews + 1)\n",
    "# num_train_cleaned['bathrooms_per_accommodates'] = num_train_cleaned.bathrooms / (num_train_cleaned.accommodates + 1)"
   ]
  },
  {
   "cell_type": "code",
   "execution_count": 80,
   "id": "77a7bde4-66ec-4c1f-aa45-aecfc2e95fa4",
   "metadata": {},
   "outputs": [
    {
     "data": {
      "text/plain": [
       "price                     1.000000\n",
       "accommodates              0.630564\n",
       "bedrooms                  0.580801\n",
       "beds                      0.564032\n",
       "guests_per_bed            0.408488\n",
       "cleaning_fee              0.382383\n",
       "bathrooms                 0.325075\n",
       "guests_included           0.298891\n",
       "security_deposit          0.203063\n",
       "extra_people              0.030244\n",
       "minimum_nights_avg_ntm    0.022801\n",
       "maximum_nights_avg_ntm    0.015382\n",
       "review_scores_rating      0.001847\n",
       "host_response_rate       -0.023340\n",
       "reviews_per_month        -0.026093\n",
       "number_of_reviews        -0.048823\n",
       "Name: price, dtype: float64"
      ]
     },
     "execution_count": 80,
     "metadata": {},
     "output_type": "execute_result"
    }
   ],
   "source": [
    "corr_matrix = num_train_cleaned.join(y_train,on='id',how='inner').corr()\n",
    "corr_matrix[\"price\"].sort_values(ascending=False)"
   ]
  },
  {
   "cell_type": "code",
   "execution_count": 81,
   "id": "e86975be-45cb-4f68-a48b-5fe2e9d84d5e",
   "metadata": {},
   "outputs": [],
   "source": [
    "num_test_cleaned['guests_per_bed']=num_test_cleaned.accommodates/(num_train_cleaned.bedrooms+1)\n",
    "# num_test_cleaned['beds_per_bedroom']=num_test_cleaned.beds/(num_train_cleaned.bedrooms+1)\n",
    "# num_test_cleaned['review_score_per_review'] = num_test_cleaned.review_scores_rating / (num_train_cleaned.number_of_reviews + 1)"
   ]
  },
  {
   "cell_type": "markdown",
   "id": "b70281de",
   "metadata": {
    "papermill": {
     "duration": 0.028041,
     "end_time": "2022-06-22T12:35:38.453995",
     "exception": false,
     "start_time": "2022-06-22T12:35:38.425954",
     "status": "completed"
    },
    "tags": []
   },
   "source": [
    "# 5. Proprocessing - Categorical Features\n",
    "\n",
    "This section focuses on categorical feature engineering. Following steps will be taken:\n",
    "\n",
    "- Deal with missing data (dropping; Random Sample Imputation)\n",
    "- Choose proper encoding for each feature\n"
   ]
  },
  {
   "cell_type": "markdown",
   "id": "b03c112e",
   "metadata": {
    "papermill": {
     "duration": 0.027237,
     "end_time": "2022-06-22T12:35:38.509868",
     "exception": false,
     "start_time": "2022-06-22T12:35:38.482631",
     "status": "completed"
    },
    "tags": []
   },
   "source": [
    "## 5.1 Handling Missing Data"
   ]
  },
  {
   "cell_type": "code",
   "execution_count": 82,
   "id": "0e7ee2f8-a3ce-41d2-976a-f348c522ce03",
   "metadata": {},
   "outputs": [],
   "source": [
    "cat_train2=cat_train.join(num_train_cleaned,on='id',how='inner')"
   ]
  },
  {
   "cell_type": "code",
   "execution_count": 83,
   "id": "193dea8f-1eec-4e40-9f73-08f713184cb9",
   "metadata": {},
   "outputs": [
    {
     "data": {
      "text/plain": [
       "(9975, 23)"
      ]
     },
     "execution_count": 83,
     "metadata": {},
     "output_type": "execute_result"
    }
   ],
   "source": [
    "cat_train=cat_train2[categorical_columns]\n",
    "cat_train2.shape"
   ]
  },
  {
   "cell_type": "code",
   "execution_count": 84,
   "id": "cc64918e-7064-4c3f-92e1-0bb32dfb575d",
   "metadata": {},
   "outputs": [],
   "source": [
    "cat_test=cat_test.join(num_test_cleaned,on='id',how='inner')"
   ]
  },
  {
   "cell_type": "code",
   "execution_count": 85,
   "id": "8390822e-7a4e-41db-b5af-afe7b1f9e3c8",
   "metadata": {},
   "outputs": [
    {
     "data": {
      "text/plain": [
       "(2511, 8)"
      ]
     },
     "execution_count": 85,
     "metadata": {},
     "output_type": "execute_result"
    }
   ],
   "source": [
    "cat_test=cat_test[categorical_columns]\n",
    "cat_test.shape"
   ]
  },
  {
   "cell_type": "code",
   "execution_count": 86,
   "id": "c268dd90",
   "metadata": {
    "papermill": {
     "duration": 0.046175,
     "end_time": "2022-06-22T12:35:38.716125",
     "exception": false,
     "start_time": "2022-06-22T12:35:38.669950",
     "status": "completed"
    },
    "scrolled": true,
    "tags": []
   },
   "outputs": [
    {
     "data": {
      "text/plain": [
       "room_type                    0\n",
       "property_type                0\n",
       "neighbourhood_cleansed       0\n",
       "host_response_time        2603\n",
       "host_is_superhost           12\n",
       "bed_type                     0\n",
       "instant_bookable             0\n",
       "cancellation_policy          0\n",
       "dtype: int64"
      ]
     },
     "execution_count": 86,
     "metadata": {},
     "output_type": "execute_result"
    }
   ],
   "source": [
    "# Check for missing data\n",
    "cat_train.isna().sum()"
   ]
  },
  {
   "cell_type": "code",
   "execution_count": 87,
   "id": "54eff84f-96c7-4eec-acf7-18b804ab74e7",
   "metadata": {},
   "outputs": [
    {
     "data": {
      "text/plain": [
       "room_type                   0\n",
       "property_type               0\n",
       "neighbourhood_cleansed      0\n",
       "host_response_time        637\n",
       "host_is_superhost           5\n",
       "bed_type                    0\n",
       "instant_bookable            0\n",
       "cancellation_policy         0\n",
       "dtype: int64"
      ]
     },
     "execution_count": 87,
     "metadata": {},
     "output_type": "execute_result"
    }
   ],
   "source": [
    "# Check for missing data\n",
    "cat_test.isna().sum()"
   ]
  },
  {
   "cell_type": "markdown",
   "id": "5ebbfa79",
   "metadata": {
    "papermill": {
     "duration": 0.027605,
     "end_time": "2022-06-22T12:35:38.772524",
     "exception": false,
     "start_time": "2022-06-22T12:35:38.744919",
     "status": "completed"
    },
    "tags": []
   },
   "source": [
    "### Missing data in `host_is_superhost` - Drop\n",
    "There are very few missing values in these rows. I will simply remove them."
   ]
  },
  {
   "cell_type": "code",
   "execution_count": 88,
   "id": "4cce1ed4",
   "metadata": {
    "papermill": {
     "duration": 0.048014,
     "end_time": "2022-06-22T12:35:38.849262",
     "exception": false,
     "start_time": "2022-06-22T12:35:38.801248",
     "status": "completed"
    },
    "tags": []
   },
   "outputs": [
    {
     "name": "stdout",
     "output_type": "stream",
     "text": [
      "12 rows were removed.\n"
     ]
    }
   ],
   "source": [
    "cat_train1 = cat_train.dropna(subset = ['host_is_superhost'])\n",
    "print('{} rows were removed.'.format(cat_train.shape[0] - cat_train1.shape[0]))"
   ]
  },
  {
   "cell_type": "code",
   "execution_count": 89,
   "id": "9daf921c-2f9e-4dfb-bfb3-bf83f822a95c",
   "metadata": {},
   "outputs": [
    {
     "name": "stdout",
     "output_type": "stream",
     "text": [
      "5 rows were removed.\n"
     ]
    }
   ],
   "source": [
    "cat_test1 = cat_test.dropna(subset = ['host_is_superhost'])\n",
    "print('{} rows were removed.'.format(cat_test.shape[0] - cat_test1.shape[0]))"
   ]
  },
  {
   "cell_type": "markdown",
   "id": "d4f24dfa",
   "metadata": {
    "papermill": {
     "duration": 0.028679,
     "end_time": "2022-06-22T12:35:38.906868",
     "exception": false,
     "start_time": "2022-06-22T12:35:38.878189",
     "status": "completed"
    },
    "tags": []
   },
   "source": [
    "### Missing data in `host_response_time`\n",
    "\n",
    "For categorical data, I will use Random Sample Imputation for missing values, which will keep the occurrence distribution of each value."
   ]
  },
  {
   "cell_type": "code",
   "execution_count": 90,
   "id": "3c05c7be-ca5f-4219-b581-5984b83842c8",
   "metadata": {},
   "outputs": [
    {
     "data": {
      "text/plain": [
       "host_response_time\n",
       "a few days or more    0.124706\n",
       "within a day          0.887774\n",
       "within a few hours    0.969169\n",
       "within an hour        0.990497\n",
       "Name: host_response_rate, dtype: float64"
      ]
     },
     "execution_count": 90,
     "metadata": {},
     "output_type": "execute_result"
    }
   ],
   "source": [
    "cat_train1.join(num_train_cleaned,on='id',how='inner').groupby('host_response_time')['host_response_rate'].mean()"
   ]
  },
  {
   "cell_type": "code",
   "execution_count": 91,
   "id": "9d6dba30-196b-48b4-a355-fef6e6c3ce22",
   "metadata": {},
   "outputs": [
    {
     "data": {
      "text/plain": [
       "count    2591.000000\n",
       "mean        0.954913\n",
       "std         0.011258\n",
       "min         0.951218\n",
       "25%         0.951218\n",
       "50%         0.951218\n",
       "75%         0.951218\n",
       "max         0.989206\n",
       "Name: host_response_rate, dtype: float64"
      ]
     },
     "execution_count": 91,
     "metadata": {},
     "output_type": "execute_result"
    }
   ],
   "source": [
    "cat_train1.join(num_train_cleaned,on='id',how='inner')[cat_train1.\\\n",
    "join(num_train_cleaned,on='id',how='inner').host_response_time.isna()]['host_response_rate'].describe()"
   ]
  },
  {
   "cell_type": "code",
   "execution_count": 92,
   "id": "1ffe7e2a",
   "metadata": {
    "papermill": {
     "duration": 0.039602,
     "end_time": "2022-06-22T12:35:39.391313",
     "exception": false,
     "start_time": "2022-06-22T12:35:39.351711",
     "status": "completed"
    },
    "tags": []
   },
   "outputs": [],
   "source": [
    "def fill_host_response_time(df):\n",
    "    choices = ['within an hour', 'within a few hours']\n",
    "    number_na = df['host_response_time'].isna().sum()\n",
    "    random_values = np.random.choice(choices, size=number_na, replace=True)\n",
    "    df.loc[df['host_response_time'].isna(), 'host_response_time'] = random_values\n",
    "    return df"
   ]
  },
  {
   "cell_type": "code",
   "execution_count": 93,
   "id": "76e3e9af-d22e-41e2-a446-5ab069d32383",
   "metadata": {},
   "outputs": [
    {
     "name": "stdout",
     "output_type": "stream",
     "text": [
      "host_response_time\n",
      "within an hour        6734\n",
      "within a few hours    2489\n",
      "within a day           638\n",
      "a few days or more     102\n",
      "Name: count, dtype: int64\n"
     ]
    }
   ],
   "source": [
    "cat_train1 = fill_host_response_time(cat_train1)\n",
    "print(cat_train1['host_response_time'].value_counts())"
   ]
  },
  {
   "cell_type": "code",
   "execution_count": 94,
   "id": "42d034ec-7ca4-4dc8-853a-8c1d9cfaba95",
   "metadata": {},
   "outputs": [
    {
     "name": "stdout",
     "output_type": "stream",
     "text": [
      "host_response_time\n",
      "within an hour        1721\n",
      "within a few hours     594\n",
      "within a day           161\n",
      "a few days or more      30\n",
      "Name: count, dtype: int64\n"
     ]
    }
   ],
   "source": [
    "cat_test1 = fill_host_response_time(cat_test1)\n",
    "print(cat_test1['host_response_time'].value_counts())"
   ]
  },
  {
   "cell_type": "markdown",
   "id": "e4376b01",
   "metadata": {
    "papermill": {
     "duration": 0.030497,
     "end_time": "2022-06-22T12:35:39.541427",
     "exception": false,
     "start_time": "2022-06-22T12:35:39.510930",
     "status": "completed"
    },
    "tags": []
   },
   "source": [
    "## 5.2 Categorical Feature Encoding"
   ]
  },
  {
   "cell_type": "code",
   "execution_count": 95,
   "id": "41bef460",
   "metadata": {
    "papermill": {
     "duration": 0.077785,
     "end_time": "2022-06-22T12:35:39.650230",
     "exception": false,
     "start_time": "2022-06-22T12:35:39.572445",
     "status": "completed"
    },
    "tags": []
   },
   "outputs": [
    {
     "data": {
      "text/html": [
       "<div>\n",
       "<style scoped>\n",
       "    .dataframe tbody tr th:only-of-type {\n",
       "        vertical-align: middle;\n",
       "    }\n",
       "\n",
       "    .dataframe tbody tr th {\n",
       "        vertical-align: top;\n",
       "    }\n",
       "\n",
       "    .dataframe thead th {\n",
       "        text-align: right;\n",
       "    }\n",
       "</style>\n",
       "<table border=\"1\" class=\"dataframe\">\n",
       "  <thead>\n",
       "    <tr style=\"text-align: right;\">\n",
       "      <th></th>\n",
       "      <th>room_type</th>\n",
       "      <th>property_type</th>\n",
       "      <th>neighbourhood_cleansed</th>\n",
       "      <th>host_response_time</th>\n",
       "      <th>host_is_superhost</th>\n",
       "      <th>bed_type</th>\n",
       "      <th>instant_bookable</th>\n",
       "      <th>cancellation_policy</th>\n",
       "    </tr>\n",
       "  </thead>\n",
       "  <tbody>\n",
       "    <tr>\n",
       "      <th>count</th>\n",
       "      <td>9963</td>\n",
       "      <td>9963</td>\n",
       "      <td>9963</td>\n",
       "      <td>9963</td>\n",
       "      <td>9963</td>\n",
       "      <td>9963</td>\n",
       "      <td>9963</td>\n",
       "      <td>9963</td>\n",
       "    </tr>\n",
       "    <tr>\n",
       "      <th>unique</th>\n",
       "      <td>3</td>\n",
       "      <td>27</td>\n",
       "      <td>111</td>\n",
       "      <td>4</td>\n",
       "      <td>2</td>\n",
       "      <td>5</td>\n",
       "      <td>2</td>\n",
       "      <td>5</td>\n",
       "    </tr>\n",
       "    <tr>\n",
       "      <th>top</th>\n",
       "      <td>Entire home/apt</td>\n",
       "      <td>Apartment</td>\n",
       "      <td>Old Town, Princes Street and Leith Street</td>\n",
       "      <td>within an hour</td>\n",
       "      <td>f</td>\n",
       "      <td>Real Bed</td>\n",
       "      <td>f</td>\n",
       "      <td>strict_14_with_grace_period</td>\n",
       "    </tr>\n",
       "    <tr>\n",
       "      <th>freq</th>\n",
       "      <td>6053</td>\n",
       "      <td>8127</td>\n",
       "      <td>671</td>\n",
       "      <td>6734</td>\n",
       "      <td>6817</td>\n",
       "      <td>9860</td>\n",
       "      <td>4983</td>\n",
       "      <td>3982</td>\n",
       "    </tr>\n",
       "  </tbody>\n",
       "</table>\n",
       "</div>"
      ],
      "text/plain": [
       "              room_type property_type  \\\n",
       "count              9963          9963   \n",
       "unique                3            27   \n",
       "top     Entire home/apt     Apartment   \n",
       "freq               6053          8127   \n",
       "\n",
       "                           neighbourhood_cleansed host_response_time  \\\n",
       "count                                        9963               9963   \n",
       "unique                                        111                  4   \n",
       "top     Old Town, Princes Street and Leith Street     within an hour   \n",
       "freq                                          671               6734   \n",
       "\n",
       "       host_is_superhost  bed_type instant_bookable  \\\n",
       "count               9963      9963             9963   \n",
       "unique                 2         5                2   \n",
       "top                    f  Real Bed                f   \n",
       "freq                6817      9860             4983   \n",
       "\n",
       "                cancellation_policy  \n",
       "count                          9963  \n",
       "unique                            5  \n",
       "top     strict_14_with_grace_period  \n",
       "freq                           3982  "
      ]
     },
     "execution_count": 95,
     "metadata": {},
     "output_type": "execute_result"
    }
   ],
   "source": [
    "cat_train1.select_dtypes('object').describe()"
   ]
  },
  {
   "cell_type": "markdown",
   "id": "517f2dfb",
   "metadata": {
    "papermill": {
     "duration": 0.031515,
     "end_time": "2022-06-22T12:35:39.789626",
     "exception": false,
     "start_time": "2022-06-22T12:35:39.758111",
     "status": "completed"
    },
    "tags": []
   },
   "source": [
    "**The 8 categorical features can be classified into 2 tyeps**  \n",
    "Each type will be considered separately:\n",
    "- 5 have more classes: `room_type`, `host_response_time`, `bed_type`, `cancellation_policy`, `property_type`\n",
    "- 1 special categorical feature: `neighbourhood_cleansed`  \n",
    "\n",
    "\n",
    "**Feature `neighbourhood_cleansed`**  \n",
    "This feature is considered special because it contains information on the location of the listings. As locaiton is commonly considered as one of the most important features when it comes to properties, special care should be taken in handling this feature. It has 111 unique values, without only several being dominant, so simply collapsing classes will not work for this feature. Despite of its high cardinality, OneHot Encoding is still worth trying. I will handle this feature with both OneHot Encoding and Target Encoding. They will both be used in model training  in later stpes.  \n",
    "\n",
    "The name of this feature will be changed to `neighbourhood` for simplicity."
   ]
  },
  {
   "cell_type": "code",
   "execution_count": 96,
   "id": "b2f562ef-4a03-4bf0-885a-4701497588e6",
   "metadata": {},
   "outputs": [
    {
     "data": {
      "text/plain": [
       "111"
      ]
     },
     "execution_count": 96,
     "metadata": {},
     "output_type": "execute_result"
    }
   ],
   "source": [
    "cat_train1.neighbourhood_cleansed.unique().size"
   ]
  },
  {
   "cell_type": "markdown",
   "id": "ee608d5b",
   "metadata": {
    "papermill": {
     "duration": 0.029974,
     "end_time": "2022-06-22T12:35:40.000268",
     "exception": false,
     "start_time": "2022-06-22T12:35:39.970294",
     "status": "completed"
    },
    "tags": []
   },
   "source": [
    "### 5.2.2 Encoding for other categorical features (excluding `neighbourhood`)\n",
    "Feaures to be encoded:\n",
    "- `room_type`\n",
    "- `host_response_time`\n",
    "- `bed_type` \n",
    "- `cancellation_policy`\n",
    "- `property_type`"
   ]
  },
  {
   "cell_type": "markdown",
   "id": "ab06be40",
   "metadata": {
    "papermill": {
     "duration": 0.031008,
     "end_time": "2022-06-22T12:35:40.067829",
     "exception": false,
     "start_time": "2022-06-22T12:35:40.036821",
     "status": "completed"
    },
    "tags": []
   },
   "source": [
    "#### `room_type` - Label Encoding"
   ]
  },
  {
   "cell_type": "code",
   "execution_count": 97,
   "id": "e59b864a-18d5-4d7a-8bf3-97e89073723c",
   "metadata": {},
   "outputs": [],
   "source": [
    "cat_train1.loc[:,'room_type'] = cat_train1['room_type'].str.strip()\n",
    "cat_test1.loc[:,'room_type'] = cat_test1['room_type'].str.strip()"
   ]
  },
  {
   "cell_type": "code",
   "execution_count": 98,
   "id": "b2211f99-a62f-4c09-b93e-80d88b358443",
   "metadata": {},
   "outputs": [],
   "source": [
    "def func_encode_categorical_feature(data, col):\n",
    "    \n",
    "    room_type_counts = data[col].value_counts()\n",
    "    rare_types = room_type_counts[room_type_counts * 100 / data.shape[0] < 2].index\n",
    "\n",
    "  \n",
    "    data.loc[:, col] = data[col].replace(rare_types, 'Other')\n",
    "\n",
    "    # \n",
    "    freq_encoding = data[col].value_counts(normalize=True).to_dict()\n",
    "    data.loc[:, col] = data[col].map(freq_encoding)\n",
    "\n",
    "    return data\n"
   ]
  },
  {
   "cell_type": "code",
   "execution_count": 99,
   "id": "8f6b5d70-a54c-4bec-a2cd-e6f0b46a3f99",
   "metadata": {},
   "outputs": [],
   "source": [
    "room_type_map = {\n",
    "    'Shared room': 0,\n",
    "    'Private room': 1,\n",
    "    'Entire home/apt': 2\n",
    "}\n",
    "cat_train1['room_type'] = cat_train1['room_type'].map(room_type_map)"
   ]
  },
  {
   "cell_type": "code",
   "execution_count": 100,
   "id": "dbf51b21-ee0d-4a75-a247-4662e11f0261",
   "metadata": {},
   "outputs": [],
   "source": [
    "room_type_map = {\n",
    "    'Shared room': 0,\n",
    "    'Private room': 1,\n",
    "    'Entire home/apt': 2\n",
    "}\n",
    "cat_test1['room_type'] = cat_test1['room_type'].map(room_type_map)"
   ]
  },
  {
   "cell_type": "code",
   "execution_count": 101,
   "id": "491fd9ca-7337-4486-9dde-e340a78bc0fd",
   "metadata": {},
   "outputs": [],
   "source": [
    "cat_train1=func_encode_categorical_feature(cat_train1,'cancellation_policy')\n",
    "cat_test1=func_encode_categorical_feature(cat_test1,'cancellation_policy')"
   ]
  },
  {
   "cell_type": "code",
   "execution_count": 102,
   "id": "40eecb61-1984-4e6e-b479-2c6feef24bfe",
   "metadata": {},
   "outputs": [],
   "source": [
    "cat_train1=func_encode_categorical_feature(cat_train1,'host_response_time')\n",
    "cat_test1=func_encode_categorical_feature(cat_test1,'host_response_time')"
   ]
  },
  {
   "cell_type": "code",
   "execution_count": 103,
   "id": "d0317bd1-f6b8-435e-9f90-c22581495c8a",
   "metadata": {},
   "outputs": [],
   "source": [
    "cat_train1=func_encode_categorical_feature(cat_train1,'bed_type')\n",
    "cat_test1=func_encode_categorical_feature(cat_test1,'bed_type')"
   ]
  },
  {
   "cell_type": "code",
   "execution_count": 104,
   "id": "463d317d-0824-4297-a146-107403da8318",
   "metadata": {},
   "outputs": [],
   "source": [
    "cat_train1=func_encode_categorical_feature(cat_train1,'property_type')\n",
    "cat_test1=func_encode_categorical_feature(cat_test1,'property_type')"
   ]
  },
  {
   "cell_type": "code",
   "execution_count": 105,
   "id": "109f27f7-8d1a-421d-84a2-613165018b80",
   "metadata": {},
   "outputs": [],
   "source": [
    "cat_train1.loc[:,'host_is_superhost'] = cat_train1['host_is_superhost'].map({'f': 0, 't': 1})"
   ]
  },
  {
   "cell_type": "code",
   "execution_count": 106,
   "id": "fbc4be8c-00ce-4245-922f-25c0f049e79f",
   "metadata": {},
   "outputs": [],
   "source": [
    "cat_test1.loc[:,'host_is_superhost'] = cat_test1['host_is_superhost'].map({'f': 0, 't': 1})"
   ]
  },
  {
   "cell_type": "code",
   "execution_count": 107,
   "id": "dd0db583-a155-46ec-8cb0-1046be3ca876",
   "metadata": {},
   "outputs": [],
   "source": [
    "cat_train1.loc[:,'instant_bookable'] = cat_train1['instant_bookable'].map({'f': 0, 't': 1})"
   ]
  },
  {
   "cell_type": "code",
   "execution_count": 108,
   "id": "6dd7b46a-b369-48f8-b5d6-0238c5e149dd",
   "metadata": {},
   "outputs": [],
   "source": [
    "cat_test1.loc[:,'instant_bookable'] = cat_test1['instant_bookable'].map({'f': 0, 't': 1})"
   ]
  },
  {
   "cell_type": "markdown",
   "id": "d5361b82",
   "metadata": {
    "papermill": {
     "duration": 0.030729,
     "end_time": "2022-06-22T12:35:41.300696",
     "exception": false,
     "start_time": "2022-06-22T12:35:41.269967",
     "status": "completed"
    },
    "tags": []
   },
   "source": [
    "### 5.2.3 Encoding for `neighbourhood_cleansed`\n",
    "\n",
    "Special care will be taken when handling this feature because it contains information on location of the listings. Either of them can be used when training the models in later steps. `cat_features_1` and `cat_features_2` will contain `neighbourhood_cleansed` encoded with OneHot Encoding and Target Encoding, respectively.  \n",
    "\n",
    "\n",
    "\n",
    "**2. Target Encoding**  \n",
    "\n",
    "Target Encoding is prone to overfitting if some classes have very few samples, and it is arguably seen as \"cheating\" by some practitioners as it contains information directly extracted from the targets a model tries to predict. However, target encoding does not add dimensions to our data (as our target is numric), I will use it to prepare the data as an alternative to OneHot Encoding.\n",
    "\n",
    "Additive Smoothing will be used to avoid overfitting caused by Target Encoding.\n",
    "\n",
    "<!-- **3. Replace with a new feature `avg_price_per_bedroom_by_neighbourhood`**\n",
    "\n",
    "The new feature reflects the average price per bedroom by neighbourhood. -->"
   ]
  },
  {
   "cell_type": "code",
   "execution_count": 109,
   "id": "b41ce26a",
   "metadata": {
    "papermill": {
     "duration": 0.042709,
     "end_time": "2022-06-22T12:35:41.376252",
     "exception": false,
     "start_time": "2022-06-22T12:35:41.333543",
     "status": "completed"
    },
    "tags": []
   },
   "outputs": [],
   "source": [
    "# Rename column `neighbourhood_cleansed` as `neighbourhood`\n",
    "cat_train1 = cat_train1.rename(columns = {'neighbourhood_cleansed': 'neighbourhood'})\n",
    "cat_test1 = cat_test1.rename(columns = {'neighbourhood_cleansed': 'neighbourhood'})"
   ]
  },
  {
   "cell_type": "markdown",
   "id": "de8f4dbe-6ca3-4df8-9bf0-f4198e61d40b",
   "metadata": {},
   "source": [
    "### Option 1: Frequency Encoding"
   ]
  },
  {
   "cell_type": "code",
   "execution_count": 110,
   "id": "c5b365f9-d663-440b-94cb-8fe153a7ccbb",
   "metadata": {},
   "outputs": [],
   "source": [
    "cat_train1p=func_encode_categorical_feature(cat_train1,'neighbourhood')\n",
    "cat_test1p=func_encode_categorical_feature(cat_test1,'neighbourhood')"
   ]
  },
  {
   "cell_type": "markdown",
   "id": "509de02d",
   "metadata": {
    "papermill": {
     "duration": 0.030408,
     "end_time": "2022-06-22T12:35:42.909033",
     "exception": false,
     "start_time": "2022-06-22T12:35:42.878625",
     "status": "completed"
    },
    "tags": []
   },
   "source": [
    "### Option 2: Target Encoding with additive smoothing"
   ]
  },
  {
   "cell_type": "code",
   "execution_count": 111,
   "id": "74862deb-e15b-499b-8a3a-b1ea07959902",
   "metadata": {},
   "outputs": [],
   "source": [
    "import pandas as pd\n",
    "\n",
    "def smoothed_target_encoding(data, cat_col, target_col, m=10):\n",
    "    \"\"\"\n",
    "    Apply smoothed target encoding to a categorical column.\n",
    "\n",
    "    Parameters:\n",
    "    - data: pandas DataFrame containing the data\n",
    "    - cat_col: str, name of the categorical column to encode\n",
    "    - target_col: str, name of the target column\n",
    "    - m: int or float, smoothing parameter controlling the strength of regularization\n",
    "\n",
    "    Returns:\n",
    "    - encoded_col: pandas Series of encoded values for the categorical column\n",
    "    \"\"\"\n",
    "    # Compute global mean of the target\n",
    "    global_mean = data[target_col].mean()\n",
    "\n",
    "    # Compute number of values and mean of target for each category\n",
    "    agg = data.groupby(cat_col)[target_col].agg(['count', 'mean'])\n",
    "    counts = agg['count']\n",
    "    means = agg['mean']\n",
    "\n",
    "    # Compute the smoothed means\n",
    "    smooth = (counts * means + m * global_mean) / (counts + m)\n",
    "\n",
    "    # Map the smoothed means back to the original data\n",
    "    encoded_col = data[cat_col].map(smooth)\n",
    "\n",
    "    return encoded_col\n",
    "    "
   ]
  },
  {
   "cell_type": "markdown",
   "id": "29a83349-484a-420d-b643-3288fd2679c9",
   "metadata": {},
   "source": [
    "### Encode each neighbourhood_cleansed using the mean latitude and longitude of listings within that neighborhood."
   ]
  },
  {
   "cell_type": "code",
   "execution_count": 125,
   "id": "f90f3105-4abb-43a7-a2d4-c156bbfef2b8",
   "metadata": {},
   "outputs": [
    {
     "data": {
      "text/plain": [
       "True"
      ]
     },
     "execution_count": 125,
     "metadata": {},
     "output_type": "execute_result"
    }
   ],
   "source": [
    "import plotly.express as px\n",
    "import nbformat\n",
    "# Step 1: Clean the price column\n",
    "\n",
    "df=properties_df.drop('price',axis=1)\n",
    "df=df.join(targets,on='id',how='inner')\n",
    "df['price1'] = df['price'].astype(float)\n",
    "# Step 2: Drop rows with missing coordinates or price\n",
    "map_df = df.dropna(subset=['latitude', 'longitude', 'price1'])\n",
    "\n",
    "# Optional: You can filter to reduce overcrowding (e.g. top 500 listings by price)\n",
    "map_df = map_df.sort_values('price1', ascending=False).head(500)\n",
    "# map_df.head()\n",
    "# # Step 3: Plot\n",
    "fig = px.scatter_mapbox(\n",
    "    map_df,\n",
    "    lat=\"latitude\",\n",
    "    lon=\"longitude\",\n",
    "    color=\"neighbourhood_cleansed\",\n",
    "    size=\"price1\",\n",
    "    hover_name=\"neighbourhood_cleansed\",\n",
    "    hover_data=[\"price\"],\n",
    "    zoom=10,\n",
    "    height=600\n",
    ")\n",
    "\n",
    "fig.update_layout(mapbox_style=\"open-street-map\")\n",
    "fig.update_layout(title=\"Listings by Neighbourhood and Price\", margin={\"r\":0,\"t\":30,\"l\":0,\"b\":0})\n",
    "fig.write_html(\"map.html\")\n",
    "import webbrowser\n",
    "webbrowser.open(\"map.html\") "
   ]
  },
  {
   "cell_type": "markdown",
   "id": "8b3ac360",
   "metadata": {
    "papermill": {
     "duration": 0.023175,
     "end_time": "2022-06-22T12:35:25.705157",
     "exception": false,
     "start_time": "2022-06-22T12:35:25.681982",
     "status": "completed"
    },
    "tags": []
   },
   "source": [
    "\n",
    "<a id=\"setup\"></a>\n",
    "<p style=\"background-color: #5900ffff; font-family:calibri; color:white; font-size:80%; font-family:Verdana; text-align; border-radius:30px 35px;  padding:20px\">Coverting to Numeric Data Type</p>"
   ]
  },
  {
   "cell_type": "code",
   "execution_count": 126,
   "id": "f36f065a-ca6e-4131-be71-3f7522e27ea7",
   "metadata": {},
   "outputs": [],
   "source": [
    "# Step 1: Group by neighbourhood_cleansed and calculate mean lat/lon\n",
    "geo_centroids = properties_df.groupby('neighbourhood_cleansed')[['latitude', 'longitude']].mean()\n",
    "\n",
    "# Step 2: Rename columns for clarity\n",
    "geo_centroids.columns = ['neighbourhood_lat_centroid', 'neighbourhood_lon_centroid']\n",
    "\n",
    "# # Step 3: Merge back with the original DataFrame\n",
    "# properties_df1 = properties_df.merge(geo_centroids, how='left',left_index=True)\n"
   ]
  },
  {
   "cell_type": "code",
   "execution_count": 127,
   "id": "55c184ab-23b1-46b5-8c10-7ba031a5db97",
   "metadata": {},
   "outputs": [],
   "source": [
    "# Map the latitude centroid from the groupby DataFrame\n",
    "properties_df['neighbourhood_lat_centroid'] = properties_df['neighbourhood_cleansed'].map(\n",
    "    geo_centroids['neighbourhood_lat_centroid']\n",
    ")\n",
    "properties_df['neighbourhood_lon_centroid'] = properties_df['neighbourhood_cleansed'].map(\n",
    "    geo_centroids['neighbourhood_lon_centroid']\n",
    ")\n",
    "\n"
   ]
  },
  {
   "cell_type": "markdown",
   "id": "a3213d23-ee25-42e4-9ad3-de38ef2b51da",
   "metadata": {},
   "source": [
    "# Final cleaned data"
   ]
  },
  {
   "cell_type": "markdown",
   "id": "e876cc1a",
   "metadata": {},
   "source": [
    "## Model 1"
   ]
  },
  {
   "cell_type": "code",
   "execution_count": 128,
   "id": "c0f52a1b-d520-4070-9654-6f78e66a48e1",
   "metadata": {},
   "outputs": [],
   "source": [
    "num_train_cleaned3=properties_df[['neighbourhood_lat_centroid', 'neighbourhood_lon_centroid']].join(num_train_cleaned,on='id',how='inner')"
   ]
  },
  {
   "cell_type": "code",
   "execution_count": 129,
   "id": "2025b5e2-93bd-436d-b175-9225284bd6a6",
   "metadata": {},
   "outputs": [],
   "source": [
    "num_test_cleaned3=properties_df[['neighbourhood_lat_centroid', 'neighbourhood_lon_centroid']].join(num_test_cleaned,on='id',how='inner')"
   ]
  },
  {
   "cell_type": "code",
   "execution_count": 130,
   "id": "65f703a7-1f53-42fa-b8d9-f63cd18fda43",
   "metadata": {},
   "outputs": [],
   "source": [
    "cat_train_final3 = num_train_cleaned3.join(cat_train1, on='id', how='inner').sort_index()\n"
   ]
  },
  {
   "cell_type": "code",
   "execution_count": 131,
   "id": "58bfa7b8-315e-417d-ab92-f81ee27d720d",
   "metadata": {},
   "outputs": [],
   "source": [
    "cat_test_final3=num_test_cleaned3.join(cat_test1,on='id',how='inner').sort_index()"
   ]
  },
  {
   "cell_type": "code",
   "execution_count": 132,
   "id": "961c1e9d-cce2-47f9-88a7-a10094a86655",
   "metadata": {},
   "outputs": [],
   "source": [
    "cat_train_final3.drop('neighbourhood',axis=1,inplace=True)\n",
    "cat_test_final3.drop('neighbourhood',axis=1,inplace=True)"
   ]
  },
  {
   "cell_type": "markdown",
   "id": "a8e50409-7d56-4de5-be9d-354852f02c40",
   "metadata": {},
   "source": [
    "## Model2"
   ]
  },
  {
   "cell_type": "code",
   "execution_count": 133,
   "id": "ea9c94b7-48e9-4828-ab10-0662dc19a8eb",
   "metadata": {},
   "outputs": [],
   "source": [
    "cat_train_final2=num_train_cleaned.join(cat_train1p,on='id',how='inner').sort_index()\n",
    "cat_test_final2=num_test_cleaned.join(cat_test1p,on='id',how='inner').sort_index()"
   ]
  },
  {
   "cell_type": "markdown",
   "id": "687d2255-74d3-4210-8a8e-283068d22173",
   "metadata": {
    "papermill": {
     "duration": 0.029698,
     "end_time": "2022-06-22T12:35:43.562937",
     "exception": false,
     "start_time": "2022-06-22T12:35:43.533239",
     "status": "completed"
    },
    "tags": []
   },
   "source": [
    "### Final train and test target"
   ]
  },
  {
   "cell_type": "code",
   "execution_count": 134,
   "id": "00ca3200-1ef0-4987-a027-2fbc741e977e",
   "metadata": {},
   "outputs": [],
   "source": [
    "y_train_final=y_train.loc[cat_train_final3.index].sort_index()\n",
    "y_test_final=y_test.loc[cat_test_final3.index].sort_index()"
   ]
  },
  {
   "cell_type": "code",
   "execution_count": 135,
   "id": "0689ec6b-dd46-43c8-9fc2-c495d260bd3a",
   "metadata": {},
   "outputs": [],
   "source": [
    "# List of categorical columns to convert to float\n",
    "cols_to_convert = [\n",
    "    'property_type',\n",
    "    'host_response_time',\n",
    "    'host_is_superhost',\n",
    "    'bed_type',\n",
    "    'instant_bookable',\n",
    "    'cancellation_policy'\n",
    "]\n",
    "\n",
    "# Convert selected columns to float\n",
    "cat_train_final3[cols_to_convert] = cat_train_final3[cols_to_convert].astype(float)\n",
    "cat_test_final3[cols_to_convert] = cat_test_final3[cols_to_convert].astype(float)\n",
    "# cat_train_final2[cols_to_convert] = cat_train_final3[cols_to_convert].astype(float)\n",
    "# cat_test_final2[cols_to_convert] = cat_test_final3[cols_to_convert].astype(float)"
   ]
  },
  {
   "cell_type": "markdown",
   "id": "163bd352-d99b-48f6-ac93-622dd0e5ad0f",
   "metadata": {},
   "source": [
    "### Lets feature scaling"
   ]
  },
  {
   "cell_type": "code",
   "execution_count": 136,
   "id": "41182adf-4438-4166-878b-460f9a92552a",
   "metadata": {},
   "outputs": [],
   "source": [
    "scalar=StandardScaler()\n",
    "num_cat_train3_scaled=scalar.fit_transform(cat_train_final3)\n",
    "num_cat_test3_scaled = scalar.transform(cat_test_final3)"
   ]
  },
  {
   "cell_type": "code",
   "execution_count": 137,
   "id": "8dfc5df9-bff1-4434-8384-7ac325d0c52a",
   "metadata": {},
   "outputs": [],
   "source": [
    "scalar=StandardScaler()\n",
    "num_cat_train2_scaled=scalar.fit_transform(cat_train_final2)\n",
    "num_cat_test2_scaled = scalar.transform(cat_test_final2)\n"
   ]
  },
  {
   "cell_type": "code",
   "execution_count": 138,
   "id": "dd95939f-e601-498c-a92a-9ec5fc9e2a94",
   "metadata": {},
   "outputs": [],
   "source": [
    "def fun_model(model, data, y):\n",
    "    kf = KFold(n_splits=20, shuffle=True, random_state=42)\n",
    "    model_reg = model\n",
    "    model_reg.fit(data, y)\n",
    "    \n",
    "    y_predictions = model_reg.predict(data)\n",
    "    mse = mean_squared_error(y, y_predictions)\n",
    "    rmse = np.sqrt(mse)\n",
    "    r2score = metrics.r2_score(y, y_predictions)\n",
    "\n",
    "    scoring = ['neg_mean_squared_error', 'r2']\n",
    "    cv_results = cross_validate(model_reg, data, y, scoring=scoring, cv=kf)\n",
    "\n",
    "    rmse_scores = np.sqrt(-cv_results['test_neg_mean_squared_error'])\n",
    "    r2_scores = cv_results['test_r2']\n",
    "\n",
    "    return rmse, r2score, rmse_scores, r2_scores, model_reg\n"
   ]
  },
  {
   "cell_type": "code",
   "execution_count": 139,
   "id": "481c1218-8319-4595-8070-80c3b52f29d5",
   "metadata": {},
   "outputs": [],
   "source": [
    "def display_scores(rmse_train,r2_score_train,rmse_scores_cross_val,r2_scores_cross_val):\n",
    "     print(\"rmse_train:\", rmse_train)\n",
    "     print(\"r2_score_train:\", r2_score_train)\n",
    "     print(\"rmse_scores_cross_val:\", rmse_scores_cross_val.mean())\n",
    "     print(\"r2_scores_cross_val:\",r2_scores_cross_val.mean())"
   ]
  },
  {
   "cell_type": "markdown",
   "id": "c3b934cb-e054-48a5-ad8e-fe3eea7bcaaf",
   "metadata": {},
   "source": [
    "### Let’s try another model now: the RandomForestRegressor"
   ]
  },
  {
   "cell_type": "code",
   "execution_count": 143,
   "id": "0ffc9730-8ec7-4968-9aa8-231d7cf0f851",
   "metadata": {},
   "outputs": [
    {
     "name": "stdout",
     "output_type": "stream",
     "text": [
      "rmse_train: 11.070870556629218\n",
      "r2_score_train: 0.9507035090427289\n",
      "rmse_scores_cross_val: 29.831718401867743\n",
      "r2_scores_cross_val: 0.6405497338867161\n"
     ]
    }
   ],
   "source": [
    "RFR_rmse_train, RFR_r2_score_train, RFR_rmse_scores_cross_val, RFR_r2_scores_cross_val, RFR_model=\\\n",
    "fun_model(RandomForestRegressor(n_estimators=500,n_jobs=-1),num_cat_train3_scaled,y_train_final)\n",
    "\n",
    "display_scores(RFR_rmse_train, RFR_r2_score_train, RFR_rmse_scores_cross_val, RFR_r2_scores_cross_val)"
   ]
  },
  {
   "cell_type": "markdown",
   "id": "2e7a614d-c23b-4c2b-9a37-0bb07d7bd702",
   "metadata": {},
   "source": [
    "Random Forests look very promising (r2_scores_cross_val: 0.64). However, note that\n",
    "the score on the training set (11.52650) is still much lower than on the validation sets (30.7016), meaning\n",
    "that the model is still overfitting the training set."
   ]
  },
  {
   "cell_type": "code",
   "execution_count": 144,
   "id": "d925db9e-b0ac-4e07-b312-05d3eaaf9b3d",
   "metadata": {},
   "outputs": [],
   "source": [
    "# RFR_results = {\n",
    "#     'rmse_train': RFR_rmse_train,\n",
    "#     'r2_train': RFR_r2_score_train,\n",
    "#     'rmse_cross_val': RFR_rmse_scores_cross_val,\n",
    "#     'r2_cross_val': RFR_r2_scores_cross_val,\n",
    "#     'model': RFR_model  \n",
    "# }\n",
    "# #Save metrics (not model) to CSV \n",
    "# metrics_df = pd.DataFrame({\n",
    "#     'Metric': ['RMSE_Train', 'R2_Train', 'Mean_RMSE_CV', 'Mean_R2_CV'],\n",
    "#     'Value': [RFR_rmse_train, RFR_r2_score_train, \n",
    "#               np.mean(RFR_rmse_scores_cross_val), np.mean(RFR_r2_scores_cross_val)]\n",
    "# })\n",
    "# metrics_df.to_csv('RFR_metrics.csv', index=False)\n",
    "# # Save the trained model \n",
    "# joblib.dump(RFR_model, 'RFR_model.pkl')\n",
    "# loaded_model = joblib.load('RFR_model.pkl')\n",
    "# # loaded_model = joblib.load('RFR_model.pkl')\n"
   ]
  },
  {
   "cell_type": "code",
   "execution_count": null,
   "id": "38fab7a6-6beb-4716-a1ba-cc041a0f8ec2",
   "metadata": {},
   "outputs": [],
   "source": [
    "### Let’s try XGBoost model"
   ]
  },
  {
   "cell_type": "code",
   "execution_count": 145,
   "id": "a78d5b4c-e543-41ab-9a92-d86b280932a6",
   "metadata": {},
   "outputs": [
    {
     "name": "stdout",
     "output_type": "stream",
     "text": [
      "rmse_train: 16.992121946712633\n",
      "r2_score_train: 0.8838691115379333\n",
      "rmse_scores_cross_val: 30.175851062872056\n",
      "r2_scores_cross_val: 0.631899642944336\n"
     ]
    }
   ],
   "source": [
    "xgb_rmse_train, xgb_r2_score_train, xgb_rmse_scores_cross_val, xgb_r2_scores_cross_val, xgb_model = \\\n",
    "    fun_model(xgb.XGBRegressor(objective='reg:squarederror',n_estimators =100),num_cat_train3_scaled,y_train_final)\n",
    "\n",
    "display_scores(xgb_rmse_train, xgb_r2_score_train, xgb_rmse_scores_cross_val, xgb_r2_scores_cross_val)"
   ]
  },
  {
   "cell_type": "markdown",
   "id": "782752d8-7120-4eae-9376-c62ca1090a2b",
   "metadata": {},
   "source": [
    "note that again\n",
    "the score on the training set (17) is still much lower than on the validation sets (30), meaning\n",
    "that the model is still overfitting the training set. To see the overfitting better we will use learning_curves."
   ]
  },
  {
   "cell_type": "code",
   "execution_count": 146,
   "id": "053de3e4-d922-4641-8e15-df2b0eca405d",
   "metadata": {},
   "outputs": [],
   "source": [
    "import numpy as np\n",
    "import matplotlib.pyplot as plt\n",
    "from sklearn.model_selection import train_test_split\n",
    "from sklearn.metrics import mean_squared_error\n",
    "\n",
    "def plot_learning_curves(model, X, y, step=200, model_name=None):\n",
    "    X_train, X_val, y_train, y_val = train_test_split(X, y, test_size=0.2, random_state=10)\n",
    "    train_errors, val_errors = [], []\n",
    "\n",
    "    for m in range(1, len(X_train) + 1, step):\n",
    "        model.fit(X_train[:m], y_train[:m])\n",
    "        y_train_predict = model.predict(X_train[:m])\n",
    "        y_val_predict = model.predict(X_val)\n",
    "        train_errors.append(mean_squared_error(y_train[:m], y_train_predict))\n",
    "        val_errors.append(mean_squared_error(y_val, y_val_predict))\n",
    "\n",
    "    plt.figure(figsize=(8, 6))\n",
    "    plt.plot(np.sqrt(train_errors), \"r-\", linewidth=2, label=\"Training RMSE\")\n",
    "    plt.plot(np.sqrt(val_errors), \"b-\", linewidth=2, label=\"Validation RMSE\")\n",
    "    plt.xlabel(\"Training Set Size\", fontsize=12)\n",
    "    plt.ylabel(\"Root Mean Squared Error\", fontsize=12)\n",
    "    plt.legend(fontsize=12)\n",
    "    plt.grid(True)\n",
    "\n",
    "    title = model_name if model_name else type(model).__name__\n",
    "    plt.title(f\"Learning Curves - {title}\", fontsize=14)\n",
    "    plt.tight_layout()\n",
    "    plt.show()\n"
   ]
  },
  {
   "cell_type": "markdown",
   "id": "70b45b22-bd1e-46cb-9102-df2821b6b15e",
   "metadata": {},
   "source": [
    "By plotting learning curves: There is a gap between the curves, sepcially for random frorest mode. This means that the model performs significantly better on the training data than on the validation data, which is the hallmark of an overfitting model. To reduce overfitting is to regularize the \n",
    "modl. In the next part we firt will do Fine-Tune for our Model and then we we apply the  regularization of the model.("
   ]
  },
  {
   "cell_type": "code",
   "execution_count": null,
   "id": "11f94e38-28f8-463b-9ab9-62941a10ddab",
   "metadata": {},
   "outputs": [],
   "source": [
    "# RFR_model = joblib.load('RFR_model.pkl')"
   ]
  },
  {
   "cell_type": "code",
   "execution_count": 147,
   "id": "b05722ad-5f08-49cd-8f4f-ddd984300e1e",
   "metadata": {},
   "outputs": [
    {
     "data": {
      "image/png": "[encoded data removed]",
      "text/plain": [
       "<Figure size 800x600 with 1 Axes>"
      ]
     },
     "metadata": {},
     "output_type": "display_data"
    },
    {
     "data": {
      "image/png": "[encoded data removed]",
      "text/plain": [
       "<Figure size 800x600 with 1 Axes>"
      ]
     },
     "metadata": {},
     "output_type": "display_data"
    }
   ],
   "source": [
    "plot_learning_curves(RFR_model,num_cat_train3_scaled,y_train_final, step=200, model_name=\"Random Forest\")\n",
    "plot_learning_curves(xgb_model,num_cat_train3_scaled,y_train_final, step=200, model_name=\"XGBoost\")"
   ]
  },
  {
   "cell_type": "markdown",
   "id": "3424b44a-32a3-4f91-95b9-e30314e46b4f",
   "metadata": {},
   "source": [
    "### Fine-Tune Model"
   ]
  },
  {
   "cell_type": "markdown",
   "id": "43539ae1-c0d7-4424-8018-eeee0fb74fba",
   "metadata": {},
   "source": [
    "you now have a shortlist of promising models (RFR,XGB). You now need to fine-tune them. We should get Scikit-Learn’s GridSearchCV to search for us. All you need to\n",
    "do is tell it which hyperparameters you want it to experiment with, and what values to\n",
    "try out, and it will evaluate all the possible combinations of hyperparameter values,\n",
    "using cross-validation."
   ]
  },
  {
   "cell_type": "code",
   "execution_count": 148,
   "id": "09920d57-7c47-4806-8a6f-cbd9e58ee74f",
   "metadata": {},
   "outputs": [],
   "source": [
    "RFR_param_grid = [\n",
    "{'n_estimators': [50,100,300], 'max_features': [3, 4,8],'max_depth': [None, 5, 10, 15]},\n",
    "{'bootstrap': [False], 'n_estimators': [50,100,300], 'max_features': [3, 4,8],'max_depth': [None, 5, 10, 15]}\n",
    "]"
   ]
  },
  {
   "cell_type": "code",
   "execution_count": 149,
   "id": "409fa03d-43c9-4922-89c1-8a9fb0239dfe",
   "metadata": {},
   "outputs": [],
   "source": [
    "XGB_param_grid = {\n",
    "    'n_estimators': [50,100, 300],\n",
    "    'max_depth': [3, 5, 8],\n",
    "    'learning_rate': [0.01, 0.05, .5]\n",
    "}"
   ]
  },
  {
   "cell_type": "code",
   "execution_count": 150,
   "id": "473ded64-6e02-4479-8fd2-2daec22ecf2a",
   "metadata": {},
   "outputs": [],
   "source": [
    "def grid_search(model,data_scale,data_befor_scale,y,param_grid):\n",
    "    grid_search = GridSearchCV(model, param_grid, cv=3,\n",
    "    scoring='neg_mean_squared_error',\n",
    "    return_train_score=True, verbose=2 )\n",
    "    grid_search.fit(data_scale,y)\n",
    "    best_params=grid_search.best_params_\n",
    "    best_model = grid_search.best_estimator_\n",
    "    cvres = grid_search.cv_results_\n",
    "    # for mean_score, params in zip(cvres[\"mean_test_score\"], cvres[\"params\"]):\n",
    "    #     print(np.sqrt(-mean_score), params)\n",
    "    feature_importances = grid_search.best_estimator_.feature_importances_\n",
    "    attribs=data_befor_scale.columns\n",
    "    important_features=sorted(zip(feature_importances, attribs), reverse=True)\n",
    "    # print(\"feature_importances:\",important_features)\n",
    "    return best_params,feature_importances,attribs,best_model"
   ]
  },
  {
   "cell_type": "code",
   "execution_count": 151,
   "id": "181ded2f-1cdc-471f-89f6-c2da07c53422",
   "metadata": {},
   "outputs": [
    {
     "name": "stdout",
     "output_type": "stream",
     "text": [
      "Fitting 3 folds for each of 72 candidates, totalling 216 fits\n",
      "[CV] END ....max_depth=None, max_features=3, n_estimators=50; total time=   0.6s\n",
      "[CV] END ....max_depth=None, max_features=3, n_estimators=50; total time=   0.5s\n",
      "[CV] END ....max_depth=None, max_features=3, n_estimators=50; total time=   0.6s\n",
      "[CV] END ...max_depth=None, max_features=3, n_estimators=100; total time=   1.2s\n",
      "[CV] END ...max_depth=None, max_features=3, n_estimators=100; total time=   1.2s\n",
      "[CV] END ...max_depth=None, max_features=3, n_estimators=100; total time=   1.2s\n",
      "[CV] END ...max_depth=None, max_features=3, n_estimators=300; total time=   4.8s\n",
      "[CV] END ...max_depth=None, max_features=3, n_estimators=300; total time=  10.6s\n",
      "[CV] END ...max_depth=None, max_features=3, n_estimators=300; total time=   6.9s\n",
      "[CV] END ....max_depth=None, max_features=4, n_estimators=50; total time=   1.5s\n",
      "[CV] END ....max_depth=None, max_features=4, n_estimators=50; total time=   1.9s\n",
      "[CV] END ....max_depth=None, max_features=4, n_estimators=50; total time=   2.9s\n",
      "[CV] END ...max_depth=None, max_features=4, n_estimators=100; total time=   5.0s\n",
      "[CV] END ...max_depth=None, max_features=4, n_estimators=100; total time=   3.3s\n",
      "[CV] END ...max_depth=None, max_features=4, n_estimators=100; total time=   2.6s\n",
      "[CV] END ...max_depth=None, max_features=4, n_estimators=300; total time=   8.0s\n",
      "[CV] END ...max_depth=None, max_features=4, n_estimators=300; total time=   8.6s\n",
      "[CV] END ...max_depth=None, max_features=4, n_estimators=300; total time=   8.8s\n",
      "[CV] END ....max_depth=None, max_features=8, n_estimators=50; total time=   2.2s\n",
      "[CV] END ....max_depth=None, max_features=8, n_estimators=50; total time=   2.4s\n",
      "[CV] END ....max_depth=None, max_features=8, n_estimators=50; total time=   2.3s\n",
      "[CV] END ...max_depth=None, max_features=8, n_estimators=100; total time=   4.8s\n",
      "[CV] END ...max_depth=None, max_features=8, n_estimators=100; total time=   4.7s\n",
      "[CV] END ...max_depth=None, max_features=8, n_estimators=100; total time=   5.0s\n",
      "[CV] END ...max_depth=None, max_features=8, n_estimators=300; total time=  13.6s\n",
      "[CV] END ...max_depth=None, max_features=8, n_estimators=300; total time=  14.0s\n",
      "[CV] END ...max_depth=None, max_features=8, n_estimators=300; total time=  14.4s\n",
      "[CV] END .......max_depth=5, max_features=3, n_estimators=50; total time=   0.2s\n",
      "[CV] END .......max_depth=5, max_features=3, n_estimators=50; total time=   0.3s\n",
      "[CV] END .......max_depth=5, max_features=3, n_estimators=50; total time=   0.2s\n",
      "[CV] END ......max_depth=5, max_features=3, n_estimators=100; total time=   0.6s\n",
      "[CV] END ......max_depth=5, max_features=3, n_estimators=100; total time=   0.5s\n",
      "[CV] END ......max_depth=5, max_features=3, n_estimators=100; total time=   0.6s\n",
      "[CV] END ......max_depth=5, max_features=3, n_estimators=300; total time=   2.0s\n",
      "[CV] END ......max_depth=5, max_features=3, n_estimators=300; total time=   2.0s\n",
      "[CV] END ......max_depth=5, max_features=3, n_estimators=300; total time=   2.1s\n",
      "[CV] END .......max_depth=5, max_features=4, n_estimators=50; total time=   0.3s\n",
      "[CV] END .......max_depth=5, max_features=4, n_estimators=50; total time=   0.3s\n",
      "[CV] END .......max_depth=5, max_features=4, n_estimators=50; total time=   0.3s\n",
      "[CV] END ......max_depth=5, max_features=4, n_estimators=100; total time=   0.7s\n",
      "[CV] END ......max_depth=5, max_features=4, n_estimators=100; total time=   0.7s\n",
      "[CV] END ......max_depth=5, max_features=4, n_estimators=100; total time=   0.7s\n",
      "[CV] END ......max_depth=5, max_features=4, n_estimators=300; total time=   2.2s\n",
      "[CV] END ......max_depth=5, max_features=4, n_estimators=300; total time=   2.4s\n",
      "[CV] END ......max_depth=5, max_features=4, n_estimators=300; total time=   2.0s\n",
      "[CV] END .......max_depth=5, max_features=8, n_estimators=50; total time=   0.5s\n",
      "[CV] END .......max_depth=5, max_features=8, n_estimators=50; total time=   0.4s\n",
      "[CV] END .......max_depth=5, max_features=8, n_estimators=50; total time=   0.4s\n",
      "[CV] END ......max_depth=5, max_features=8, n_estimators=100; total time=   1.0s\n",
      "[CV] END ......max_depth=5, max_features=8, n_estimators=100; total time=   1.2s\n",
      "[CV] END ......max_depth=5, max_features=8, n_estimators=100; total time=   1.0s\n",
      "[CV] END ......max_depth=5, max_features=8, n_estimators=300; total time=   3.3s\n",
      "[CV] END ......max_depth=5, max_features=8, n_estimators=300; total time=   3.3s\n",
      "[CV] END ......max_depth=5, max_features=8, n_estimators=300; total time=   3.5s\n",
      "[CV] END ......max_depth=10, max_features=3, n_estimators=50; total time=   0.5s\n",
      "[CV] END ......max_depth=10, max_features=3, n_estimators=50; total time=   0.6s\n",
      "[CV] END ......max_depth=10, max_features=3, n_estimators=50; total time=   0.5s\n",
      "[CV] END .....max_depth=10, max_features=3, n_estimators=100; total time=   1.1s\n",
      "[CV] END .....max_depth=10, max_features=3, n_estimators=100; total time=   1.1s\n",
      "[CV] END .....max_depth=10, max_features=3, n_estimators=100; total time=   1.1s\n",
      "[CV] END .....max_depth=10, max_features=3, n_estimators=300; total time=   3.2s\n",
      "[CV] END .....max_depth=10, max_features=3, n_estimators=300; total time=   3.3s\n",
      "[CV] END .....max_depth=10, max_features=3, n_estimators=300; total time=   3.4s\n",
      "[CV] END ......max_depth=10, max_features=4, n_estimators=50; total time=   0.5s\n",
      "[CV] END ......max_depth=10, max_features=4, n_estimators=50; total time=   0.6s\n",
      "[CV] END ......max_depth=10, max_features=4, n_estimators=50; total time=   0.5s\n",
      "[CV] END .....max_depth=10, max_features=4, n_estimators=100; total time=   1.1s\n",
      "[CV] END .....max_depth=10, max_features=4, n_estimators=100; total time=   1.4s\n",
      "[CV] END .....max_depth=10, max_features=4, n_estimators=100; total time=   1.2s\n",
      "[CV] END .....max_depth=10, max_features=4, n_estimators=300; total time=   3.6s\n",
      "[CV] END .....max_depth=10, max_features=4, n_estimators=300; total time=   3.8s\n",
      "[CV] END .....max_depth=10, max_features=4, n_estimators=300; total time=   4.0s\n",
      "[CV] END ......max_depth=10, max_features=8, n_estimators=50; total time=   1.0s\n",
      "[CV] END ......max_depth=10, max_features=8, n_estimators=50; total time=   0.9s\n",
      "[CV] END ......max_depth=10, max_features=8, n_estimators=50; total time=   1.0s\n",
      "[CV] END .....max_depth=10, max_features=8, n_estimators=100; total time=   1.9s\n",
      "[CV] END .....max_depth=10, max_features=8, n_estimators=100; total time=   2.0s\n",
      "[CV] END .....max_depth=10, max_features=8, n_estimators=100; total time=   2.0s\n",
      "[CV] END .....max_depth=10, max_features=8, n_estimators=300; total time=   6.1s\n",
      "[CV] END .....max_depth=10, max_features=8, n_estimators=300; total time=   6.1s\n",
      "[CV] END .....max_depth=10, max_features=8, n_estimators=300; total time=   5.9s\n",
      "[CV] END ......max_depth=15, max_features=3, n_estimators=50; total time=   0.7s\n",
      "[CV] END ......max_depth=15, max_features=3, n_estimators=50; total time=   0.7s\n",
      "[CV] END ......max_depth=15, max_features=3, n_estimators=50; total time=   0.7s\n",
      "[CV] END .....max_depth=15, max_features=3, n_estimators=100; total time=   1.5s\n",
      "[CV] END .....max_depth=15, max_features=3, n_estimators=100; total time=   1.5s\n",
      "[CV] END .....max_depth=15, max_features=3, n_estimators=100; total time=   1.5s\n",
      "[CV] END .....max_depth=15, max_features=3, n_estimators=300; total time=   4.6s\n",
      "[CV] END .....max_depth=15, max_features=3, n_estimators=300; total time=   4.7s\n",
      "[CV] END .....max_depth=15, max_features=3, n_estimators=300; total time=   5.0s\n",
      "[CV] END ......max_depth=15, max_features=4, n_estimators=50; total time=   0.9s\n",
      "[CV] END ......max_depth=15, max_features=4, n_estimators=50; total time=   0.8s\n",
      "[CV] END ......max_depth=15, max_features=4, n_estimators=50; total time=   0.9s\n",
      "[CV] END .....max_depth=15, max_features=4, n_estimators=100; total time=   1.8s\n",
      "[CV] END .....max_depth=15, max_features=4, n_estimators=100; total time=   1.9s\n",
      "[CV] END .....max_depth=15, max_features=4, n_estimators=100; total time=   2.0s\n",
      "[CV] END .....max_depth=15, max_features=4, n_estimators=300; total time=   5.5s\n",
      "[CV] END .....max_depth=15, max_features=4, n_estimators=300; total time=   5.5s\n",
      "[CV] END .....max_depth=15, max_features=4, n_estimators=300; total time=   5.6s\n",
      "[CV] END ......max_depth=15, max_features=8, n_estimators=50; total time=   1.4s\n",
      "[CV] END ......max_depth=15, max_features=8, n_estimators=50; total time=   1.5s\n",
      "[CV] END ......max_depth=15, max_features=8, n_estimators=50; total time=   1.5s\n",
      "[CV] END .....max_depth=15, max_features=8, n_estimators=100; total time=   3.1s\n",
      "[CV] END .....max_depth=15, max_features=8, n_estimators=100; total time=   3.0s\n",
      "[CV] END .....max_depth=15, max_features=8, n_estimators=100; total time=   3.0s\n",
      "[CV] END .....max_depth=15, max_features=8, n_estimators=300; total time=   9.1s\n",
      "[CV] END .....max_depth=15, max_features=8, n_estimators=300; total time=   9.1s\n",
      "[CV] END .....max_depth=15, max_features=8, n_estimators=300; total time=   9.9s\n",
      "[CV] END bootstrap=False, max_depth=None, max_features=3, n_estimators=50; total time=   1.5s\n",
      "[CV] END bootstrap=False, max_depth=None, max_features=3, n_estimators=50; total time=   1.4s\n",
      "[CV] END bootstrap=False, max_depth=None, max_features=3, n_estimators=50; total time=   1.4s\n",
      "[CV] END bootstrap=False, max_depth=None, max_features=3, n_estimators=100; total time=   2.9s\n",
      "[CV] END bootstrap=False, max_depth=None, max_features=3, n_estimators=100; total time=   2.9s\n",
      "[CV] END bootstrap=False, max_depth=None, max_features=3, n_estimators=100; total time=   3.0s\n",
      "[CV] END bootstrap=False, max_depth=None, max_features=3, n_estimators=300; total time=   9.2s\n",
      "[CV] END bootstrap=False, max_depth=None, max_features=3, n_estimators=300; total time=   9.2s\n",
      "[CV] END bootstrap=False, max_depth=None, max_features=3, n_estimators=300; total time=   9.2s\n",
      "[CV] END bootstrap=False, max_depth=None, max_features=4, n_estimators=50; total time=   1.8s\n",
      "[CV] END bootstrap=False, max_depth=None, max_features=4, n_estimators=50; total time=   1.8s\n",
      "[CV] END bootstrap=False, max_depth=None, max_features=4, n_estimators=50; total time=   1.8s\n",
      "[CV] END bootstrap=False, max_depth=None, max_features=4, n_estimators=100; total time=   3.6s\n",
      "[CV] END bootstrap=False, max_depth=None, max_features=4, n_estimators=100; total time=   3.8s\n",
      "[CV] END bootstrap=False, max_depth=None, max_features=4, n_estimators=100; total time=   3.6s\n",
      "[CV] END bootstrap=False, max_depth=None, max_features=4, n_estimators=300; total time=  12.6s\n",
      "[CV] END bootstrap=False, max_depth=None, max_features=4, n_estimators=300; total time=  10.5s\n",
      "[CV] END bootstrap=False, max_depth=None, max_features=4, n_estimators=300; total time=  10.3s\n",
      "[CV] END bootstrap=False, max_depth=None, max_features=8, n_estimators=50; total time=   2.9s\n",
      "[CV] END bootstrap=False, max_depth=None, max_features=8, n_estimators=50; total time=   2.7s\n",
      "[CV] END bootstrap=False, max_depth=None, max_features=8, n_estimators=50; total time=   2.9s\n",
      "[CV] END bootstrap=False, max_depth=None, max_features=8, n_estimators=100; total time=   5.7s\n",
      "[CV] END bootstrap=False, max_depth=None, max_features=8, n_estimators=100; total time=   6.0s\n",
      "[CV] END bootstrap=False, max_depth=None, max_features=8, n_estimators=100; total time=   6.2s\n",
      "[CV] END bootstrap=False, max_depth=None, max_features=8, n_estimators=300; total time=  17.1s\n",
      "[CV] END bootstrap=False, max_depth=None, max_features=8, n_estimators=300; total time=  17.1s\n",
      "[CV] END bootstrap=False, max_depth=None, max_features=8, n_estimators=300; total time=  16.9s\n",
      "[CV] END bootstrap=False, max_depth=5, max_features=3, n_estimators=50; total time=   0.2s\n",
      "[CV] END bootstrap=False, max_depth=5, max_features=3, n_estimators=50; total time=   0.2s\n",
      "[CV] END bootstrap=False, max_depth=5, max_features=3, n_estimators=50; total time=   0.2s\n",
      "[CV] END bootstrap=False, max_depth=5, max_features=3, n_estimators=100; total time=   0.5s\n",
      "[CV] END bootstrap=False, max_depth=5, max_features=3, n_estimators=100; total time=   0.5s\n",
      "[CV] END bootstrap=False, max_depth=5, max_features=3, n_estimators=100; total time=   0.6s\n",
      "[CV] END bootstrap=False, max_depth=5, max_features=3, n_estimators=300; total time=   1.8s\n",
      "[CV] END bootstrap=False, max_depth=5, max_features=3, n_estimators=300; total time=   1.9s\n",
      "[CV] END bootstrap=False, max_depth=5, max_features=3, n_estimators=300; total time=   2.0s\n",
      "[CV] END bootstrap=False, max_depth=5, max_features=4, n_estimators=50; total time=   0.4s\n",
      "[CV] END bootstrap=False, max_depth=5, max_features=4, n_estimators=50; total time=   0.4s\n",
      "[CV] END bootstrap=False, max_depth=5, max_features=4, n_estimators=50; total time=   0.3s\n",
      "[CV] END bootstrap=False, max_depth=5, max_features=4, n_estimators=100; total time=   0.7s\n",
      "[CV] END bootstrap=False, max_depth=5, max_features=4, n_estimators=100; total time=   0.7s\n",
      "[CV] END bootstrap=False, max_depth=5, max_features=4, n_estimators=100; total time=   0.7s\n",
      "[CV] END bootstrap=False, max_depth=5, max_features=4, n_estimators=300; total time=   2.4s\n",
      "[CV] END bootstrap=False, max_depth=5, max_features=4, n_estimators=300; total time=   2.4s\n",
      "[CV] END bootstrap=False, max_depth=5, max_features=4, n_estimators=300; total time=   2.4s\n",
      "[CV] END bootstrap=False, max_depth=5, max_features=8, n_estimators=50; total time=   0.6s\n",
      "[CV] END bootstrap=False, max_depth=5, max_features=8, n_estimators=50; total time=   0.6s\n",
      "[CV] END bootstrap=False, max_depth=5, max_features=8, n_estimators=50; total time=   0.6s\n",
      "[CV] END bootstrap=False, max_depth=5, max_features=8, n_estimators=100; total time=   1.3s\n",
      "[CV] END bootstrap=False, max_depth=5, max_features=8, n_estimators=100; total time=   1.2s\n",
      "[CV] END bootstrap=False, max_depth=5, max_features=8, n_estimators=100; total time=   1.3s\n",
      "[CV] END bootstrap=False, max_depth=5, max_features=8, n_estimators=300; total time=   3.8s\n",
      "[CV] END bootstrap=False, max_depth=5, max_features=8, n_estimators=300; total time=   3.9s\n",
      "[CV] END bootstrap=False, max_depth=5, max_features=8, n_estimators=300; total time=   3.8s\n",
      "[CV] END bootstrap=False, max_depth=10, max_features=3, n_estimators=50; total time=   0.6s\n",
      "[CV] END bootstrap=False, max_depth=10, max_features=3, n_estimators=50; total time=   0.6s\n",
      "[CV] END bootstrap=False, max_depth=10, max_features=3, n_estimators=50; total time=   0.6s\n",
      "[CV] END bootstrap=False, max_depth=10, max_features=3, n_estimators=100; total time=   1.2s\n",
      "[CV] END bootstrap=False, max_depth=10, max_features=3, n_estimators=100; total time=   1.2s\n",
      "[CV] END bootstrap=False, max_depth=10, max_features=3, n_estimators=100; total time=   1.2s\n",
      "[CV] END bootstrap=False, max_depth=10, max_features=3, n_estimators=300; total time=   3.7s\n",
      "[CV] END bootstrap=False, max_depth=10, max_features=3, n_estimators=300; total time=   3.7s\n",
      "[CV] END bootstrap=False, max_depth=10, max_features=3, n_estimators=300; total time=   3.7s\n",
      "[CV] END bootstrap=False, max_depth=10, max_features=4, n_estimators=50; total time=   0.7s\n",
      "[CV] END bootstrap=False, max_depth=10, max_features=4, n_estimators=50; total time=   0.7s\n",
      "[CV] END bootstrap=False, max_depth=10, max_features=4, n_estimators=50; total time=   0.8s\n",
      "[CV] END bootstrap=False, max_depth=10, max_features=4, n_estimators=100; total time=   1.5s\n",
      "[CV] END bootstrap=False, max_depth=10, max_features=4, n_estimators=100; total time=   1.4s\n",
      "[CV] END bootstrap=False, max_depth=10, max_features=4, n_estimators=100; total time=   1.4s\n",
      "[CV] END bootstrap=False, max_depth=10, max_features=4, n_estimators=300; total time=   4.1s\n",
      "[CV] END bootstrap=False, max_depth=10, max_features=4, n_estimators=300; total time=   4.4s\n",
      "[CV] END bootstrap=False, max_depth=10, max_features=4, n_estimators=300; total time=   4.9s\n",
      "[CV] END bootstrap=False, max_depth=10, max_features=8, n_estimators=50; total time=   1.3s\n",
      "[CV] END bootstrap=False, max_depth=10, max_features=8, n_estimators=50; total time=   1.3s\n",
      "[CV] END bootstrap=False, max_depth=10, max_features=8, n_estimators=50; total time=   1.2s\n",
      "[CV] END bootstrap=False, max_depth=10, max_features=8, n_estimators=100; total time=   2.5s\n",
      "[CV] END bootstrap=False, max_depth=10, max_features=8, n_estimators=100; total time=   2.5s\n",
      "[CV] END bootstrap=False, max_depth=10, max_features=8, n_estimators=100; total time=   2.7s\n",
      "[CV] END bootstrap=False, max_depth=10, max_features=8, n_estimators=300; total time=   7.8s\n",
      "[CV] END bootstrap=False, max_depth=10, max_features=8, n_estimators=300; total time=   7.6s\n",
      "[CV] END bootstrap=False, max_depth=10, max_features=8, n_estimators=300; total time=  15.7s\n",
      "[CV] END bootstrap=False, max_depth=15, max_features=3, n_estimators=50; total time=   4.2s\n",
      "[CV] END bootstrap=False, max_depth=15, max_features=3, n_estimators=50; total time=   1.1s\n",
      "[CV] END bootstrap=False, max_depth=15, max_features=3, n_estimators=50; total time=   1.0s\n",
      "[CV] END bootstrap=False, max_depth=15, max_features=3, n_estimators=100; total time=   9.3s\n",
      "[CV] END bootstrap=False, max_depth=15, max_features=3, n_estimators=100; total time=  10.3s\n",
      "[CV] END bootstrap=False, max_depth=15, max_features=3, n_estimators=100; total time=  12.6s\n",
      "[CV] END bootstrap=False, max_depth=15, max_features=3, n_estimators=300; total time=   6.4s\n",
      "[CV] END bootstrap=False, max_depth=15, max_features=3, n_estimators=300; total time=   5.9s\n",
      "[CV] END bootstrap=False, max_depth=15, max_features=3, n_estimators=300; total time=   6.2s\n",
      "[CV] END bootstrap=False, max_depth=15, max_features=4, n_estimators=50; total time=   1.2s\n",
      "[CV] END bootstrap=False, max_depth=15, max_features=4, n_estimators=50; total time=   1.2s\n",
      "[CV] END bootstrap=False, max_depth=15, max_features=4, n_estimators=50; total time=   1.2s\n",
      "[CV] END bootstrap=False, max_depth=15, max_features=4, n_estimators=100; total time=   2.4s\n",
      "[CV] END bootstrap=False, max_depth=15, max_features=4, n_estimators=100; total time=   2.2s\n",
      "[CV] END bootstrap=False, max_depth=15, max_features=4, n_estimators=100; total time=   2.4s\n",
      "[CV] END bootstrap=False, max_depth=15, max_features=4, n_estimators=300; total time=   7.5s\n",
      "[CV] END bootstrap=False, max_depth=15, max_features=4, n_estimators=300; total time=   7.4s\n",
      "[CV] END bootstrap=False, max_depth=15, max_features=4, n_estimators=300; total time=   7.2s\n",
      "[CV] END bootstrap=False, max_depth=15, max_features=8, n_estimators=50; total time=   1.9s\n",
      "[CV] END bootstrap=False, max_depth=15, max_features=8, n_estimators=50; total time=   2.0s\n",
      "[CV] END bootstrap=False, max_depth=15, max_features=8, n_estimators=50; total time=   2.3s\n",
      "[CV] END bootstrap=False, max_depth=15, max_features=8, n_estimators=100; total time=   4.5s\n",
      "[CV] END bootstrap=False, max_depth=15, max_features=8, n_estimators=100; total time=   4.5s\n",
      "[CV] END bootstrap=False, max_depth=15, max_features=8, n_estimators=100; total time=   4.5s\n",
      "[CV] END bootstrap=False, max_depth=15, max_features=8, n_estimators=300; total time=  13.3s\n",
      "[CV] END bootstrap=False, max_depth=15, max_features=8, n_estimators=300; total time=  14.1s\n",
      "[CV] END bootstrap=False, max_depth=15, max_features=8, n_estimators=300; total time=  20.5s\n"
     ]
    }
   ],
   "source": [
    "RFR_model=RandomForestRegressor()\n",
    "best_params_RF,feature_importances_RF,attribs_RF,best_model_RF=\\\n",
    "grid_search(RFR_model,num_cat_train3_scaled,cat_train_final3,y_train_final,RFR_param_grid)\n",
    "# print(best_params_RF)"
   ]
  },
  {
   "cell_type": "code",
   "execution_count": 145,
   "id": "d57fea50-5649-48d8-900c-9f723de19c56",
   "metadata": {},
   "outputs": [
    {
     "name": "stdout",
     "output_type": "stream",
     "text": [
      "{'bootstrap': False, 'max_depth': None, 'max_features': 4, 'n_estimators': 300}\n"
     ]
    }
   ],
   "source": [
    "print(best_params_RF)"
   ]
  },
  {
   "cell_type": "code",
   "execution_count": 139,
   "id": "9c660bf6-37b4-4db6-bd5d-f265745cab46",
   "metadata": {},
   "outputs": [
    {
     "name": "stdout",
     "output_type": "stream",
     "text": [
      "Fitting 3 folds for each of 27 candidates, totalling 81 fits\n",
      "[CV] END ...learning_rate=0.01, max_depth=3, n_estimators=50; total time=   0.1s\n",
      "[CV] END ...learning_rate=0.01, max_depth=3, n_estimators=50; total time=   0.0s\n",
      "[CV] END ...learning_rate=0.01, max_depth=3, n_estimators=50; total time=   0.0s\n",
      "[CV] END ..learning_rate=0.01, max_depth=3, n_estimators=100; total time=   0.0s\n",
      "[CV] END ..learning_rate=0.01, max_depth=3, n_estimators=100; total time=   0.0s\n",
      "[CV] END ..learning_rate=0.01, max_depth=3, n_estimators=100; total time=   0.0s\n",
      "[CV] END ..learning_rate=0.01, max_depth=3, n_estimators=300; total time=   0.1s\n",
      "[CV] END ..learning_rate=0.01, max_depth=3, n_estimators=300; total time=   0.1s\n",
      "[CV] END ..learning_rate=0.01, max_depth=3, n_estimators=300; total time=   0.1s\n",
      "[CV] END ...learning_rate=0.01, max_depth=5, n_estimators=50; total time=   0.0s\n",
      "[CV] END ...learning_rate=0.01, max_depth=5, n_estimators=50; total time=   0.0s\n",
      "[CV] END ...learning_rate=0.01, max_depth=5, n_estimators=50; total time=   0.0s\n",
      "[CV] END ..learning_rate=0.01, max_depth=5, n_estimators=100; total time=   0.0s\n",
      "[CV] END ..learning_rate=0.01, max_depth=5, n_estimators=100; total time=   0.0s\n",
      "[CV] END ..learning_rate=0.01, max_depth=5, n_estimators=100; total time=   0.0s\n",
      "[CV] END ..learning_rate=0.01, max_depth=5, n_estimators=300; total time=   0.2s\n",
      "[CV] END ..learning_rate=0.01, max_depth=5, n_estimators=300; total time=   0.2s\n",
      "[CV] END ..learning_rate=0.01, max_depth=5, n_estimators=300; total time=   0.2s\n",
      "[CV] END ...learning_rate=0.01, max_depth=8, n_estimators=50; total time=   0.1s\n",
      "[CV] END ...learning_rate=0.01, max_depth=8, n_estimators=50; total time=   0.1s\n",
      "[CV] END ...learning_rate=0.01, max_depth=8, n_estimators=50; total time=   0.0s\n",
      "[CV] END ..learning_rate=0.01, max_depth=8, n_estimators=100; total time=   0.2s\n",
      "[CV] END ..learning_rate=0.01, max_depth=8, n_estimators=100; total time=   0.2s\n",
      "[CV] END ..learning_rate=0.01, max_depth=8, n_estimators=100; total time=   0.3s\n",
      "[CV] END ..learning_rate=0.01, max_depth=8, n_estimators=300; total time=   0.9s\n",
      "[CV] END ..learning_rate=0.01, max_depth=8, n_estimators=300; total time=   0.7s\n",
      "[CV] END ..learning_rate=0.01, max_depth=8, n_estimators=300; total time=   0.7s\n",
      "[CV] END ...learning_rate=0.05, max_depth=3, n_estimators=50; total time=   0.0s\n",
      "[CV] END ...learning_rate=0.05, max_depth=3, n_estimators=50; total time=   0.0s\n",
      "[CV] END ...learning_rate=0.05, max_depth=3, n_estimators=50; total time=   0.0s\n",
      "[CV] END ..learning_rate=0.05, max_depth=3, n_estimators=100; total time=   0.0s\n",
      "[CV] END ..learning_rate=0.05, max_depth=3, n_estimators=100; total time=   0.0s\n",
      "[CV] END ..learning_rate=0.05, max_depth=3, n_estimators=100; total time=   0.0s\n",
      "[CV] END ..learning_rate=0.05, max_depth=3, n_estimators=300; total time=   0.1s\n",
      "[CV] END ..learning_rate=0.05, max_depth=3, n_estimators=300; total time=   0.1s\n",
      "[CV] END ..learning_rate=0.05, max_depth=3, n_estimators=300; total time=   0.1s\n",
      "[CV] END ...learning_rate=0.05, max_depth=5, n_estimators=50; total time=   0.0s\n",
      "[CV] END ...learning_rate=0.05, max_depth=5, n_estimators=50; total time=   0.0s\n",
      "[CV] END ...learning_rate=0.05, max_depth=5, n_estimators=50; total time=   0.0s\n",
      "[CV] END ..learning_rate=0.05, max_depth=5, n_estimators=100; total time=   0.1s\n",
      "[CV] END ..learning_rate=0.05, max_depth=5, n_estimators=100; total time=   0.0s\n",
      "[CV] END ..learning_rate=0.05, max_depth=5, n_estimators=100; total time=   0.0s\n",
      "[CV] END ..learning_rate=0.05, max_depth=5, n_estimators=300; total time=   0.3s\n",
      "[CV] END ..learning_rate=0.05, max_depth=5, n_estimators=300; total time=   0.3s\n",
      "[CV] END ..learning_rate=0.05, max_depth=5, n_estimators=300; total time=   0.3s\n",
      "[CV] END ...learning_rate=0.05, max_depth=8, n_estimators=50; total time=   0.1s\n",
      "[CV] END ...learning_rate=0.05, max_depth=8, n_estimators=50; total time=   0.1s\n",
      "[CV] END ...learning_rate=0.05, max_depth=8, n_estimators=50; total time=   0.1s\n",
      "[CV] END ..learning_rate=0.05, max_depth=8, n_estimators=100; total time=   0.2s\n",
      "[CV] END ..learning_rate=0.05, max_depth=8, n_estimators=100; total time=   0.2s\n",
      "[CV] END ..learning_rate=0.05, max_depth=8, n_estimators=100; total time=   0.2s\n",
      "[CV] END ..learning_rate=0.05, max_depth=8, n_estimators=300; total time=   0.6s\n",
      "[CV] END ..learning_rate=0.05, max_depth=8, n_estimators=300; total time=   0.6s\n",
      "[CV] END ..learning_rate=0.05, max_depth=8, n_estimators=300; total time=   0.6s\n",
      "[CV] END ....learning_rate=0.5, max_depth=3, n_estimators=50; total time=   0.0s\n",
      "[CV] END ....learning_rate=0.5, max_depth=3, n_estimators=50; total time=   0.0s\n",
      "[CV] END ....learning_rate=0.5, max_depth=3, n_estimators=50; total time=   0.0s\n",
      "[CV] END ...learning_rate=0.5, max_depth=3, n_estimators=100; total time=   0.0s\n",
      "[CV] END ...learning_rate=0.5, max_depth=3, n_estimators=100; total time=   0.0s\n",
      "[CV] END ...learning_rate=0.5, max_depth=3, n_estimators=100; total time=   0.0s\n",
      "[CV] END ...learning_rate=0.5, max_depth=3, n_estimators=300; total time=   0.1s\n",
      "[CV] END ...learning_rate=0.5, max_depth=3, n_estimators=300; total time=   0.1s\n",
      "[CV] END ...learning_rate=0.5, max_depth=3, n_estimators=300; total time=   0.1s\n",
      "[CV] END ....learning_rate=0.5, max_depth=5, n_estimators=50; total time=   0.0s\n",
      "[CV] END ....learning_rate=0.5, max_depth=5, n_estimators=50; total time=   0.0s\n",
      "[CV] END ....learning_rate=0.5, max_depth=5, n_estimators=50; total time=   0.0s\n",
      "[CV] END ...learning_rate=0.5, max_depth=5, n_estimators=100; total time=   0.1s\n",
      "[CV] END ...learning_rate=0.5, max_depth=5, n_estimators=100; total time=   0.0s\n",
      "[CV] END ...learning_rate=0.5, max_depth=5, n_estimators=100; total time=   0.0s\n",
      "[CV] END ...learning_rate=0.5, max_depth=5, n_estimators=300; total time=   0.2s\n",
      "[CV] END ...learning_rate=0.5, max_depth=5, n_estimators=300; total time=   0.2s\n",
      "[CV] END ...learning_rate=0.5, max_depth=5, n_estimators=300; total time=   0.2s\n",
      "[CV] END ....learning_rate=0.5, max_depth=8, n_estimators=50; total time=   0.0s\n",
      "[CV] END ....learning_rate=0.5, max_depth=8, n_estimators=50; total time=   0.0s\n",
      "[CV] END ....learning_rate=0.5, max_depth=8, n_estimators=50; total time=   0.0s\n",
      "[CV] END ...learning_rate=0.5, max_depth=8, n_estimators=100; total time=   0.2s\n",
      "[CV] END ...learning_rate=0.5, max_depth=8, n_estimators=100; total time=   0.2s\n",
      "[CV] END ...learning_rate=0.5, max_depth=8, n_estimators=100; total time=   0.2s\n",
      "[CV] END ...learning_rate=0.5, max_depth=8, n_estimators=300; total time=   0.6s\n",
      "[CV] END ...learning_rate=0.5, max_depth=8, n_estimators=300; total time=   0.6s\n",
      "[CV] END ...learning_rate=0.5, max_depth=8, n_estimators=300; total time=   0.6s\n"
     ]
    }
   ],
   "source": [
    "best_params_xgb,feature_importances_xgb,attribs_xgb,best_model_xgb=\\\n",
    "grid_search(xgb.XGBRegressor(objective='reg:squarederror'),num_cat_train3_scaled,cat_train_final3,y_train_final,XGB_param_grid)\n",
    "# print(best_params_xgb)\n"
   ]
  },
  {
   "cell_type": "code",
   "execution_count": 140,
   "id": "bdd290bf-d05f-4247-8731-10cb34c6bffe",
   "metadata": {},
   "outputs": [
    {
     "name": "stdout",
     "output_type": "stream",
     "text": [
      "{'learning_rate': 0.05, 'max_depth': 3, 'n_estimators': 300}\n"
     ]
    }
   ],
   "source": [
    "print(best_params_xgb)"
   ]
  },
  {
   "cell_type": "code",
   "execution_count": 141,
   "id": "507db6ee-c2ba-4e09-9240-404f7ea75aa6",
   "metadata": {},
   "outputs": [
    {
     "ename": "NameError",
     "evalue": "name 'best_params_RF' is not defined",
     "output_type": "error",
     "traceback": [
      "\u001b[1;31m---------------------------------------------------------------------------\u001b[0m",
      "\u001b[1;31mNameError\u001b[0m                                 Traceback (most recent call last)",
      "Cell \u001b[1;32mIn[141], line 5\u001b[0m\n\u001b[0;32m      3\u001b[0m \u001b[38;5;66;03m# Save the Random Forest grid search results to a pickle file\u001b[39;00m\n\u001b[0;32m      4\u001b[0m \u001b[38;5;28;01mwith\u001b[39;00m \u001b[38;5;28mopen\u001b[39m(\u001b[38;5;124m\"\u001b[39m\u001b[38;5;124mgrid_search_results_rf.pkl\u001b[39m\u001b[38;5;124m\"\u001b[39m, \u001b[38;5;124m\"\u001b[39m\u001b[38;5;124mwb\u001b[39m\u001b[38;5;124m\"\u001b[39m) \u001b[38;5;28;01mas\u001b[39;00m file_rf:\n\u001b[1;32m----> 5\u001b[0m     pickle\u001b[38;5;241m.\u001b[39mdump((\u001b[43mbest_params_RF\u001b[49m, feature_importances_RF, attribs_RF,best_model_RF), file_rf)\n\u001b[0;32m      7\u001b[0m \u001b[38;5;66;03m# Save the XGBoost grid search results to a separate pickle file\u001b[39;00m\n\u001b[0;32m      8\u001b[0m \u001b[38;5;28;01mwith\u001b[39;00m \u001b[38;5;28mopen\u001b[39m(\u001b[38;5;124m\"\u001b[39m\u001b[38;5;124mgrid_search_results_xgb.pkl\u001b[39m\u001b[38;5;124m\"\u001b[39m, \u001b[38;5;124m\"\u001b[39m\u001b[38;5;124mwb\u001b[39m\u001b[38;5;124m\"\u001b[39m) \u001b[38;5;28;01mas\u001b[39;00m file_xgb:\n",
      "\u001b[1;31mNameError\u001b[0m: name 'best_params_RF' is not defined"
     ]
    }
   ],
   "source": [
    "import pickle\n",
    "\n",
    "# Save the Random Forest grid search results to a pickle file\n",
    "with open(\"grid_search_results_rf.pkl\", \"wb\") as file_rf:\n",
    "    pickle.dump((best_params_RF, feature_importances_RF, attribs_RF,best_model_RF), file_rf)\n",
    "\n",
    "# Save the XGBoost grid search results to a separate pickle file\n",
    "with open(\"grid_search_results_xgb.pkl\", \"wb\") as file_xgb:\n",
    "    pickle.dump((best_params_xgb, feature_importances_xgb, attribs_xgb,best_model_xgb), file_xgb)\n",
    "\n",
    "# Example of how to load the saved Random Forest results (commented out)\n",
    "# with open(\"grid_search_results_rf.pkl\", \"rb\") as file_rf:\n",
    "#     best_params_RF, feature_importances_RF, attribs_RF = pickle.load(file_rf)\n"
   ]
  },
  {
   "cell_type": "code",
   "execution_count": null,
   "id": "819090e4-eb9e-4259-86ee-319646e0dd32",
   "metadata": {},
   "outputs": [],
   "source": [
    "import pickle\n",
    "# Example of how to load the saved Random Forest results (commented out)\n",
    "with open(\"grid_search_results_rf.pkl\", \"rb\") as file_rf:\n",
    "    best_params_RF,feature_importances_RF,attribs_RF,best_model_RF = pickle.load(file_rf)\n",
    "    \n",
    "\n",
    "with open(\"grid_search_results_rf.pkl\", \"rb\") as file_xgb:\n",
    "    best_params_xgb, feature_importances_xgb, attribs_xgb,best_model_xgb = pickle.load(file_xgb)"
   ]
  },
  {
   "cell_type": "code",
   "execution_count": null,
   "id": "21a8e338-8b13-463d-b2e6-5abdfa1548d4",
   "metadata": {},
   "outputs": [],
   "source": [
    "plot_learning_curves(best_model_RF,num_cat_train3_scaled,y_train_final, step=200, model_name=\"Random Forest\")"
   ]
  },
  {
   "cell_type": "markdown",
   "id": "668db37d-c404-4257-a6be-de490954e9fc",
   "metadata": {},
   "source": [
    "Overfitting has improved slightly"
   ]
  },
  {
   "cell_type": "markdown",
   "id": "1c9f1c51-d7e5-42cc-ab14-f13863472707",
   "metadata": {},
   "source": [
    "### Visualizing feature importance for both model"
   ]
  },
  {
   "cell_type": "code",
   "execution_count": 142,
   "id": "2e1f8f4c-0b9f-40c8-80f1-97150cfce3a7",
   "metadata": {},
   "outputs": [
    {
     "ename": "NameError",
     "evalue": "name 'attribs_RF' is not defined",
     "output_type": "error",
     "traceback": [
      "\u001b[1;31m---------------------------------------------------------------------------\u001b[0m",
      "\u001b[1;31mNameError\u001b[0m                                 Traceback (most recent call last)",
      "Cell \u001b[1;32mIn[142], line 5\u001b[0m\n\u001b[0;32m      1\u001b[0m \u001b[38;5;28;01mimport\u001b[39;00m\u001b[38;5;250m \u001b[39m\u001b[38;5;21;01mnumpy\u001b[39;00m\u001b[38;5;250m \u001b[39m\u001b[38;5;28;01mas\u001b[39;00m\u001b[38;5;250m \u001b[39m\u001b[38;5;21;01mnp\u001b[39;00m\n\u001b[0;32m      2\u001b[0m \u001b[38;5;28;01mimport\u001b[39;00m\u001b[38;5;250m \u001b[39m\u001b[38;5;21;01mmatplotlib\u001b[39;00m\u001b[38;5;21;01m.\u001b[39;00m\u001b[38;5;21;01mpyplot\u001b[39;00m\u001b[38;5;250m \u001b[39m\u001b[38;5;28;01mas\u001b[39;00m\u001b[38;5;250m \u001b[39m\u001b[38;5;21;01mplt\u001b[39;00m\n\u001b[0;32m      4\u001b[0m feat_imp_df_RF \u001b[38;5;241m=\u001b[39m pd\u001b[38;5;241m.\u001b[39mDataFrame({\n\u001b[1;32m----> 5\u001b[0m     \u001b[38;5;124m'\u001b[39m\u001b[38;5;124mFeature\u001b[39m\u001b[38;5;124m'\u001b[39m: \u001b[43mattribs_RF\u001b[49m,\n\u001b[0;32m      6\u001b[0m     \u001b[38;5;124m'\u001b[39m\u001b[38;5;124mImportance\u001b[39m\u001b[38;5;124m'\u001b[39m: feature_importances_RF\n\u001b[0;32m      7\u001b[0m })\n\u001b[0;32m      8\u001b[0m feat_imp_df_xgb \u001b[38;5;241m=\u001b[39m pd\u001b[38;5;241m.\u001b[39mDataFrame({\n\u001b[0;32m      9\u001b[0m     \u001b[38;5;124m'\u001b[39m\u001b[38;5;124mFeature\u001b[39m\u001b[38;5;124m'\u001b[39m: attribs_xgb,\n\u001b[0;32m     10\u001b[0m     \u001b[38;5;124m'\u001b[39m\u001b[38;5;124mImportance\u001b[39m\u001b[38;5;124m'\u001b[39m: feature_importances_xgb\n\u001b[0;32m     11\u001b[0m })\n\u001b[0;32m     12\u001b[0m \u001b[38;5;66;03m# Merge dataframes on feature name\u001b[39;00m\n",
      "\u001b[1;31mNameError\u001b[0m: name 'attribs_RF' is not defined"
     ]
    }
   ],
   "source": [
    "import numpy as np\n",
    "import matplotlib.pyplot as plt\n",
    "\n",
    "feat_imp_df_RF = pd.DataFrame({\n",
    "    'Feature': attribs_RF,\n",
    "    'Importance': feature_importances_RF\n",
    "})\n",
    "feat_imp_df_xgb = pd.DataFrame({\n",
    "    'Feature': attribs_xgb,\n",
    "    'Importance': feature_importances_xgb\n",
    "})\n",
    "# Merge dataframes on feature name\n",
    "merged_df = pd.merge(\n",
    "    feat_imp_df_RF, \n",
    "    feat_imp_df_xgb, \n",
    "    on='Feature', \n",
    "    suffixes=('_RF', '_XGB')\n",
    ")\n",
    "\n",
    "# Sort by average importance\n",
    "merged_df['Avg'] = (merged_df['Importance_RF'] + merged_df['Importance_XGB']) / 2\n",
    "merged_df = merged_df.sort_values(by='Avg', ascending=True)  # Bottom-up for barh\n",
    "\n",
    "# Plot side-by-side bars\n",
    "features = merged_df['Feature']\n",
    "y_pos = np.arange(len(features))\n",
    "\n",
    "plt.figure(figsize=(10, 8))\n",
    "bar_width = 0.4\n",
    "\n",
    "plt.barh(y_pos - bar_width/2, merged_df['Importance_RF'], height=bar_width, label='Random Forest', color='skyblue')\n",
    "plt.barh(y_pos + bar_width/2, merged_df['Importance_XGB'], height=bar_width, label='XGBoost', color='darkblue')\n",
    "\n",
    "plt.yticks(y_pos, features)\n",
    "plt.xlabel('Feature Importance')\n",
    "plt.title('Feature Importances: Random Forest vs XGBoost')\n",
    "plt.legend()\n",
    "plt.tight_layout()\n",
    "plt.show()\n"
   ]
  },
  {
   "cell_type": "markdown",
   "id": "0b434842-3165-42cf-aa88-c3e208a1e4cb",
   "metadata": {},
   "source": [
    "# Evaluate Your System on the Test Set"
   ]
  },
  {
   "cell_type": "markdown",
   "id": "10a82bbe-91b7-4956-945f-8254134a2822",
   "metadata": {},
   "source": [
    "After tweaking your models for a while, you eventually have a system that performs\n",
    "sufficiently well. Now is the time to evaluate the final model on the test set"
   ]
  },
  {
   "cell_type": "code",
   "execution_count": 156,
   "id": "d7cc0b86-d78d-497e-b8ff-154b8ff295bb",
   "metadata": {},
   "outputs": [],
   "source": [
    "y_pred_test = best_model_RF.predict(num_cat_test3_scaled)"
   ]
  },
  {
   "cell_type": "code",
   "execution_count": 157,
   "id": "46efb2ce-b5e8-40ad-af31-9a74e2f9887d",
   "metadata": {},
   "outputs": [
    {
     "data": {
      "text/plain": [
       "33.05118257647302"
      ]
     },
     "execution_count": 157,
     "metadata": {},
     "output_type": "execute_result"
    }
   ],
   "source": [
    "final_mse = mean_squared_error(y_test_final, y_pred_test)\n",
    "final_rmse = np.sqrt(final_mse)\n",
    "final_rmse"
   ]
  },
  {
   "cell_type": "code",
   "execution_count": 158,
   "id": "f9029814-2c0e-4b4b-b9ec-629585ea5928",
   "metadata": {},
   "outputs": [
    {
     "data": {
      "text/plain": [
       "0.569295525961855"
      ]
     },
     "execution_count": 158,
     "metadata": {},
     "output_type": "execute_result"
    }
   ],
   "source": [
    "metrics.r2_score(y_test_final, y_pred_test)"
   ]
  },
  {
   "cell_type": "code",
   "execution_count": 143,
   "id": "8a96bba0-50c4-49f0-9de9-edcac8490f87",
   "metadata": {},
   "outputs": [],
   "source": [
    "y_pred_test_xgb = best_model_xgb.predict(num_cat_test3_scaled)"
   ]
  },
  {
   "cell_type": "code",
   "execution_count": 144,
   "id": "6469fca8-2271-4a47-8ca0-c3a849f6c579",
   "metadata": {},
   "outputs": [
    {
     "data": {
      "text/plain": [
       "34.00132738439124"
      ]
     },
     "execution_count": 144,
     "metadata": {},
     "output_type": "execute_result"
    }
   ],
   "source": [
    "final_mse = mean_squared_error(y_test_final, y_pred_test_xgb)\n",
    "final_rmse = np.sqrt(final_mse)\n",
    "final_rmse"
   ]
  },
  {
   "cell_type": "code",
   "execution_count": 145,
   "id": "1c3fefc2-74ed-4fa4-b330-e32994096735",
   "metadata": {},
   "outputs": [
    {
     "data": {
      "text/plain": [
       "0.5441760707930443"
      ]
     },
     "execution_count": 145,
     "metadata": {},
     "output_type": "execute_result"
    }
   ],
   "source": [
    "metrics.r2_score(y_test_final, y_pred_test_xgb)"
   ]
  },
  {
   "cell_type": "code",
   "execution_count": null,
   "id": "7bc5436a-4f7d-48bb-a341-bbc343f8502f",
   "metadata": {},
   "outputs": [],
   "source": []
  }
 ],
 "metadata": {
  "kernelspec": {
   "display_name": "Python 3",
   "language": "python",
   "name": "python3"
  },
  "language_info": {
   "codemirror_mode": {
    "name": "ipython",
    "version": 3
   },
   "file_extension": ".py",
   "mimetype": "text/x-python",
   "name": "python",
   "nbconvert_exporter": "python",
   "pygments_lexer": "ipython3",
   "version": "3.10.18"
  },
  "papermill": {
   "default_parameters": {},
   "duration": 61.571224,
   "end_time": "2022-06-22T12:35:46.218369",
   "environment_variables": {},
   "exception": null,
   "input_path": "__notebook__.ipynb",
   "output_path": "__notebook__.ipynb",
   "parameters": {},
   "start_time": "2022-06-22T12:34:44.647145",
   "version": "2.3.4"
  }
 },
 "nbformat": 4,
 "nbformat_minor": 5
}
